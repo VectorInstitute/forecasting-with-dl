{
 "cells": [
  {
   "cell_type": "markdown",
   "metadata": {
    "id": "-864uOHqzdB7"
   },
   "source": [
    "# Multivariate Forecasting with DeepAR\n",
    "\n",
    "This notebook outlines the application of DeepAR, a recently-proposed transformer-based model for time series forecasting, to a Electricity Consumption Dataset. The dataset contains the hourly electricity consumption of 321 customers from 2012 to 2014.\n",
    "\n",
    "This demo uses an implementation of DeepAR from the PyTorch Forecasting package. [PyTorch Forecasting](https://github.com/jdb78/pytorch-forecasting) is a package/repository that provides convenient implementations of several leading deep learning-based forecasting models, namely [Temporal Fusion Transformers](https://arxiv.org/pdf/1912.09363.pdf), [N-BEATS](http://arxiv.org/abs/1905.10437), and [DeepAR](https://www.sciencedirect.com/science/article/pii/S0169207019301888). PyTorch Forecasting is built using [PyTorch Lightning](https://pytorch-lightning.readthedocs.io/), making it easier to train in multi-GPU compute environments, out-of-the-box. "
   ]
  },
  {
   "cell_type": "markdown",
   "metadata": {
    "id": "-9MDSilVzqdC"
   },
   "source": [
    "## Package Imports and Global Variables"
   ]
  },
  {
   "cell_type": "markdown",
   "metadata": {},
   "source": [
    "**Note for Colab users:** Run the following cell to install PyTorch Forecasting. After installation completes, you will likely need to restart the Colab runtime. If this is the case, a button `RESTART RUNTIME` will appear at the bottom of the next cell's output."
   ]
  },
  {
   "cell_type": "code",
   "execution_count": 1,
   "metadata": {},
   "outputs": [],
   "source": [
    "if 'google.colab' in str(get_ipython()):\n",
    "    !pip install pytorch-forecasting"
   ]
  },
  {
   "cell_type": "code",
   "execution_count": 2,
   "metadata": {
    "id": "j7TGAIZzlbQ-"
   },
   "outputs": [],
   "source": [
    "import os\n",
    "import warnings\n",
    "\n",
    "import pandas as pd\n",
    "import matplotlib.pyplot as plt\n",
    "import numpy as np\n",
    "\n",
    "import torch\n",
    "import pytorch_lightning as pl\n",
    "from pytorch_forecasting.data import NaNLabelEncoder\n",
    "from pytorch_lightning.callbacks import EarlyStopping\n",
    "from pytorch_forecasting.metrics import NormalDistributionLoss\n",
    "from pytorch_forecasting import TimeSeriesDataSet, Baseline, DeepAR, GroupNormalizer, MultiNormalizer, EncoderNormalizer\n",
    "\n",
    "from sklearn.metrics import mean_squared_error, mean_absolute_error, mean_absolute_percentage_error\n",
    "\n"
   ]
  },
  {
   "cell_type": "code",
   "execution_count": 3,
   "metadata": {},
   "outputs": [],
   "source": [
    "if 'google.colab' in str(get_ipython()):\n",
    "    from google.colab import drive\n",
    "    drive.mount('/content/drive')\n",
    "\n",
    "warnings.filterwarnings(\"ignore\")"
   ]
  },
  {
   "cell_type": "code",
   "execution_count": 4,
   "metadata": {
    "id": "etDuIgeQlkrR"
   },
   "outputs": [],
   "source": [
    "#DATA_PATH = \"/ssd003/projects/forecasting_bootcamp/bootcamp_datasets/electricity/electricity.csv\"\n",
    "DATA_PATH = \"BTC-USD.csv\"\n",
    "\n",
    "EPOCHS = 1\n",
    "VAL_PERC = 0.2 #.1 #Q: why this small??\n",
    "TEST_PERC = 0.1 #.005\n",
    "BATCH_SIZE = 32\n",
    "\n",
    "LAG_TIME = 7 #30\n",
    "LEAD_TIME = 7 #30"
   ]
  },
  {
   "cell_type": "markdown",
   "metadata": {
    "id": "TzrG_STazz70"
   },
   "source": [
    "## Load Data\n",
    "We start by loading the data from a CSV file from `DATA_PATH` into a dataframe. Each column of the dataframe is a different time series that measures the hourly electricity consumption of one of the 320 households included in the dataset. Additonally, there is also a column that encodes the date and time of the observations. The last column, `OT`, is dropped as it is not relevant for this demo. "
   ]
  },
  {
   "cell_type": "code",
   "execution_count": 5,
   "metadata": {
    "colab": {
     "base_uri": "https://localhost:8080/",
     "height": 835
    },
    "id": "8DVj3xr4lo1Z",
    "outputId": "88d5b5ec-134f-4807-8b28-d4a42ab4bc8d"
   },
   "outputs": [
    {
     "data": {
      "text/html": [
       "<div>\n",
       "<style scoped>\n",
       "    .dataframe tbody tr th:only-of-type {\n",
       "        vertical-align: middle;\n",
       "    }\n",
       "\n",
       "    .dataframe tbody tr th {\n",
       "        vertical-align: top;\n",
       "    }\n",
       "\n",
       "    .dataframe thead th {\n",
       "        text-align: right;\n",
       "    }\n",
       "</style>\n",
       "<table border=\"1\" class=\"dataframe\">\n",
       "  <thead>\n",
       "    <tr style=\"text-align: right;\">\n",
       "      <th></th>\n",
       "      <th>date</th>\n",
       "      <th>adj_close</th>\n",
       "    </tr>\n",
       "  </thead>\n",
       "  <tbody>\n",
       "    <tr>\n",
       "      <th>0</th>\n",
       "      <td>2014-09-17</td>\n",
       "      <td>457.334015</td>\n",
       "    </tr>\n",
       "    <tr>\n",
       "      <th>1</th>\n",
       "      <td>2014-09-18</td>\n",
       "      <td>424.440002</td>\n",
       "    </tr>\n",
       "    <tr>\n",
       "      <th>2</th>\n",
       "      <td>2014-09-19</td>\n",
       "      <td>394.795990</td>\n",
       "    </tr>\n",
       "    <tr>\n",
       "      <th>3</th>\n",
       "      <td>2014-09-20</td>\n",
       "      <td>408.903992</td>\n",
       "    </tr>\n",
       "    <tr>\n",
       "      <th>4</th>\n",
       "      <td>2014-09-21</td>\n",
       "      <td>398.821014</td>\n",
       "    </tr>\n",
       "    <tr>\n",
       "      <th>...</th>\n",
       "      <td>...</td>\n",
       "      <td>...</td>\n",
       "    </tr>\n",
       "    <tr>\n",
       "      <th>2984</th>\n",
       "      <td>2022-11-18</td>\n",
       "      <td>16697.777344</td>\n",
       "    </tr>\n",
       "    <tr>\n",
       "      <th>2985</th>\n",
       "      <td>2022-11-19</td>\n",
       "      <td>16711.546875</td>\n",
       "    </tr>\n",
       "    <tr>\n",
       "      <th>2986</th>\n",
       "      <td>2022-11-20</td>\n",
       "      <td>16291.832031</td>\n",
       "    </tr>\n",
       "    <tr>\n",
       "      <th>2987</th>\n",
       "      <td>2022-11-21</td>\n",
       "      <td>15787.284180</td>\n",
       "    </tr>\n",
       "    <tr>\n",
       "      <th>2988</th>\n",
       "      <td>2022-11-22</td>\n",
       "      <td>16202.363281</td>\n",
       "    </tr>\n",
       "  </tbody>\n",
       "</table>\n",
       "<p>2989 rows × 2 columns</p>\n",
       "</div>"
      ],
      "text/plain": [
       "           date     adj_close\n",
       "0    2014-09-17    457.334015\n",
       "1    2014-09-18    424.440002\n",
       "2    2014-09-19    394.795990\n",
       "3    2014-09-20    408.903992\n",
       "4    2014-09-21    398.821014\n",
       "...         ...           ...\n",
       "2984 2022-11-18  16697.777344\n",
       "2985 2022-11-19  16711.546875\n",
       "2986 2022-11-20  16291.832031\n",
       "2987 2022-11-21  15787.284180\n",
       "2988 2022-11-22  16202.363281\n",
       "\n",
       "[2989 rows x 2 columns]"
      ]
     },
     "execution_count": 5,
     "metadata": {},
     "output_type": "execute_result"
    }
   ],
   "source": [
    "# Load CSV into dataframe and format\n",
    "df = pd.read_csv(DATA_PATH, usecols = ['Date','Adj Close'], index_col=0)\n",
    "#df = df.iloc[:, :-1] #select all rows and all column\n",
    "df.index = pd.to_datetime(df.index)\n",
    "df = df.reset_index().rename({'Date':'date','Adj Close':'adj_close'}, axis=1) #reset_index()\n",
    "df"
   ]
  },
  {
   "cell_type": "markdown",
   "metadata": {
    "id": "ox06ZCtEz9yL"
   },
   "source": [
    "### Data Splitting\n",
    "The data is split sequentially into train, validation and test based on `VAL_PERC` and `TEST_PERC` global variables. We will withhold the last `TEST_PERC` of data for testing. In the code below, we are very careful to ensure that when training and validating the model, it does not have access to the withheld data."
   ]
  },
  {
   "cell_type": "code",
   "execution_count": 6,
   "metadata": {
    "id": "ckesYDAurY-D"
   },
   "outputs": [],
   "source": [
    "n_samples = len(df)\n",
    "n_val = int(n_samples * VAL_PERC)\n",
    "n_test = int(n_samples * TEST_PERC)\n",
    "n_train = n_samples - (n_val + n_test)\n",
    "\n",
    "# Split data into train and test\n",
    "train_df = df.iloc[:n_train, :]\n",
    "val_df = df.iloc[n_train:n_train+n_val]\n",
    "test_df = df.iloc[n_train+n_val:]"
   ]
  },
  {
   "cell_type": "markdown",
   "metadata": {},
   "source": [
    "## Data Formatting\n",
    "\n",
    "PyTorch Forecasting expects data to be formatted using its own [TimeSeriesDataSet](https://pytorch-forecasting.readthedocs.io/en/latest/data.html) objects. Building a TimeSeriesDataSet begins with a Pandas DataFrame that we need to add certain custom columns. \n",
    "\n",
    "PyTorch Forecasting models can accomodate datasets consisting of multiple, coincident time series in several ways. As per the [documentation](https://pytorch-forecasting.readthedocs.io/en/latest/data.html), a combination of `group_id` and `time_idx` identify a sample in the data, and that *if we have only one time series, to set* `group_id` *to a constant.* `time_idx` is an *integer column denoting the time index*. This, as opposed to the `date` column, is used to determine the temporal sequence of samples. "
   ]
  },
  {
   "cell_type": "code",
   "execution_count": 7,
   "metadata": {},
   "outputs": [],
   "source": [
    "# Rename index to time_idx\n",
    "#group_id and time_idx as the total ID\n",
    "#group_id for multiple time series\n",
    "\n",
    "\n",
    "train_df = train_df.reset_index().rename({'index':'time_idx'}, axis=1)\n",
    "val_df = val_df.reset_index().rename({'index':'time_idx'}, axis=1)\n",
    "test_df = test_df.reset_index().rename({'index':'time_idx'}, axis=1)\n",
    "\n",
    "#To confirm with team: we only have 1 group, right?\n",
    "# Add group id column and initialize with 0\n",
    "train_df['group_ids'] = 0\n",
    "val_df['group_ids'] = 0\n",
    "test_df['group_ids'] = 0"
   ]
  },
  {
   "cell_type": "code",
   "execution_count": 8,
   "metadata": {},
   "outputs": [
    {
     "data": {
      "text/html": [
       "<div>\n",
       "<style scoped>\n",
       "    .dataframe tbody tr th:only-of-type {\n",
       "        vertical-align: middle;\n",
       "    }\n",
       "\n",
       "    .dataframe tbody tr th {\n",
       "        vertical-align: top;\n",
       "    }\n",
       "\n",
       "    .dataframe thead th {\n",
       "        text-align: right;\n",
       "    }\n",
       "</style>\n",
       "<table border=\"1\" class=\"dataframe\">\n",
       "  <thead>\n",
       "    <tr style=\"text-align: right;\">\n",
       "      <th></th>\n",
       "      <th>time_idx</th>\n",
       "      <th>date</th>\n",
       "      <th>adj_close</th>\n",
       "      <th>group_ids</th>\n",
       "    </tr>\n",
       "  </thead>\n",
       "  <tbody>\n",
       "    <tr>\n",
       "      <th>0</th>\n",
       "      <td>2691</td>\n",
       "      <td>2022-01-29</td>\n",
       "      <td>38138.179688</td>\n",
       "      <td>0</td>\n",
       "    </tr>\n",
       "    <tr>\n",
       "      <th>1</th>\n",
       "      <td>2692</td>\n",
       "      <td>2022-01-30</td>\n",
       "      <td>37917.601563</td>\n",
       "      <td>0</td>\n",
       "    </tr>\n",
       "    <tr>\n",
       "      <th>2</th>\n",
       "      <td>2693</td>\n",
       "      <td>2022-01-31</td>\n",
       "      <td>38483.125000</td>\n",
       "      <td>0</td>\n",
       "    </tr>\n",
       "    <tr>\n",
       "      <th>3</th>\n",
       "      <td>2694</td>\n",
       "      <td>2022-02-01</td>\n",
       "      <td>38743.273438</td>\n",
       "      <td>0</td>\n",
       "    </tr>\n",
       "    <tr>\n",
       "      <th>4</th>\n",
       "      <td>2695</td>\n",
       "      <td>2022-02-02</td>\n",
       "      <td>36952.984375</td>\n",
       "      <td>0</td>\n",
       "    </tr>\n",
       "    <tr>\n",
       "      <th>...</th>\n",
       "      <td>...</td>\n",
       "      <td>...</td>\n",
       "      <td>...</td>\n",
       "      <td>...</td>\n",
       "    </tr>\n",
       "    <tr>\n",
       "      <th>293</th>\n",
       "      <td>2984</td>\n",
       "      <td>2022-11-18</td>\n",
       "      <td>16697.777344</td>\n",
       "      <td>0</td>\n",
       "    </tr>\n",
       "    <tr>\n",
       "      <th>294</th>\n",
       "      <td>2985</td>\n",
       "      <td>2022-11-19</td>\n",
       "      <td>16711.546875</td>\n",
       "      <td>0</td>\n",
       "    </tr>\n",
       "    <tr>\n",
       "      <th>295</th>\n",
       "      <td>2986</td>\n",
       "      <td>2022-11-20</td>\n",
       "      <td>16291.832031</td>\n",
       "      <td>0</td>\n",
       "    </tr>\n",
       "    <tr>\n",
       "      <th>296</th>\n",
       "      <td>2987</td>\n",
       "      <td>2022-11-21</td>\n",
       "      <td>15787.284180</td>\n",
       "      <td>0</td>\n",
       "    </tr>\n",
       "    <tr>\n",
       "      <th>297</th>\n",
       "      <td>2988</td>\n",
       "      <td>2022-11-22</td>\n",
       "      <td>16202.363281</td>\n",
       "      <td>0</td>\n",
       "    </tr>\n",
       "  </tbody>\n",
       "</table>\n",
       "<p>298 rows × 4 columns</p>\n",
       "</div>"
      ],
      "text/plain": [
       "     time_idx       date     adj_close  group_ids\n",
       "0        2691 2022-01-29  38138.179688          0\n",
       "1        2692 2022-01-30  37917.601563          0\n",
       "2        2693 2022-01-31  38483.125000          0\n",
       "3        2694 2022-02-01  38743.273438          0\n",
       "4        2695 2022-02-02  36952.984375          0\n",
       "..        ...        ...           ...        ...\n",
       "293      2984 2022-11-18  16697.777344          0\n",
       "294      2985 2022-11-19  16711.546875          0\n",
       "295      2986 2022-11-20  16291.832031          0\n",
       "296      2987 2022-11-21  15787.284180          0\n",
       "297      2988 2022-11-22  16202.363281          0\n",
       "\n",
       "[298 rows x 4 columns]"
      ]
     },
     "execution_count": 8,
     "metadata": {},
     "output_type": "execute_result"
    }
   ],
   "source": [
    "test_df"
   ]
  },
  {
   "cell_type": "code",
   "execution_count": 9,
   "metadata": {
    "id": "xp-fOakCElxZ"
   },
   "outputs": [],
   "source": [
    "# Reshape  data into single value column that is uniquely indexed by pairs of (time_idx, group_ids).\n",
    "train_df = train_df.melt(id_vars=['time_idx', 'date'], value_vars=df.columns, var_name='group_ids')\n",
    "val_df = val_df.melt(id_vars=['time_idx', 'date'], value_vars=df.columns, var_name='group_ids')\n",
    "test_df = test_df.melt(id_vars=['time_idx', 'date'], value_vars=df.columns, var_name='group_ids')"
   ]
  },
  {
   "cell_type": "code",
   "execution_count": 10,
   "metadata": {},
   "outputs": [
    {
     "data": {
      "text/html": [
       "<div>\n",
       "<style scoped>\n",
       "    .dataframe tbody tr th:only-of-type {\n",
       "        vertical-align: middle;\n",
       "    }\n",
       "\n",
       "    .dataframe tbody tr th {\n",
       "        vertical-align: top;\n",
       "    }\n",
       "\n",
       "    .dataframe thead th {\n",
       "        text-align: right;\n",
       "    }\n",
       "</style>\n",
       "<table border=\"1\" class=\"dataframe\">\n",
       "  <thead>\n",
       "    <tr style=\"text-align: right;\">\n",
       "      <th></th>\n",
       "      <th>time_idx</th>\n",
       "      <th>date</th>\n",
       "      <th>group_ids</th>\n",
       "      <th>value</th>\n",
       "    </tr>\n",
       "  </thead>\n",
       "  <tbody>\n",
       "    <tr>\n",
       "      <th>0</th>\n",
       "      <td>2691</td>\n",
       "      <td>2022-01-29</td>\n",
       "      <td>adj_close</td>\n",
       "      <td>38138.179688</td>\n",
       "    </tr>\n",
       "    <tr>\n",
       "      <th>1</th>\n",
       "      <td>2692</td>\n",
       "      <td>2022-01-30</td>\n",
       "      <td>adj_close</td>\n",
       "      <td>37917.601563</td>\n",
       "    </tr>\n",
       "    <tr>\n",
       "      <th>2</th>\n",
       "      <td>2693</td>\n",
       "      <td>2022-01-31</td>\n",
       "      <td>adj_close</td>\n",
       "      <td>38483.125000</td>\n",
       "    </tr>\n",
       "    <tr>\n",
       "      <th>3</th>\n",
       "      <td>2694</td>\n",
       "      <td>2022-02-01</td>\n",
       "      <td>adj_close</td>\n",
       "      <td>38743.273438</td>\n",
       "    </tr>\n",
       "    <tr>\n",
       "      <th>4</th>\n",
       "      <td>2695</td>\n",
       "      <td>2022-02-02</td>\n",
       "      <td>adj_close</td>\n",
       "      <td>36952.984375</td>\n",
       "    </tr>\n",
       "    <tr>\n",
       "      <th>...</th>\n",
       "      <td>...</td>\n",
       "      <td>...</td>\n",
       "      <td>...</td>\n",
       "      <td>...</td>\n",
       "    </tr>\n",
       "    <tr>\n",
       "      <th>293</th>\n",
       "      <td>2984</td>\n",
       "      <td>2022-11-18</td>\n",
       "      <td>adj_close</td>\n",
       "      <td>16697.777344</td>\n",
       "    </tr>\n",
       "    <tr>\n",
       "      <th>294</th>\n",
       "      <td>2985</td>\n",
       "      <td>2022-11-19</td>\n",
       "      <td>adj_close</td>\n",
       "      <td>16711.546875</td>\n",
       "    </tr>\n",
       "    <tr>\n",
       "      <th>295</th>\n",
       "      <td>2986</td>\n",
       "      <td>2022-11-20</td>\n",
       "      <td>adj_close</td>\n",
       "      <td>16291.832031</td>\n",
       "    </tr>\n",
       "    <tr>\n",
       "      <th>296</th>\n",
       "      <td>2987</td>\n",
       "      <td>2022-11-21</td>\n",
       "      <td>adj_close</td>\n",
       "      <td>15787.284180</td>\n",
       "    </tr>\n",
       "    <tr>\n",
       "      <th>297</th>\n",
       "      <td>2988</td>\n",
       "      <td>2022-11-22</td>\n",
       "      <td>adj_close</td>\n",
       "      <td>16202.363281</td>\n",
       "    </tr>\n",
       "  </tbody>\n",
       "</table>\n",
       "<p>298 rows × 4 columns</p>\n",
       "</div>"
      ],
      "text/plain": [
       "     time_idx       date  group_ids         value\n",
       "0        2691 2022-01-29  adj_close  38138.179688\n",
       "1        2692 2022-01-30  adj_close  37917.601563\n",
       "2        2693 2022-01-31  adj_close  38483.125000\n",
       "3        2694 2022-02-01  adj_close  38743.273438\n",
       "4        2695 2022-02-02  adj_close  36952.984375\n",
       "..        ...        ...        ...           ...\n",
       "293      2984 2022-11-18  adj_close  16697.777344\n",
       "294      2985 2022-11-19  adj_close  16711.546875\n",
       "295      2986 2022-11-20  adj_close  16291.832031\n",
       "296      2987 2022-11-21  adj_close  15787.284180\n",
       "297      2988 2022-11-22  adj_close  16202.363281\n",
       "\n",
       "[298 rows x 4 columns]"
      ]
     },
     "execution_count": 10,
     "metadata": {},
     "output_type": "execute_result"
    }
   ],
   "source": [
    "test_df"
   ]
  },
  {
   "cell_type": "markdown",
   "metadata": {},
   "source": [
    "## Dataset Definition\n",
    "Now that we have the data in the format that TimeSeriesDataset expects, we can define the `train_dataset`, `val_dataset` and `test_dataset`. For each dataset, we can pass a number of parameters that specify the characteristics of the data and how it should be processed prior to being fed to the model. Some of the arguments include: \n",
    "- `data`: (pd.DataFrame) – dataframe with sequence data - each row can be identified with `time_idx` and the `group_ids`\n",
    "- `target`: (Union[str, List[str]]) – column denoting the target or list of columns denoting the target - categorical or continous.\n",
    "- `max_encoder_length`: (int) – maximum length to encode. This is the maximum history length used by the time series dataset.\n",
    "- `max_prediction_length`: (int) – maximum prediction/decoder length (choose this not too short as it can help convergence)\n",
    "\n",
    "For additional details in regards to the `TimeSeriesDataset` class, consult the  [PyTorch Forecasting Documentation](https://pytorch-forecasting.readthedocs.io/en/stable/api/pytorch_forecasting.data.timeseries.TimeSeriesDataSet.html)."
   ]
  },
  {
   "cell_type": "code",
   "execution_count": 11,
   "metadata": {
    "colab": {
     "base_uri": "https://localhost:8080/"
    },
    "id": "qtADjCpEv7pa",
    "outputId": "33c7739e-161d-4735-de5d-e8d6c3d789d0"
   },
   "outputs": [],
   "source": [
    "# Define datasets\n",
    "train_data = TimeSeriesDataSet(\n",
    "    data=train_df,  \n",
    "    time_idx=\"time_idx\",\n",
    "    target=\"value\",\n",
    "    group_ids=['group_ids'],\n",
    "    max_encoder_length=LAG_TIME,\n",
    "    min_prediction_length=1,\n",
    "    max_prediction_length=LEAD_TIME,\n",
    "    categorical_encoders={\"group_ids\": NaNLabelEncoder().fit(train_df.group_ids)},\n",
    "    time_varying_unknown_reals=[\"value\"],\n",
    "    time_varying_known_reals=[\"time_idx\"],\n",
    "    target_normalizer=GroupNormalizer(groups=[\"group_ids\"]),\n",
    ")\n",
    "\n",
    "val_data = TimeSeriesDataSet(\n",
    "    data=val_df,  \n",
    "    time_idx=\"time_idx\",\n",
    "    target=\"value\",\n",
    "    group_ids=['group_ids'],\n",
    "    min_encoder_length=LAG_TIME,\n",
    "    max_encoder_length=LAG_TIME,\n",
    "    max_prediction_length=LEAD_TIME,\n",
    "    categorical_encoders={\"group_ids\": NaNLabelEncoder().fit(val_df.group_ids)},\n",
    "    time_varying_unknown_reals=[\"value\"],\n",
    "    time_varying_known_reals=[\"time_idx\"],\n",
    "    target_normalizer=GroupNormalizer(groups=[\"group_ids\"]),\n",
    ")\n",
    "\n",
    "test_data = TimeSeriesDataSet(\n",
    "    data=test_df,  \n",
    "    time_idx=\"time_idx\",\n",
    "    target=\"value\",\n",
    "    group_ids=['group_ids'],\n",
    "    min_encoder_length=LAG_TIME,\n",
    "    max_encoder_length=LAG_TIME,\n",
    "    max_prediction_length=LEAD_TIME,\n",
    "    categorical_encoders={\"group_ids\": NaNLabelEncoder().fit(test_df.group_ids)},\n",
    "    time_varying_unknown_reals=[\"value\"],\n",
    "    time_varying_known_reals=[\"time_idx\"],\n",
    "    target_normalizer=GroupNormalizer(groups=[\"group_ids\"]),\n",
    ")"
   ]
  },
  {
   "cell_type": "code",
   "execution_count": 12,
   "metadata": {},
   "outputs": [],
   "source": [
    "from torch.utils.data import DataLoader "
   ]
  },
  {
   "cell_type": "code",
   "execution_count": 13,
   "metadata": {},
   "outputs": [],
   "source": [
    "# Define dataloaders\n",
    "###Error shows###\n",
    "train_dataloader = train_data.to_dataloader(train=True, batch_size=BATCH_SIZE, num_workers=8)\n",
    "val_dataloader = val_data.to_dataloader(train=False, batch_size=BATCH_SIZE, num_workers=8)\n",
    "test_dataloader = test_data.to_dataloader(train=False, batch_size=BATCH_SIZE, num_workers=8)"
   ]
  },
  {
   "cell_type": "markdown",
   "metadata": {
    "id": "bDanml_70Fwd"
   },
   "source": [
    "## Model"
   ]
  },
  {
   "cell_type": "markdown",
   "metadata": {
    "id": "344xLpYG0Hho"
   },
   "source": [
    "### DeepAR Overview\n",
    "\n",
    "<p align=\"center\">\n",
    "<img width=\"750\" alt=\"DeepAR\" src=\"https://user-images.githubusercontent.com/34798787/155616570-9903ba06-cc19-46f0-b07f-36a2d53ed021.png\">\n",
    "</p>\n",
    "\n",
    "DeepAR is an autoregressive recurrent neural network for probalistic time series forecasting. Similar to NBEATS, DeepAR learns a global model from historical data of one or more time series. The same model with shared parameters is used on both the conditioning range (input) as well as the prediction range (output) and consists of mutlti-layer recurrent neural network with LSTM cells. The output of the network is recursively generated one step at a time and consists of values (e.g. mean and standard deviation) that parametize a fixed distribution. The fixed distribution is specified by a likelihood function that is chosen to match the characteristics of the data.  We can then obtain samples from the distribution to compute quantiles of interest over predictions. Some additional features of DeepAR include:\n",
    "- **Robust:** Handles time series of different magnitude as well as missing values\n",
    "- **Flexible:** Allows for covariates that are item dependent, time-dependent or both\n",
    "- **Configurable:** DeepAR allows us to specify any likelihood function as the output distribution as long as samples can easily be obtained and the log likelihood and gradients with respect to the parameters can be easily obtained"
   ]
  },
  {
   "cell_type": "markdown",
   "metadata": {},
   "source": [
    "## Model Definition\n",
    "Using the Pytorch Forecasting package, a DeepAR model can be easily initialized using the `DeepAR.from_dataset` method. This method constructs a DeepAR model using the characteristics of the TimeSeriesDataset that it is operating on. The arguments of the method include: \n",
    "- `dataset`: (TimeSeriesDataset) time series dataset\n",
    "- `hidden_size`: (int, optional) – hidden recurrent size - the most important hyperparameter along with `rnn_layers`. Defaults to 10.\n",
    "- `loss`: (DistributionLoss, optional) – Distribution loss function. Keep in mind that each distribution loss function might have specific requirements for target normalization. Defaults to `NormalDistributionLoss`.\n",
    "\n",
    "For additional details in regards to the `DeepAR` class, consult the  [PyTorch Forecasting Documentation](https://pytorch-forecasting.readthedocs.io/en/stable/api/pytorch_forecasting.models.deepar.DeepAR.html#pytorch_forecasting.models.deepar.DeepAR.from_dataset).\n"
   ]
  },
  {
   "cell_type": "code",
   "execution_count": 15,
   "metadata": {},
   "outputs": [],
   "source": [
    "# Init model with structure specified in dataset\n",
    "net = DeepAR.from_dataset(\n",
    "    dataset=train_data,\n",
    "    hidden_size=32,\n",
    "    loss=NormalDistributionLoss(),\n",
    "    learning_rate=1e-4,\n",
    ")"
   ]
  },
  {
   "cell_type": "markdown",
   "metadata": {
    "id": "t3Nd7htdpT99"
   },
   "source": [
    "## Training and Validation\n",
    "We first define a pytorch lighting trainer which encapsulates the training process and allows us to easily implement a training and validation loop with the specified parameters. The arguments to the trainer include: \n",
    "- `max_epochs`: (Optional[int]) – Stop training once this number of epochs is reached. \n",
    "- `limit_train_batches`: (Union[int, float]) – How much of training dataset to check (float = fraction, int = num_batches).\n",
    "- `limit_val_batches`: (Union[int, float]) – How much of validation dataset to check (float = fraction, int = num_batches).\n",
    "- `callbacks`: (Union[List[Callback], Callback, None]) – Add a callback or list of callbacks.\n",
    "\n",
    "Subsequently, we can use the `fit` method of the trainer with the `net`, `train_dataloader` and `val_dataloader` to perform the training and validation loop. \n",
    "\n",
    "For more information regarding the `pl.Trainer` class, consult the [PyTorch Lightning documentation](https://pytorch-lightning.readthedocs.io/en/stable/api/pytorch_lightning.trainer.trainer.html#pytorch_lightning.trainer.trainer.Trainer.validate).\n"
   ]
  },
  {
   "cell_type": "code",
   "execution_count": 16,
   "metadata": {
    "colab": {
     "base_uri": "https://localhost:8080/",
     "height": 572,
     "referenced_widgets": [
      "988e9fe383664be48284bd425b2c8498",
      "b546f750200e44c8967aafc4bc114cd6",
      "83456d02af9e44b7b8a16e690fdd8f59",
      "0e1daf5f6956428f96ed6a747419073c",
      "0ab159c6d85646708471e6e1a7e41188",
      "822a5867d4de4b41931739474f48ef9d",
      "0e56e1fd282343ce97ffe0269345598d",
      "5b682cba21424366adbdd7c655522946",
      "97bc3b57eedc45f9bf780d4c01ae1deb",
      "bd9b459110134be59323c4a1cef30852",
      "de0a5b25556747d48778dc5f4b943682",
      "6a62bec8ada24e518d8058dc1b20e028",
      "c8b193ec5b6b4ffab40afa1e59ddaad9",
      "30fea45d48f04235aaebca72d82e40cf",
      "fb296b8388874f6fb888c5cc25c6fbba",
      "7862087fad99441a8a64250e4262b27a",
      "de509e53e52b48cfaaea9700d55d313f",
      "d3d0138bbded49a396a00b1e6b51568f",
      "d8d0170bb7944f50a9b7f5690d973d5c",
      "ef63f72462fb4383a8fb08fa84495f48",
      "6df9872b5c344d5bb57bed9a623ffd9d",
      "573715aecfa44b449c26cf0d16780799"
     ]
    },
    "id": "NldRZWIpEk2M",
    "outputId": "fbdfef54-bba4-421e-bfc2-6b151d502047"
   },
   "outputs": [
    {
     "name": "stderr",
     "output_type": "stream",
     "text": [
      "Global seed set to 42\n",
      "GPU available: True, used: True\n",
      "TPU available: False, using: 0 TPU cores\n",
      "IPU available: False, using: 0 IPUs\n",
      "LOCAL_RANK: 0 - CUDA_VISIBLE_DEVICES: [0]\n",
      "Set SLURM handle signals.\n",
      "\n",
      "  | Name                   | Type                   | Params\n",
      "------------------------------------------------------------------\n",
      "0 | loss                   | NormalDistributionLoss | 0     \n",
      "1 | logging_metrics        | ModuleList             | 0     \n",
      "2 | embeddings             | MultiEmbedding         | 0     \n",
      "3 | rnn                    | LSTM                   | 13.1 K\n",
      "4 | distribution_projector | Linear                 | 66    \n",
      "------------------------------------------------------------------\n",
      "13.1 K    Trainable params\n",
      "0         Non-trainable params\n",
      "13.1 K    Total params\n",
      "0.052     Total estimated model params size (MB)\n"
     ]
    },
    {
     "data": {
      "application/vnd.jupyter.widget-view+json": {
       "model_id": "b9b8e0231048403eae5169f4bcf8e44f",
       "version_major": 2,
       "version_minor": 0
      },
      "text/plain": [
       "Validation sanity check: 0it [00:00, ?it/s]"
      ]
     },
     "metadata": {},
     "output_type": "display_data"
    },
    {
     "name": "stderr",
     "output_type": "stream",
     "text": [
      "Global seed set to 42\n"
     ]
    },
    {
     "data": {
      "application/vnd.jupyter.widget-view+json": {
       "model_id": "7bf7a203fb9a46b280c602bbdfa44384",
       "version_major": 2,
       "version_minor": 0
      },
      "text/plain": [
       "Training: 0it [00:00, ?it/s]"
      ]
     },
     "metadata": {},
     "output_type": "display_data"
    },
    {
     "data": {
      "application/vnd.jupyter.widget-view+json": {
       "model_id": "1e240b8713c8433cb9021474d506637d",
       "version_major": 2,
       "version_minor": 0
      },
      "text/plain": [
       "Validating: 0it [00:00, ?it/s]"
      ]
     },
     "metadata": {},
     "output_type": "display_data"
    }
   ],
   "source": [
    "# Set random seed \n",
    "pl.seed_everything(42)\n",
    "\n",
    "# Define early stopping criteria\n",
    "early_stop_callback = EarlyStopping(monitor=\"val_loss\", min_delta=1e-4, patience=10, verbose=False, mode=\"min\")\n",
    "\n",
    "# Init pytorch lightning trainer\n",
    "trainer = pl.Trainer(\n",
    "    max_epochs=EPOCHS,\n",
    "    gpus=1,\n",
    "    gradient_clip_val=0.1,\n",
    "    callbacks=[early_stop_callback],\n",
    "    limit_train_batches=.2,\n",
    "    limit_val_batches=.2,\n",
    ")\n",
    "\n",
    "# Train and Validate Model\n",
    "trainer.fit(\n",
    "    net,\n",
    "    train_dataloader=train_dataloader,\n",
    "    val_dataloaders=val_dataloader\n",
    ")"
   ]
  },
  {
   "cell_type": "markdown",
   "metadata": {},
   "source": [
    "## Testing"
   ]
  },
  {
   "cell_type": "markdown",
   "metadata": {},
   "source": [
    "### Visualize Predictions"
   ]
  },
  {
   "cell_type": "markdown",
   "metadata": {
    "id": "ZemHI5NUpWI6"
   },
   "source": [
    "With the trained model from the previous step, we can apply it to the test set to get an unbias estimate of the models performance. Additionally, we can visualize the results to build some intuition about the forecasts being generated."
   ]
  },
  {
   "cell_type": "code",
   "execution_count": 17,
   "metadata": {
    "id": "KHSFykouVZt1",
    "scrolled": true
   },
   "outputs": [],
   "source": [
    "# Load best model from checkpoint\n",
    "best_model_path = trainer.checkpoint_callback.best_model_path\n",
    "best_model = DeepAR.load_from_checkpoint(best_model_path)\n",
    "best_model = best_model.cuda()"
   ]
  },
  {
   "cell_type": "code",
   "execution_count": 18,
   "metadata": {
    "id": "n4nV_25Rbtjc"
   },
   "outputs": [
    {
     "data": {
      "application/vnd.jupyter.widget-view+json": {
       "model_id": "d172951d6f6949d1bf473e8008f5ad7e",
       "version_major": 2,
       "version_minor": 0
      },
      "text/plain": [
       "Predict:   0%|          | 0/9 [00:00<?, ? batches/s]"
      ]
     },
     "metadata": {},
     "output_type": "display_data"
    },
    {
     "name": "stdout",
     "output_type": "stream",
     "text": [
      "torch.Size([285, 7]) torch.Size([285, 7]) torch.Size([285, 7]) torch.Size([285, 1])\n"
     ]
    }
   ],
   "source": [
    "# Get predictions from test dataset\n",
    "preds = best_model.predict(test_dataloader, show_progress_bar=True)\n",
    "\n",
    "# Aggregate inputs, ground truth and classes into tensor alligned with predictions\n",
    "input_list, true_list, class_list = [], [], []\n",
    "for x, y in test_dataloader: \n",
    "    input_list.append(x[\"encoder_target\"])\n",
    "    true_list.append(y[0])\n",
    "    class_list.append(x[\"groups\"])\n",
    "\n",
    "inputs = torch.cat(input_list)\n",
    "trues = torch.cat(true_list)\n",
    "classes = torch.cat(class_list)\n",
    "\n",
    "print(inputs.shape, preds.shape, trues.shape, classes.shape)"
   ]
  },
  {
   "cell_type": "code",
   "execution_count": 19,
   "metadata": {
    "id": "hk6KTDj0Vi2G"
   },
   "outputs": [
    {
     "name": "stdout",
     "output_type": "stream",
     "text": [
      "torch.Size([10, 7]) torch.Size([10, 7]) torch.Size([10, 7]) torch.Size([10, 1])\n"
     ]
    }
   ],
   "source": [
    "# Select indices of samples to visualize\n",
    "n_samples = 10\n",
    "ss_indices = np.random.choice(range(preds.shape[0]), n_samples, replace=False)\n",
    "ss_pred = preds[ss_indices]\n",
    "ss_true = trues[ss_indices]\n",
    "ss_input = inputs[ss_indices]\n",
    "ss_class = classes[ss_indices]\n",
    "\n",
    "print(ss_input.shape, ss_pred.shape, ss_true.shape, ss_class.shape)"
   ]
  },
  {
   "cell_type": "code",
   "execution_count": 20,
   "metadata": {
    "id": "D8hETTQbfAtm"
   },
   "outputs": [
    {
     "data": {
      "image/png": "[encoded data removed]",
      "text/plain": [
       "<Figure size 1440x5760 with 10 Axes>"
      ]
     },
     "metadata": {
      "needs_background": "light"
     },
     "output_type": "display_data"
    }
   ],
   "source": [
    "# Loop through samples and plot input, ground truth and prediction\n",
    "f, axarr = plt.subplots(n_samples, 1, figsize=(20, 80))\n",
    "for i in range(n_samples):\n",
    "    series_preds = ss_pred[i, :].squeeze()\n",
    "    series_trues = ss_true[i, :].squeeze()\n",
    "    series_inputs = ss_input[i, :].squeeze()\n",
    "\n",
    "    feat_name = str(ss_class[i].item())\n",
    "    \n",
    "    input_len = series_inputs.shape[0]\n",
    "    pred_gt_len = series_preds.shape[0]\n",
    "    input_x = np.array([i for i in range(input_len)])\n",
    "    x = np.array([i for i in range(input_len, input_len+pred_gt_len)])\n",
    "    axarr[i].plot(x, series_preds, c=\"blue\", label=\"predictions\")\n",
    "    axarr[i].plot(x, series_trues, c=\"red\", label=\"ground truth\")\n",
    "    axarr[i].plot(input_x, series_inputs, c=\"green\", label=\"input\")\n",
    "    axarr[i].legend()\n",
    "    axarr[i].set_title(feat_name)"
   ]
  },
  {
   "cell_type": "markdown",
   "metadata": {
    "id": "rNij2PmspBWu"
   },
   "source": [
    "### Quantitative Resutls\n",
    "To assess the performance of DeepAR on the dataset, we calculate its performance on the test set using a set of metrics that are commonly used in time series forecasting. The metrics include Mean Absolute Error (MAE) and Mean Squared Error (MSE). \n"
   ]
  },
  {
   "cell_type": "code",
   "execution_count": 21,
   "metadata": {
    "id": "EdwgF8KQpAao"
   },
   "outputs": [
    {
     "name": "stdout",
     "output_type": "stream",
     "text": [
      "MSE: 90048584.0 MAE: 8491.787109375\n"
     ]
    }
   ],
   "source": [
    "# Calculate losses\n",
    "mse = mean_squared_error(trues.cpu().numpy(), preds.cpu().numpy())\n",
    "mae = mean_absolute_error(trues.cpu().numpy(), preds.cpu().numpy())\n",
    "\n",
    "print(f\"MSE: {mse} MAE: {mae}\")"
   ]
  },
  {
   "cell_type": "code",
   "execution_count": null,
   "metadata": {},
   "outputs": [],
   "source": []
  }
 ],
 "metadata": {
  "accelerator": "GPU",
  "colab": {
   "background_execution": "on",
   "collapsed_sections": [],
   "machine_shape": "hm",
   "name": "deepar_electricty_notebook.ipynb",
   "provenance": []
  },
  "kernelspec": {
   "display_name": "forecasting",
   "language": "python",
   "name": "forecasting"
  },
  "language_info": {
   "codemirror_mode": {
    "name": "ipython",
    "version": 3
   },
   "file_extension": ".py",
   "mimetype": "text/x-python",
   "name": "python",
   "nbconvert_exporter": "python",
   "pygments_lexer": "ipython3",
   "version": "3.8.0"
  },
  "widgets": {
   "application/vnd.jupyter.widget-state+json": {
    "0ab159c6d85646708471e6e1a7e41188": {
     "model_module": "@jupyter-widgets/controls",
     "model_module_version": "1.5.0",
     "model_name": "HTMLModel",
     "state": {
      "_dom_classes": [],
      "_model_module": "@jupyter-widgets/controls",
      "_model_module_version": "1.5.0",
      "_model_name": "HTMLModel",
      "_view_count": null,
      "_view_module": "@jupyter-widgets/controls",
      "_view_module_version": "1.5.0",
      "_view_name": "HTMLView",
      "description": "",
      "description_tooltip": null,
      "layout": "IPY_MODEL_de0a5b25556747d48778dc5f4b943682",
      "placeholder": "​",
      "style": "IPY_MODEL_bd9b459110134be59323c4a1cef30852",
      "value": " 2/2 [00:00&lt;00:00,  5.38it/s]"
     }
    },
    "0e1daf5f6956428f96ed6a747419073c": {
     "model_module": "@jupyter-widgets/controls",
     "model_module_version": "1.5.0",
     "model_name": "FloatProgressModel",
     "state": {
      "_dom_classes": [],
      "_model_module": "@jupyter-widgets/controls",
      "_model_module_version": "1.5.0",
      "_model_name": "FloatProgressModel",
      "_view_count": null,
      "_view_module": "@jupyter-widgets/controls",
      "_view_module_version": "1.5.0",
      "_view_name": "ProgressView",
      "bar_style": "",
      "description": "",
      "description_tooltip": null,
      "layout": "IPY_MODEL_97bc3b57eedc45f9bf780d4c01ae1deb",
      "max": 2,
      "min": 0,
      "orientation": "horizontal",
      "style": "IPY_MODEL_5b682cba21424366adbdd7c655522946",
      "value": 2
     }
    },
    "0e56e1fd282343ce97ffe0269345598d": {
     "model_module": "@jupyter-widgets/base",
     "model_module_version": "1.2.0",
     "model_name": "LayoutModel",
     "state": {
      "_model_module": "@jupyter-widgets/base",
      "_model_module_version": "1.2.0",
      "_model_name": "LayoutModel",
      "_view_count": null,
      "_view_module": "@jupyter-widgets/base",
      "_view_module_version": "1.2.0",
      "_view_name": "LayoutView",
      "align_content": null,
      "align_items": null,
      "align_self": null,
      "border": null,
      "bottom": null,
      "display": null,
      "flex": null,
      "flex_flow": null,
      "grid_area": null,
      "grid_auto_columns": null,
      "grid_auto_flow": null,
      "grid_auto_rows": null,
      "grid_column": null,
      "grid_gap": null,
      "grid_row": null,
      "grid_template_areas": null,
      "grid_template_columns": null,
      "grid_template_rows": null,
      "height": null,
      "justify_content": null,
      "justify_items": null,
      "left": null,
      "margin": null,
      "max_height": null,
      "max_width": null,
      "min_height": null,
      "min_width": null,
      "object_fit": null,
      "object_position": null,
      "order": null,
      "overflow": null,
      "overflow_x": null,
      "overflow_y": null,
      "padding": null,
      "right": null,
      "top": null,
      "visibility": null,
      "width": null
     }
    },
    "30fea45d48f04235aaebca72d82e40cf": {
     "model_module": "@jupyter-widgets/controls",
     "model_module_version": "1.5.0",
     "model_name": "HTMLModel",
     "state": {
      "_dom_classes": [],
      "_model_module": "@jupyter-widgets/controls",
      "_model_module_version": "1.5.0",
      "_model_name": "HTMLModel",
      "_view_count": null,
      "_view_module": "@jupyter-widgets/controls",
      "_view_module_version": "1.5.0",
      "_view_name": "HTMLView",
      "description": "",
      "description_tooltip": null,
      "layout": "IPY_MODEL_d3d0138bbded49a396a00b1e6b51568f",
      "placeholder": "​",
      "style": "IPY_MODEL_de509e53e52b48cfaaea9700d55d313f",
      "value": "Epoch 0:   2%"
     }
    },
    "573715aecfa44b449c26cf0d16780799": {
     "model_module": "@jupyter-widgets/base",
     "model_module_version": "1.2.0",
     "model_name": "LayoutModel",
     "state": {
      "_model_module": "@jupyter-widgets/base",
      "_model_module_version": "1.2.0",
      "_model_name": "LayoutModel",
      "_view_count": null,
      "_view_module": "@jupyter-widgets/base",
      "_view_module_version": "1.2.0",
      "_view_name": "LayoutView",
      "align_content": null,
      "align_items": null,
      "align_self": null,
      "border": null,
      "bottom": null,
      "display": null,
      "flex": null,
      "flex_flow": null,
      "grid_area": null,
      "grid_auto_columns": null,
      "grid_auto_flow": null,
      "grid_auto_rows": null,
      "grid_column": null,
      "grid_gap": null,
      "grid_row": null,
      "grid_template_areas": null,
      "grid_template_columns": null,
      "grid_template_rows": null,
      "height": null,
      "justify_content": null,
      "justify_items": null,
      "left": null,
      "margin": null,
      "max_height": null,
      "max_width": null,
      "min_height": null,
      "min_width": null,
      "object_fit": null,
      "object_position": null,
      "order": null,
      "overflow": null,
      "overflow_x": null,
      "overflow_y": null,
      "padding": null,
      "right": null,
      "top": null,
      "visibility": null,
      "width": null
     }
    },
    "5b682cba21424366adbdd7c655522946": {
     "model_module": "@jupyter-widgets/controls",
     "model_module_version": "1.5.0",
     "model_name": "ProgressStyleModel",
     "state": {
      "_model_module": "@jupyter-widgets/controls",
      "_model_module_version": "1.5.0",
      "_model_name": "ProgressStyleModel",
      "_view_count": null,
      "_view_module": "@jupyter-widgets/base",
      "_view_module_version": "1.2.0",
      "_view_name": "StyleView",
      "bar_color": null,
      "description_width": ""
     }
    },
    "6a62bec8ada24e518d8058dc1b20e028": {
     "model_module": "@jupyter-widgets/controls",
     "model_module_version": "1.5.0",
     "model_name": "HBoxModel",
     "state": {
      "_dom_classes": [],
      "_model_module": "@jupyter-widgets/controls",
      "_model_module_version": "1.5.0",
      "_model_name": "HBoxModel",
      "_view_count": null,
      "_view_module": "@jupyter-widgets/controls",
      "_view_module_version": "1.5.0",
      "_view_name": "HBoxView",
      "box_style": "",
      "children": [
       "IPY_MODEL_30fea45d48f04235aaebca72d82e40cf",
       "IPY_MODEL_fb296b8388874f6fb888c5cc25c6fbba",
       "IPY_MODEL_7862087fad99441a8a64250e4262b27a"
      ],
      "layout": "IPY_MODEL_c8b193ec5b6b4ffab40afa1e59ddaad9"
     }
    },
    "6df9872b5c344d5bb57bed9a623ffd9d": {
     "model_module": "@jupyter-widgets/controls",
     "model_module_version": "1.5.0",
     "model_name": "DescriptionStyleModel",
     "state": {
      "_model_module": "@jupyter-widgets/controls",
      "_model_module_version": "1.5.0",
      "_model_name": "DescriptionStyleModel",
      "_view_count": null,
      "_view_module": "@jupyter-widgets/base",
      "_view_module_version": "1.2.0",
      "_view_name": "StyleView",
      "description_width": ""
     }
    },
    "7862087fad99441a8a64250e4262b27a": {
     "model_module": "@jupyter-widgets/controls",
     "model_module_version": "1.5.0",
     "model_name": "HTMLModel",
     "state": {
      "_dom_classes": [],
      "_model_module": "@jupyter-widgets/controls",
      "_model_module_version": "1.5.0",
      "_model_name": "HTMLModel",
      "_view_count": null,
      "_view_module": "@jupyter-widgets/controls",
      "_view_module_version": "1.5.0",
      "_view_name": "HTMLView",
      "description": "",
      "description_tooltip": null,
      "layout": "IPY_MODEL_573715aecfa44b449c26cf0d16780799",
      "placeholder": "​",
      "style": "IPY_MODEL_6df9872b5c344d5bb57bed9a623ffd9d",
      "value": " 1320/59034 [00:41&lt;30:34, 31.46it/s, loss=6.65, v_num=19, train_loss_step=6.310]"
     }
    },
    "822a5867d4de4b41931739474f48ef9d": {
     "model_module": "@jupyter-widgets/controls",
     "model_module_version": "1.5.0",
     "model_name": "DescriptionStyleModel",
     "state": {
      "_model_module": "@jupyter-widgets/controls",
      "_model_module_version": "1.5.0",
      "_model_name": "DescriptionStyleModel",
      "_view_count": null,
      "_view_module": "@jupyter-widgets/base",
      "_view_module_version": "1.2.0",
      "_view_name": "StyleView",
      "description_width": ""
     }
    },
    "83456d02af9e44b7b8a16e690fdd8f59": {
     "model_module": "@jupyter-widgets/controls",
     "model_module_version": "1.5.0",
     "model_name": "HTMLModel",
     "state": {
      "_dom_classes": [],
      "_model_module": "@jupyter-widgets/controls",
      "_model_module_version": "1.5.0",
      "_model_name": "HTMLModel",
      "_view_count": null,
      "_view_module": "@jupyter-widgets/controls",
      "_view_module_version": "1.5.0",
      "_view_name": "HTMLView",
      "description": "",
      "description_tooltip": null,
      "layout": "IPY_MODEL_0e56e1fd282343ce97ffe0269345598d",
      "placeholder": "​",
      "style": "IPY_MODEL_822a5867d4de4b41931739474f48ef9d",
      "value": "Validation sanity check: 100%"
     }
    },
    "97bc3b57eedc45f9bf780d4c01ae1deb": {
     "model_module": "@jupyter-widgets/base",
     "model_module_version": "1.2.0",
     "model_name": "LayoutModel",
     "state": {
      "_model_module": "@jupyter-widgets/base",
      "_model_module_version": "1.2.0",
      "_model_name": "LayoutModel",
      "_view_count": null,
      "_view_module": "@jupyter-widgets/base",
      "_view_module_version": "1.2.0",
      "_view_name": "LayoutView",
      "align_content": null,
      "align_items": null,
      "align_self": null,
      "border": null,
      "bottom": null,
      "display": null,
      "flex": "2",
      "flex_flow": null,
      "grid_area": null,
      "grid_auto_columns": null,
      "grid_auto_flow": null,
      "grid_auto_rows": null,
      "grid_column": null,
      "grid_gap": null,
      "grid_row": null,
      "grid_template_areas": null,
      "grid_template_columns": null,
      "grid_template_rows": null,
      "height": null,
      "justify_content": null,
      "justify_items": null,
      "left": null,
      "margin": null,
      "max_height": null,
      "max_width": null,
      "min_height": null,
      "min_width": null,
      "object_fit": null,
      "object_position": null,
      "order": null,
      "overflow": null,
      "overflow_x": null,
      "overflow_y": null,
      "padding": null,
      "right": null,
      "top": null,
      "visibility": null,
      "width": null
     }
    },
    "988e9fe383664be48284bd425b2c8498": {
     "model_module": "@jupyter-widgets/controls",
     "model_module_version": "1.5.0",
     "model_name": "HBoxModel",
     "state": {
      "_dom_classes": [],
      "_model_module": "@jupyter-widgets/controls",
      "_model_module_version": "1.5.0",
      "_model_name": "HBoxModel",
      "_view_count": null,
      "_view_module": "@jupyter-widgets/controls",
      "_view_module_version": "1.5.0",
      "_view_name": "HBoxView",
      "box_style": "",
      "children": [
       "IPY_MODEL_83456d02af9e44b7b8a16e690fdd8f59",
       "IPY_MODEL_0e1daf5f6956428f96ed6a747419073c",
       "IPY_MODEL_0ab159c6d85646708471e6e1a7e41188"
      ],
      "layout": "IPY_MODEL_b546f750200e44c8967aafc4bc114cd6"
     }
    },
    "b546f750200e44c8967aafc4bc114cd6": {
     "model_module": "@jupyter-widgets/base",
     "model_module_version": "1.2.0",
     "model_name": "LayoutModel",
     "state": {
      "_model_module": "@jupyter-widgets/base",
      "_model_module_version": "1.2.0",
      "_model_name": "LayoutModel",
      "_view_count": null,
      "_view_module": "@jupyter-widgets/base",
      "_view_module_version": "1.2.0",
      "_view_name": "LayoutView",
      "align_content": null,
      "align_items": null,
      "align_self": null,
      "border": null,
      "bottom": null,
      "display": "inline-flex",
      "flex": null,
      "flex_flow": "row wrap",
      "grid_area": null,
      "grid_auto_columns": null,
      "grid_auto_flow": null,
      "grid_auto_rows": null,
      "grid_column": null,
      "grid_gap": null,
      "grid_row": null,
      "grid_template_areas": null,
      "grid_template_columns": null,
      "grid_template_rows": null,
      "height": null,
      "justify_content": null,
      "justify_items": null,
      "left": null,
      "margin": null,
      "max_height": null,
      "max_width": null,
      "min_height": null,
      "min_width": null,
      "object_fit": null,
      "object_position": null,
      "order": null,
      "overflow": null,
      "overflow_x": null,
      "overflow_y": null,
      "padding": null,
      "right": null,
      "top": null,
      "visibility": null,
      "width": "100%"
     }
    },
    "bd9b459110134be59323c4a1cef30852": {
     "model_module": "@jupyter-widgets/controls",
     "model_module_version": "1.5.0",
     "model_name": "DescriptionStyleModel",
     "state": {
      "_model_module": "@jupyter-widgets/controls",
      "_model_module_version": "1.5.0",
      "_model_name": "DescriptionStyleModel",
      "_view_count": null,
      "_view_module": "@jupyter-widgets/base",
      "_view_module_version": "1.2.0",
      "_view_name": "StyleView",
      "description_width": ""
     }
    },
    "c8b193ec5b6b4ffab40afa1e59ddaad9": {
     "model_module": "@jupyter-widgets/base",
     "model_module_version": "1.2.0",
     "model_name": "LayoutModel",
     "state": {
      "_model_module": "@jupyter-widgets/base",
      "_model_module_version": "1.2.0",
      "_model_name": "LayoutModel",
      "_view_count": null,
      "_view_module": "@jupyter-widgets/base",
      "_view_module_version": "1.2.0",
      "_view_name": "LayoutView",
      "align_content": null,
      "align_items": null,
      "align_self": null,
      "border": null,
      "bottom": null,
      "display": "inline-flex",
      "flex": null,
      "flex_flow": "row wrap",
      "grid_area": null,
      "grid_auto_columns": null,
      "grid_auto_flow": null,
      "grid_auto_rows": null,
      "grid_column": null,
      "grid_gap": null,
      "grid_row": null,
      "grid_template_areas": null,
      "grid_template_columns": null,
      "grid_template_rows": null,
      "height": null,
      "justify_content": null,
      "justify_items": null,
      "left": null,
      "margin": null,
      "max_height": null,
      "max_width": null,
      "min_height": null,
      "min_width": null,
      "object_fit": null,
      "object_position": null,
      "order": null,
      "overflow": null,
      "overflow_x": null,
      "overflow_y": null,
      "padding": null,
      "right": null,
      "top": null,
      "visibility": null,
      "width": "100%"
     }
    },
    "d3d0138bbded49a396a00b1e6b51568f": {
     "model_module": "@jupyter-widgets/base",
     "model_module_version": "1.2.0",
     "model_name": "LayoutModel",
     "state": {
      "_model_module": "@jupyter-widgets/base",
      "_model_module_version": "1.2.0",
      "_model_name": "LayoutModel",
      "_view_count": null,
      "_view_module": "@jupyter-widgets/base",
      "_view_module_version": "1.2.0",
      "_view_name": "LayoutView",
      "align_content": null,
      "align_items": null,
      "align_self": null,
      "border": null,
      "bottom": null,
      "display": null,
      "flex": null,
      "flex_flow": null,
      "grid_area": null,
      "grid_auto_columns": null,
      "grid_auto_flow": null,
      "grid_auto_rows": null,
      "grid_column": null,
      "grid_gap": null,
      "grid_row": null,
      "grid_template_areas": null,
      "grid_template_columns": null,
      "grid_template_rows": null,
      "height": null,
      "justify_content": null,
      "justify_items": null,
      "left": null,
      "margin": null,
      "max_height": null,
      "max_width": null,
      "min_height": null,
      "min_width": null,
      "object_fit": null,
      "object_position": null,
      "order": null,
      "overflow": null,
      "overflow_x": null,
      "overflow_y": null,
      "padding": null,
      "right": null,
      "top": null,
      "visibility": null,
      "width": null
     }
    },
    "d8d0170bb7944f50a9b7f5690d973d5c": {
     "model_module": "@jupyter-widgets/controls",
     "model_module_version": "1.5.0",
     "model_name": "ProgressStyleModel",
     "state": {
      "_model_module": "@jupyter-widgets/controls",
      "_model_module_version": "1.5.0",
      "_model_name": "ProgressStyleModel",
      "_view_count": null,
      "_view_module": "@jupyter-widgets/base",
      "_view_module_version": "1.2.0",
      "_view_name": "StyleView",
      "bar_color": null,
      "description_width": ""
     }
    },
    "de0a5b25556747d48778dc5f4b943682": {
     "model_module": "@jupyter-widgets/base",
     "model_module_version": "1.2.0",
     "model_name": "LayoutModel",
     "state": {
      "_model_module": "@jupyter-widgets/base",
      "_model_module_version": "1.2.0",
      "_model_name": "LayoutModel",
      "_view_count": null,
      "_view_module": "@jupyter-widgets/base",
      "_view_module_version": "1.2.0",
      "_view_name": "LayoutView",
      "align_content": null,
      "align_items": null,
      "align_self": null,
      "border": null,
      "bottom": null,
      "display": null,
      "flex": null,
      "flex_flow": null,
      "grid_area": null,
      "grid_auto_columns": null,
      "grid_auto_flow": null,
      "grid_auto_rows": null,
      "grid_column": null,
      "grid_gap": null,
      "grid_row": null,
      "grid_template_areas": null,
      "grid_template_columns": null,
      "grid_template_rows": null,
      "height": null,
      "justify_content": null,
      "justify_items": null,
      "left": null,
      "margin": null,
      "max_height": null,
      "max_width": null,
      "min_height": null,
      "min_width": null,
      "object_fit": null,
      "object_position": null,
      "order": null,
      "overflow": null,
      "overflow_x": null,
      "overflow_y": null,
      "padding": null,
      "right": null,
      "top": null,
      "visibility": null,
      "width": null
     }
    },
    "de509e53e52b48cfaaea9700d55d313f": {
     "model_module": "@jupyter-widgets/controls",
     "model_module_version": "1.5.0",
     "model_name": "DescriptionStyleModel",
     "state": {
      "_model_module": "@jupyter-widgets/controls",
      "_model_module_version": "1.5.0",
      "_model_name": "DescriptionStyleModel",
      "_view_count": null,
      "_view_module": "@jupyter-widgets/base",
      "_view_module_version": "1.2.0",
      "_view_name": "StyleView",
      "description_width": ""
     }
    },
    "ef63f72462fb4383a8fb08fa84495f48": {
     "model_module": "@jupyter-widgets/base",
     "model_module_version": "1.2.0",
     "model_name": "LayoutModel",
     "state": {
      "_model_module": "@jupyter-widgets/base",
      "_model_module_version": "1.2.0",
      "_model_name": "LayoutModel",
      "_view_count": null,
      "_view_module": "@jupyter-widgets/base",
      "_view_module_version": "1.2.0",
      "_view_name": "LayoutView",
      "align_content": null,
      "align_items": null,
      "align_self": null,
      "border": null,
      "bottom": null,
      "display": null,
      "flex": "2",
      "flex_flow": null,
      "grid_area": null,
      "grid_auto_columns": null,
      "grid_auto_flow": null,
      "grid_auto_rows": null,
      "grid_column": null,
      "grid_gap": null,
      "grid_row": null,
      "grid_template_areas": null,
      "grid_template_columns": null,
      "grid_template_rows": null,
      "height": null,
      "justify_content": null,
      "justify_items": null,
      "left": null,
      "margin": null,
      "max_height": null,
      "max_width": null,
      "min_height": null,
      "min_width": null,
      "object_fit": null,
      "object_position": null,
      "order": null,
      "overflow": null,
      "overflow_x": null,
      "overflow_y": null,
      "padding": null,
      "right": null,
      "top": null,
      "visibility": null,
      "width": null
     }
    },
    "fb296b8388874f6fb888c5cc25c6fbba": {
     "model_module": "@jupyter-widgets/controls",
     "model_module_version": "1.5.0",
     "model_name": "FloatProgressModel",
     "state": {
      "_dom_classes": [],
      "_model_module": "@jupyter-widgets/controls",
      "_model_module_version": "1.5.0",
      "_model_name": "FloatProgressModel",
      "_view_count": null,
      "_view_module": "@jupyter-widgets/controls",
      "_view_module_version": "1.5.0",
      "_view_name": "ProgressView",
      "bar_style": "",
      "description": "",
      "description_tooltip": null,
      "layout": "IPY_MODEL_ef63f72462fb4383a8fb08fa84495f48",
      "max": 59034,
      "min": 0,
      "orientation": "horizontal",
      "style": "IPY_MODEL_d8d0170bb7944f50a9b7f5690d973d5c",
      "value": 1320
     }
    }
   }
  }
 },
 "nbformat": 4,
 "nbformat_minor": 1
}
