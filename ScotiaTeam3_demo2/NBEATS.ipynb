{
 "cells": [
  {
   "cell_type": "code",
   "execution_count": 1,
   "id": "unnecessary-hacker",
   "metadata": {},
   "outputs": [],
   "source": [
    "if 'google.colab' in str(get_ipython()):\n",
    "    !pip install pytorch-forecasting"
   ]
  },
  {
   "cell_type": "code",
   "execution_count": 2,
   "id": "third-equality",
   "metadata": {},
   "outputs": [],
   "source": [
    "import pandas as pd\n",
    "import matplotlib.pyplot as plt\n",
    "import numpy as np\n",
    "import seaborn as sns\n",
    "\n",
    "import torch\n",
    "import pytorch_lightning as pl\n",
    "from pytorch_lightning.callbacks import EarlyStopping, LearningRateMonitor, Callback\n",
    "from pytorch_forecasting import TimeSeriesDataSet, NBeats, Baseline, DeepAR, GroupNormalizer, MultiNormalizer, EncoderNormalizer\n",
    "from pytorch_forecasting.data import NaNLabelEncoder\n",
    "from pytorch_forecasting.metrics import MAPE, MAE, MASE, RMSE\n",
    "from pytorch_forecasting.metrics import NormalDistributionLoss"
   ]
  },
  {
   "cell_type": "code",
   "execution_count": 3,
   "id": "center-andorra",
   "metadata": {},
   "outputs": [],
   "source": [
    "class EpochCallback(Callback):\n",
    "        \n",
    "    def on_validation_epoch_end(self, trainer, module):\n",
    "        print(trainer.progress_bar_metrics)"
   ]
  },
  {
   "cell_type": "code",
   "execution_count": 4,
   "id": "arctic-classics",
   "metadata": {},
   "outputs": [],
   "source": [
    "if 'google.colab' in str(get_ipython()):\n",
    "    from google.colab import drive\n",
    "    drive.mount('/content/drive')"
   ]
  },
  {
   "cell_type": "markdown",
   "id": "baking-assault",
   "metadata": {},
   "source": [
    "## Data Loading"
   ]
  },
  {
   "cell_type": "code",
   "execution_count": 68,
   "id": "boxed-excellence",
   "metadata": {},
   "outputs": [],
   "source": [
    "btc_df = pd.read_csv('BTC-USD.csv')\n",
    "eth_df = pd.read_csv('ETH-USD.csv')\n",
    "sp500_df = pd.read_csv('S&P 500 Historical Data.csv')"
   ]
  },
  {
   "cell_type": "code",
   "execution_count": 69,
   "id": "maritime-salon",
   "metadata": {},
   "outputs": [
    {
     "data": {
      "text/html": [
       "<div>\n",
       "<style scoped>\n",
       "    .dataframe tbody tr th:only-of-type {\n",
       "        vertical-align: middle;\n",
       "    }\n",
       "\n",
       "    .dataframe tbody tr th {\n",
       "        vertical-align: top;\n",
       "    }\n",
       "\n",
       "    .dataframe thead th {\n",
       "        text-align: right;\n",
       "    }\n",
       "</style>\n",
       "<table border=\"1\" class=\"dataframe\">\n",
       "  <thead>\n",
       "    <tr style=\"text-align: right;\">\n",
       "      <th></th>\n",
       "      <th>Date</th>\n",
       "      <th>Open</th>\n",
       "      <th>High</th>\n",
       "      <th>Low</th>\n",
       "      <th>Close</th>\n",
       "      <th>Adj Close</th>\n",
       "      <th>Volume</th>\n",
       "    </tr>\n",
       "  </thead>\n",
       "  <tbody>\n",
       "    <tr>\n",
       "      <th>0</th>\n",
       "      <td>2014-09-17</td>\n",
       "      <td>465.864014</td>\n",
       "      <td>468.174011</td>\n",
       "      <td>452.421997</td>\n",
       "      <td>457.334015</td>\n",
       "      <td>457.334015</td>\n",
       "      <td>21056800</td>\n",
       "    </tr>\n",
       "    <tr>\n",
       "      <th>1</th>\n",
       "      <td>2014-09-18</td>\n",
       "      <td>456.859985</td>\n",
       "      <td>456.859985</td>\n",
       "      <td>413.104004</td>\n",
       "      <td>424.440002</td>\n",
       "      <td>424.440002</td>\n",
       "      <td>34483200</td>\n",
       "    </tr>\n",
       "    <tr>\n",
       "      <th>2</th>\n",
       "      <td>2014-09-19</td>\n",
       "      <td>424.102997</td>\n",
       "      <td>427.834991</td>\n",
       "      <td>384.532013</td>\n",
       "      <td>394.795990</td>\n",
       "      <td>394.795990</td>\n",
       "      <td>37919700</td>\n",
       "    </tr>\n",
       "    <tr>\n",
       "      <th>3</th>\n",
       "      <td>2014-09-20</td>\n",
       "      <td>394.673004</td>\n",
       "      <td>423.295990</td>\n",
       "      <td>389.882996</td>\n",
       "      <td>408.903992</td>\n",
       "      <td>408.903992</td>\n",
       "      <td>36863600</td>\n",
       "    </tr>\n",
       "    <tr>\n",
       "      <th>4</th>\n",
       "      <td>2014-09-21</td>\n",
       "      <td>408.084991</td>\n",
       "      <td>412.425995</td>\n",
       "      <td>393.181000</td>\n",
       "      <td>398.821014</td>\n",
       "      <td>398.821014</td>\n",
       "      <td>26580100</td>\n",
       "    </tr>\n",
       "  </tbody>\n",
       "</table>\n",
       "</div>"
      ],
      "text/plain": [
       "         Date        Open        High         Low       Close   Adj Close  \\\n",
       "0  2014-09-17  465.864014  468.174011  452.421997  457.334015  457.334015   \n",
       "1  2014-09-18  456.859985  456.859985  413.104004  424.440002  424.440002   \n",
       "2  2014-09-19  424.102997  427.834991  384.532013  394.795990  394.795990   \n",
       "3  2014-09-20  394.673004  423.295990  389.882996  408.903992  408.903992   \n",
       "4  2014-09-21  408.084991  412.425995  393.181000  398.821014  398.821014   \n",
       "\n",
       "     Volume  \n",
       "0  21056800  \n",
       "1  34483200  \n",
       "2  37919700  \n",
       "3  36863600  \n",
       "4  26580100  "
      ]
     },
     "execution_count": 69,
     "metadata": {},
     "output_type": "execute_result"
    }
   ],
   "source": [
    "btc_df.head()"
   ]
  },
  {
   "cell_type": "markdown",
   "id": "modern-heritage",
   "metadata": {},
   "source": [
    "## Data Splitting"
   ]
  },
  {
   "cell_type": "code",
   "execution_count": 70,
   "id": "ongoing-cable",
   "metadata": {},
   "outputs": [],
   "source": [
    "train_size = 0.8\n",
    "\n",
    "train_df = btc_df.iloc[:int(len(btc_df)*train_size)]\n",
    "test_df = btc_df.iloc[int(len(btc_df)*train_size):]"
   ]
  },
  {
   "cell_type": "markdown",
   "id": "relative-statement",
   "metadata": {},
   "source": [
    "## Data Formatting"
   ]
  },
  {
   "cell_type": "code",
   "execution_count": 71,
   "id": "genetic-negotiation",
   "metadata": {},
   "outputs": [],
   "source": [
    "lag_time = 60 # num of steps input to the model >= lead time, x1, x2, ...\n",
    "lead_time = 7 # lookahead, predicting horizon. \n",
    "train_df = train_df.reset_index().rename({'index':'time_idx'}, axis=1)\n",
    "test_df = test_df.reset_index().rename({'index':'time_idx'}, axis=1)\n",
    "\n",
    "train_df['group_ids'] = 0\n",
    "test_df['group_ids'] = 0"
   ]
  },
  {
   "cell_type": "code",
   "execution_count": 72,
   "id": "comic-watershed",
   "metadata": {},
   "outputs": [
    {
     "data": {
      "text/html": [
       "<div>\n",
       "<style scoped>\n",
       "    .dataframe tbody tr th:only-of-type {\n",
       "        vertical-align: middle;\n",
       "    }\n",
       "\n",
       "    .dataframe tbody tr th {\n",
       "        vertical-align: top;\n",
       "    }\n",
       "\n",
       "    .dataframe thead th {\n",
       "        text-align: right;\n",
       "    }\n",
       "</style>\n",
       "<table border=\"1\" class=\"dataframe\">\n",
       "  <thead>\n",
       "    <tr style=\"text-align: right;\">\n",
       "      <th></th>\n",
       "      <th>time_idx</th>\n",
       "      <th>Date</th>\n",
       "      <th>Open</th>\n",
       "      <th>High</th>\n",
       "      <th>Low</th>\n",
       "      <th>Close</th>\n",
       "      <th>Adj Close</th>\n",
       "      <th>Volume</th>\n",
       "      <th>group_ids</th>\n",
       "    </tr>\n",
       "  </thead>\n",
       "  <tbody>\n",
       "    <tr>\n",
       "      <th>0</th>\n",
       "      <td>0</td>\n",
       "      <td>2014-09-17</td>\n",
       "      <td>465.864014</td>\n",
       "      <td>468.174011</td>\n",
       "      <td>452.421997</td>\n",
       "      <td>457.334015</td>\n",
       "      <td>457.334015</td>\n",
       "      <td>21056800</td>\n",
       "      <td>0</td>\n",
       "    </tr>\n",
       "    <tr>\n",
       "      <th>1</th>\n",
       "      <td>1</td>\n",
       "      <td>2014-09-18</td>\n",
       "      <td>456.859985</td>\n",
       "      <td>456.859985</td>\n",
       "      <td>413.104004</td>\n",
       "      <td>424.440002</td>\n",
       "      <td>424.440002</td>\n",
       "      <td>34483200</td>\n",
       "      <td>0</td>\n",
       "    </tr>\n",
       "    <tr>\n",
       "      <th>2</th>\n",
       "      <td>2</td>\n",
       "      <td>2014-09-19</td>\n",
       "      <td>424.102997</td>\n",
       "      <td>427.834991</td>\n",
       "      <td>384.532013</td>\n",
       "      <td>394.795990</td>\n",
       "      <td>394.795990</td>\n",
       "      <td>37919700</td>\n",
       "      <td>0</td>\n",
       "    </tr>\n",
       "    <tr>\n",
       "      <th>3</th>\n",
       "      <td>3</td>\n",
       "      <td>2014-09-20</td>\n",
       "      <td>394.673004</td>\n",
       "      <td>423.295990</td>\n",
       "      <td>389.882996</td>\n",
       "      <td>408.903992</td>\n",
       "      <td>408.903992</td>\n",
       "      <td>36863600</td>\n",
       "      <td>0</td>\n",
       "    </tr>\n",
       "    <tr>\n",
       "      <th>4</th>\n",
       "      <td>4</td>\n",
       "      <td>2014-09-21</td>\n",
       "      <td>408.084991</td>\n",
       "      <td>412.425995</td>\n",
       "      <td>393.181000</td>\n",
       "      <td>398.821014</td>\n",
       "      <td>398.821014</td>\n",
       "      <td>26580100</td>\n",
       "      <td>0</td>\n",
       "    </tr>\n",
       "    <tr>\n",
       "      <th>...</th>\n",
       "      <td>...</td>\n",
       "      <td>...</td>\n",
       "      <td>...</td>\n",
       "      <td>...</td>\n",
       "      <td>...</td>\n",
       "      <td>...</td>\n",
       "      <td>...</td>\n",
       "      <td>...</td>\n",
       "      <td>...</td>\n",
       "    </tr>\n",
       "    <tr>\n",
       "      <th>2386</th>\n",
       "      <td>2386</td>\n",
       "      <td>2021-03-30</td>\n",
       "      <td>57750.132813</td>\n",
       "      <td>59447.222656</td>\n",
       "      <td>57251.550781</td>\n",
       "      <td>58917.691406</td>\n",
       "      <td>58917.691406</td>\n",
       "      <td>54414116432</td>\n",
       "      <td>0</td>\n",
       "    </tr>\n",
       "    <tr>\n",
       "      <th>2387</th>\n",
       "      <td>2387</td>\n",
       "      <td>2021-03-31</td>\n",
       "      <td>58930.277344</td>\n",
       "      <td>59930.027344</td>\n",
       "      <td>57726.417969</td>\n",
       "      <td>58918.832031</td>\n",
       "      <td>58918.832031</td>\n",
       "      <td>65520826225</td>\n",
       "      <td>0</td>\n",
       "    </tr>\n",
       "    <tr>\n",
       "      <th>2388</th>\n",
       "      <td>2388</td>\n",
       "      <td>2021-04-01</td>\n",
       "      <td>58926.562500</td>\n",
       "      <td>59586.070313</td>\n",
       "      <td>58505.277344</td>\n",
       "      <td>59095.808594</td>\n",
       "      <td>59095.808594</td>\n",
       "      <td>61669163792</td>\n",
       "      <td>0</td>\n",
       "    </tr>\n",
       "    <tr>\n",
       "      <th>2389</th>\n",
       "      <td>2389</td>\n",
       "      <td>2021-04-02</td>\n",
       "      <td>59098.878906</td>\n",
       "      <td>60267.187500</td>\n",
       "      <td>58869.281250</td>\n",
       "      <td>59384.312500</td>\n",
       "      <td>59384.312500</td>\n",
       "      <td>58727860620</td>\n",
       "      <td>0</td>\n",
       "    </tr>\n",
       "    <tr>\n",
       "      <th>2390</th>\n",
       "      <td>2390</td>\n",
       "      <td>2021-04-03</td>\n",
       "      <td>59397.410156</td>\n",
       "      <td>60110.269531</td>\n",
       "      <td>57603.890625</td>\n",
       "      <td>57603.890625</td>\n",
       "      <td>57603.890625</td>\n",
       "      <td>59641344484</td>\n",
       "      <td>0</td>\n",
       "    </tr>\n",
       "  </tbody>\n",
       "</table>\n",
       "<p>2391 rows × 9 columns</p>\n",
       "</div>"
      ],
      "text/plain": [
       "      time_idx        Date          Open          High           Low  \\\n",
       "0            0  2014-09-17    465.864014    468.174011    452.421997   \n",
       "1            1  2014-09-18    456.859985    456.859985    413.104004   \n",
       "2            2  2014-09-19    424.102997    427.834991    384.532013   \n",
       "3            3  2014-09-20    394.673004    423.295990    389.882996   \n",
       "4            4  2014-09-21    408.084991    412.425995    393.181000   \n",
       "...        ...         ...           ...           ...           ...   \n",
       "2386      2386  2021-03-30  57750.132813  59447.222656  57251.550781   \n",
       "2387      2387  2021-03-31  58930.277344  59930.027344  57726.417969   \n",
       "2388      2388  2021-04-01  58926.562500  59586.070313  58505.277344   \n",
       "2389      2389  2021-04-02  59098.878906  60267.187500  58869.281250   \n",
       "2390      2390  2021-04-03  59397.410156  60110.269531  57603.890625   \n",
       "\n",
       "             Close     Adj Close       Volume  group_ids  \n",
       "0       457.334015    457.334015     21056800          0  \n",
       "1       424.440002    424.440002     34483200          0  \n",
       "2       394.795990    394.795990     37919700          0  \n",
       "3       408.903992    408.903992     36863600          0  \n",
       "4       398.821014    398.821014     26580100          0  \n",
       "...            ...           ...          ...        ...  \n",
       "2386  58917.691406  58917.691406  54414116432          0  \n",
       "2387  58918.832031  58918.832031  65520826225          0  \n",
       "2388  59095.808594  59095.808594  61669163792          0  \n",
       "2389  59384.312500  59384.312500  58727860620          0  \n",
       "2390  57603.890625  57603.890625  59641344484          0  \n",
       "\n",
       "[2391 rows x 9 columns]"
      ]
     },
     "execution_count": 72,
     "metadata": {},
     "output_type": "execute_result"
    }
   ],
   "source": [
    "train_df"
   ]
  },
  {
   "cell_type": "markdown",
   "id": "varied-intelligence",
   "metadata": {},
   "source": [
    "## Data Preparation for N-BEATS"
   ]
  },
  {
   "cell_type": "code",
   "execution_count": 73,
   "id": "brown-configuration",
   "metadata": {},
   "outputs": [
    {
     "data": {
      "text/html": [
       "<div>\n",
       "<style scoped>\n",
       "    .dataframe tbody tr th:only-of-type {\n",
       "        vertical-align: middle;\n",
       "    }\n",
       "\n",
       "    .dataframe tbody tr th {\n",
       "        vertical-align: top;\n",
       "    }\n",
       "\n",
       "    .dataframe thead th {\n",
       "        text-align: right;\n",
       "    }\n",
       "</style>\n",
       "<table border=\"1\" class=\"dataframe\">\n",
       "  <thead>\n",
       "    <tr style=\"text-align: right;\">\n",
       "      <th></th>\n",
       "      <th>time_idx</th>\n",
       "      <th>Date</th>\n",
       "      <th>group_ids</th>\n",
       "      <th>value</th>\n",
       "    </tr>\n",
       "  </thead>\n",
       "  <tbody>\n",
       "    <tr>\n",
       "      <th>0</th>\n",
       "      <td>0</td>\n",
       "      <td>2014-09-17</td>\n",
       "      <td>Adj Close</td>\n",
       "      <td>457.334015</td>\n",
       "    </tr>\n",
       "    <tr>\n",
       "      <th>1</th>\n",
       "      <td>1</td>\n",
       "      <td>2014-09-18</td>\n",
       "      <td>Adj Close</td>\n",
       "      <td>424.440002</td>\n",
       "    </tr>\n",
       "    <tr>\n",
       "      <th>2</th>\n",
       "      <td>2</td>\n",
       "      <td>2014-09-19</td>\n",
       "      <td>Adj Close</td>\n",
       "      <td>394.795990</td>\n",
       "    </tr>\n",
       "    <tr>\n",
       "      <th>3</th>\n",
       "      <td>3</td>\n",
       "      <td>2014-09-20</td>\n",
       "      <td>Adj Close</td>\n",
       "      <td>408.903992</td>\n",
       "    </tr>\n",
       "    <tr>\n",
       "      <th>4</th>\n",
       "      <td>4</td>\n",
       "      <td>2014-09-21</td>\n",
       "      <td>Adj Close</td>\n",
       "      <td>398.821014</td>\n",
       "    </tr>\n",
       "  </tbody>\n",
       "</table>\n",
       "</div>"
      ],
      "text/plain": [
       "   time_idx        Date  group_ids       value\n",
       "0         0  2014-09-17  Adj Close  457.334015\n",
       "1         1  2014-09-18  Adj Close  424.440002\n",
       "2         2  2014-09-19  Adj Close  394.795990\n",
       "3         3  2014-09-20  Adj Close  408.903992\n",
       "4         4  2014-09-21  Adj Close  398.821014"
      ]
     },
     "execution_count": 73,
     "metadata": {},
     "output_type": "execute_result"
    }
   ],
   "source": [
    "train_df_nbeats = train_df.melt(id_vars=['time_idx', 'Date'], value_vars='Adj Close', var_name='group_ids')\n",
    "train_df_nbeats.head()"
   ]
  },
  {
   "cell_type": "code",
   "execution_count": 74,
   "id": "further-drinking",
   "metadata": {},
   "outputs": [
    {
     "data": {
      "text/html": [
       "<div>\n",
       "<style scoped>\n",
       "    .dataframe tbody tr th:only-of-type {\n",
       "        vertical-align: middle;\n",
       "    }\n",
       "\n",
       "    .dataframe tbody tr th {\n",
       "        vertical-align: top;\n",
       "    }\n",
       "\n",
       "    .dataframe thead th {\n",
       "        text-align: right;\n",
       "    }\n",
       "</style>\n",
       "<table border=\"1\" class=\"dataframe\">\n",
       "  <thead>\n",
       "    <tr style=\"text-align: right;\">\n",
       "      <th></th>\n",
       "      <th>time_idx</th>\n",
       "      <th>Date</th>\n",
       "      <th>group_ids</th>\n",
       "      <th>value</th>\n",
       "    </tr>\n",
       "  </thead>\n",
       "  <tbody>\n",
       "    <tr>\n",
       "      <th>2386</th>\n",
       "      <td>2386</td>\n",
       "      <td>2021-03-30</td>\n",
       "      <td>Adj Close</td>\n",
       "      <td>58917.691406</td>\n",
       "    </tr>\n",
       "    <tr>\n",
       "      <th>2387</th>\n",
       "      <td>2387</td>\n",
       "      <td>2021-03-31</td>\n",
       "      <td>Adj Close</td>\n",
       "      <td>58918.832031</td>\n",
       "    </tr>\n",
       "    <tr>\n",
       "      <th>2388</th>\n",
       "      <td>2388</td>\n",
       "      <td>2021-04-01</td>\n",
       "      <td>Adj Close</td>\n",
       "      <td>59095.808594</td>\n",
       "    </tr>\n",
       "    <tr>\n",
       "      <th>2389</th>\n",
       "      <td>2389</td>\n",
       "      <td>2021-04-02</td>\n",
       "      <td>Adj Close</td>\n",
       "      <td>59384.312500</td>\n",
       "    </tr>\n",
       "    <tr>\n",
       "      <th>2390</th>\n",
       "      <td>2390</td>\n",
       "      <td>2021-04-03</td>\n",
       "      <td>Adj Close</td>\n",
       "      <td>57603.890625</td>\n",
       "    </tr>\n",
       "  </tbody>\n",
       "</table>\n",
       "</div>"
      ],
      "text/plain": [
       "      time_idx        Date  group_ids         value\n",
       "2386      2386  2021-03-30  Adj Close  58917.691406\n",
       "2387      2387  2021-03-31  Adj Close  58918.832031\n",
       "2388      2388  2021-04-01  Adj Close  59095.808594\n",
       "2389      2389  2021-04-02  Adj Close  59384.312500\n",
       "2390      2390  2021-04-03  Adj Close  57603.890625"
      ]
     },
     "execution_count": 74,
     "metadata": {},
     "output_type": "execute_result"
    }
   ],
   "source": [
    "train_df_nbeats.tail()"
   ]
  },
  {
   "cell_type": "code",
   "execution_count": 75,
   "id": "quality-mentor",
   "metadata": {},
   "outputs": [],
   "source": [
    "# define dataset\n",
    "valid_size = 0.25  \n",
    "max_encoder_length = lag_time\n",
    "max_prediction_length = lead_time\n",
    "training_cutoff = train_df_nbeats[\"time_idx\"][:int((1 - valid_size)*train_df_nbeats[\"time_idx\"].max())].values[-1]\n",
    "context_length = max_encoder_length\n",
    "prediction_length = max_prediction_length"
   ]
  },
  {
   "cell_type": "code",
   "execution_count": 76,
   "id": "creative-referral",
   "metadata": {},
   "outputs": [],
   "source": [
    "training = TimeSeriesDataSet(\n",
    "    train_df_nbeats.loc[train_df_nbeats.time_idx <= training_cutoff],  # Applying the training cutoff\n",
    "    time_idx=\"time_idx\",\n",
    "    target=\"value\",\n",
    "    categorical_encoders={\"group_ids\": NaNLabelEncoder().fit(train_df_nbeats.group_ids)},\n",
    "    group_ids=['group_ids'],\n",
    "    max_encoder_length=context_length,\n",
    "    max_prediction_length=max_prediction_length,\n",
    "    time_varying_unknown_reals=[\"value\"],\n",
    ")"
   ]
  },
  {
   "cell_type": "code",
   "execution_count": 77,
   "id": "laden-biodiversity",
   "metadata": {},
   "outputs": [],
   "source": [
    "validation = TimeSeriesDataSet.from_dataset(training, train_df_nbeats, min_prediction_idx=training_cutoff + 1)\n",
    "batch_size = 128\n",
    "train_dataloader = training.to_dataloader(train=True, batch_size=batch_size, num_workers=0)\n",
    "val_dataloader = validation.to_dataloader(train=False, batch_size=batch_size, num_workers=0)"
   ]
  },
  {
   "cell_type": "markdown",
   "id": "familiar-boston",
   "metadata": {},
   "source": [
    "## Model Training"
   ]
  },
  {
   "cell_type": "code",
   "execution_count": 78,
   "id": "suburban-school",
   "metadata": {},
   "outputs": [
    {
     "name": "stderr",
     "output_type": "stream",
     "text": [
      "Global seed set to 42\n",
      "GPU available: True, used: True\n",
      "TPU available: False, using: 0 TPU cores\n",
      "IPU available: False, using: 0 IPUs\n",
      "/ssd003/projects/aieng/public/forecasting_unified/lib/python3.8/site-packages/pytorch_lightning/trainer/trainer.py:735: LightningDeprecationWarning: `trainer.fit(train_dataloader)` is deprecated in v1.4 and will be removed in v1.6. Use `trainer.fit(train_dataloaders)` instead. HINT: added 's'\n",
      "  rank_zero_deprecation(\n",
      "LOCAL_RANK: 0 - CUDA_VISIBLE_DEVICES: [0]\n",
      "Set SLURM handle signals.\n",
      "\n",
      "  | Name            | Type       | Params\n",
      "-----------------------------------------------\n",
      "0 | loss            | MASE       | 0     \n",
      "1 | logging_metrics | ModuleList | 0     \n",
      "2 | net_blocks      | ModuleList | 1.7 M \n",
      "-----------------------------------------------\n",
      "1.7 M     Trainable params\n",
      "0         Non-trainable params\n",
      "1.7 M     Total params\n",
      "6.771     Total estimated model params size (MB)\n",
      "/ssd003/projects/aieng/public/forecasting_unified/lib/python3.8/site-packages/pytorch_lightning/callbacks/model_checkpoint.py:631: UserWarning: Checkpoint directory /ssd003/home/irisli/forecasting-bootcamp/ScotiaTeam3_demo2/lightning_logs/version_8825851/checkpoints exists and is not empty.\n",
      "  rank_zero_warn(f\"Checkpoint directory {dirpath} exists and is not empty.\")\n"
     ]
    },
    {
     "data": {
      "application/vnd.jupyter.widget-view+json": {
       "model_id": "42482a48d3d34999b5e66115c61c6d27",
       "version_major": 2,
       "version_minor": 0
      },
      "text/plain": [
       "Validation sanity check: 0it [00:00, ?it/s]"
      ]
     },
     "metadata": {},
     "output_type": "display_data"
    },
    {
     "name": "stderr",
     "output_type": "stream",
     "text": [
      "/ssd003/projects/aieng/public/forecasting_unified/lib/python3.8/site-packages/pytorch_lightning/trainer/data_loading.py:132: UserWarning: The dataloader, val_dataloader 0, does not have many workers which may be a bottleneck. Consider increasing the value of the `num_workers` argument` (try 32 which is the number of cpus on this machine) in the `DataLoader` init to improve performance.\n",
      "  rank_zero_warn(\n",
      "Global seed set to 42\n"
     ]
    },
    {
     "name": "stdout",
     "output_type": "stream",
     "text": [
      "{'sanity_check_loss': 5.444847106933594}\n"
     ]
    },
    {
     "name": "stderr",
     "output_type": "stream",
     "text": [
      "/ssd003/projects/aieng/public/forecasting_unified/lib/python3.8/site-packages/pytorch_lightning/trainer/data_loading.py:132: UserWarning: The dataloader, train_dataloader, does not have many workers which may be a bottleneck. Consider increasing the value of the `num_workers` argument` (try 32 which is the number of cpus on this machine) in the `DataLoader` init to improve performance.\n",
      "  rank_zero_warn(\n",
      "/ssd003/projects/aieng/public/forecasting_unified/lib/python3.8/site-packages/pytorch_lightning/trainer/data_loading.py:432: UserWarning: The number of training samples (13) is smaller than the logging interval Trainer(log_every_n_steps=50). Set a lower value for log_every_n_steps if you want to see logs for the training epoch.\n",
      "  rank_zero_warn(\n"
     ]
    },
    {
     "data": {
      "application/vnd.jupyter.widget-view+json": {
       "model_id": "f001793c78ef4db28293c3e567bef908",
       "version_major": 2,
       "version_minor": 0
      },
      "text/plain": [
       "Training: 0it [00:00, ?it/s]"
      ]
     },
     "metadata": {},
     "output_type": "display_data"
    },
    {
     "data": {
      "application/vnd.jupyter.widget-view+json": {
       "model_id": "a4b8f2828a4147f5aaa8dee1ab6c5043",
       "version_major": 2,
       "version_minor": 0
      },
      "text/plain": [
       "Validating: 0it [00:00, ?it/s]"
      ]
     },
     "metadata": {},
     "output_type": "display_data"
    },
    {
     "name": "stdout",
     "output_type": "stream",
     "text": [
      "{'train_loss_step': 6.553344249725342, 'val_loss': 7.2239885330200195}\n"
     ]
    },
    {
     "data": {
      "application/vnd.jupyter.widget-view+json": {
       "model_id": "48ebbc92463f45f48060fdd62a504f0d",
       "version_major": 2,
       "version_minor": 0
      },
      "text/plain": [
       "Validating: 0it [00:00, ?it/s]"
      ]
     },
     "metadata": {},
     "output_type": "display_data"
    },
    {
     "name": "stdout",
     "output_type": "stream",
     "text": [
      "{'train_loss_step': 5.818490028381348, 'val_loss': 7.166445255279541, 'train_loss_epoch': 6.649770736694336}\n"
     ]
    },
    {
     "data": {
      "application/vnd.jupyter.widget-view+json": {
       "model_id": "183c5b96fffd46b59e5ad8a030437918",
       "version_major": 2,
       "version_minor": 0
      },
      "text/plain": [
       "Validating: 0it [00:00, ?it/s]"
      ]
     },
     "metadata": {},
     "output_type": "display_data"
    },
    {
     "name": "stdout",
     "output_type": "stream",
     "text": [
      "{'train_loss_step': 6.241393089294434, 'val_loss': 7.073439121246338, 'train_loss_epoch': 6.67376708984375}\n"
     ]
    },
    {
     "data": {
      "application/vnd.jupyter.widget-view+json": {
       "model_id": "22946f8f2204431291a72f1bbc5eb589",
       "version_major": 2,
       "version_minor": 0
      },
      "text/plain": [
       "Validating: 0it [00:00, ?it/s]"
      ]
     },
     "metadata": {},
     "output_type": "display_data"
    },
    {
     "name": "stdout",
     "output_type": "stream",
     "text": [
      "{'train_loss_step': 6.997035503387451, 'val_loss': 6.948208332061768, 'train_loss_epoch': 6.5823259353637695}\n"
     ]
    },
    {
     "data": {
      "application/vnd.jupyter.widget-view+json": {
       "model_id": "83ac3b9050be4ac4ba33e6622585f626",
       "version_major": 2,
       "version_minor": 0
      },
      "text/plain": [
       "Validating: 0it [00:00, ?it/s]"
      ]
     },
     "metadata": {},
     "output_type": "display_data"
    },
    {
     "name": "stdout",
     "output_type": "stream",
     "text": [
      "{'train_loss_step': 6.118929862976074, 'val_loss': 6.79206657409668, 'train_loss_epoch': 6.48165225982666}\n"
     ]
    },
    {
     "data": {
      "application/vnd.jupyter.widget-view+json": {
       "model_id": "a6d14baf97e141cdadae661fce1af0cd",
       "version_major": 2,
       "version_minor": 0
      },
      "text/plain": [
       "Validating: 0it [00:00, ?it/s]"
      ]
     },
     "metadata": {},
     "output_type": "display_data"
    },
    {
     "name": "stdout",
     "output_type": "stream",
     "text": [
      "{'train_loss_step': 5.835680961608887, 'val_loss': 6.685155868530273, 'train_loss_epoch': 6.315478801727295}\n"
     ]
    },
    {
     "data": {
      "application/vnd.jupyter.widget-view+json": {
       "model_id": "2f19ff03a1ca4fca956a54973bf48360",
       "version_major": 2,
       "version_minor": 0
      },
      "text/plain": [
       "Validating: 0it [00:00, ?it/s]"
      ]
     },
     "metadata": {},
     "output_type": "display_data"
    },
    {
     "name": "stdout",
     "output_type": "stream",
     "text": [
      "{'train_loss_step': 6.146267414093018, 'val_loss': 6.481818675994873, 'train_loss_epoch': 6.254128456115723}\n"
     ]
    },
    {
     "data": {
      "application/vnd.jupyter.widget-view+json": {
       "model_id": "9a89d61c1cd547c084ac199217ff9b5a",
       "version_major": 2,
       "version_minor": 0
      },
      "text/plain": [
       "Validating: 0it [00:00, ?it/s]"
      ]
     },
     "metadata": {},
     "output_type": "display_data"
    },
    {
     "name": "stdout",
     "output_type": "stream",
     "text": [
      "{'train_loss_step': 6.4124436378479, 'val_loss': 6.250250816345215, 'train_loss_epoch': 6.131499290466309}\n"
     ]
    },
    {
     "data": {
      "application/vnd.jupyter.widget-view+json": {
       "model_id": "39774b81964245ba90beb5af900a9929",
       "version_major": 2,
       "version_minor": 0
      },
      "text/plain": [
       "Validating: 0it [00:00, ?it/s]"
      ]
     },
     "metadata": {},
     "output_type": "display_data"
    },
    {
     "name": "stdout",
     "output_type": "stream",
     "text": [
      "{'train_loss_step': 5.188388824462891, 'val_loss': 5.990411758422852, 'train_loss_epoch': 5.89896297454834}\n"
     ]
    },
    {
     "data": {
      "application/vnd.jupyter.widget-view+json": {
       "model_id": "706378a327e94de5af3cb6073664a87c",
       "version_major": 2,
       "version_minor": 0
      },
      "text/plain": [
       "Validating: 0it [00:00, ?it/s]"
      ]
     },
     "metadata": {},
     "output_type": "display_data"
    },
    {
     "name": "stdout",
     "output_type": "stream",
     "text": [
      "{'train_loss_step': 5.517178058624268, 'val_loss': 5.704448699951172, 'train_loss_epoch': 5.764490127563477}\n"
     ]
    },
    {
     "data": {
      "application/vnd.jupyter.widget-view+json": {
       "model_id": "8ea76431852d4ea7a7c3793c3ec37514",
       "version_major": 2,
       "version_minor": 0
      },
      "text/plain": [
       "Validating: 0it [00:00, ?it/s]"
      ]
     },
     "metadata": {},
     "output_type": "display_data"
    },
    {
     "name": "stdout",
     "output_type": "stream",
     "text": [
      "{'train_loss_step': 4.753746032714844, 'val_loss': 5.406983375549316, 'train_loss_epoch': 5.549290180206299}\n"
     ]
    },
    {
     "data": {
      "application/vnd.jupyter.widget-view+json": {
       "model_id": "98296d535a714c13af317ea6085b32c3",
       "version_major": 2,
       "version_minor": 0
      },
      "text/plain": [
       "Validating: 0it [00:00, ?it/s]"
      ]
     },
     "metadata": {},
     "output_type": "display_data"
    },
    {
     "name": "stdout",
     "output_type": "stream",
     "text": [
      "{'train_loss_step': 4.672390460968018, 'val_loss': 5.233394145965576, 'train_loss_epoch': 5.3730974197387695}\n"
     ]
    },
    {
     "data": {
      "application/vnd.jupyter.widget-view+json": {
       "model_id": "29b0a99b8e6c4a8ebc1ce0bbe8ea2923",
       "version_major": 2,
       "version_minor": 0
      },
      "text/plain": [
       "Validating: 0it [00:00, ?it/s]"
      ]
     },
     "metadata": {},
     "output_type": "display_data"
    },
    {
     "name": "stdout",
     "output_type": "stream",
     "text": [
      "{'train_loss_step': 5.461582660675049, 'val_loss': 4.947134494781494, 'train_loss_epoch': 5.129663467407227}\n"
     ]
    },
    {
     "data": {
      "application/vnd.jupyter.widget-view+json": {
       "model_id": "8fa8015d8922415ab223e1630371fb85",
       "version_major": 2,
       "version_minor": 0
      },
      "text/plain": [
       "Validating: 0it [00:00, ?it/s]"
      ]
     },
     "metadata": {},
     "output_type": "display_data"
    },
    {
     "name": "stdout",
     "output_type": "stream",
     "text": [
      "{'train_loss_step': 4.858901023864746, 'val_loss': 4.684598922729492, 'train_loss_epoch': 4.9228901863098145}\n"
     ]
    },
    {
     "data": {
      "application/vnd.jupyter.widget-view+json": {
       "model_id": "2e213eb5d1154aafad540f2f22e825e2",
       "version_major": 2,
       "version_minor": 0
      },
      "text/plain": [
       "Validating: 0it [00:00, ?it/s]"
      ]
     },
     "metadata": {},
     "output_type": "display_data"
    },
    {
     "name": "stdout",
     "output_type": "stream",
     "text": [
      "{'train_loss_step': 4.179732799530029, 'val_loss': 4.45231819152832, 'train_loss_epoch': 4.757343292236328}\n"
     ]
    },
    {
     "data": {
      "application/vnd.jupyter.widget-view+json": {
       "model_id": "f806dc2555774f2e91d987a31e3f033c",
       "version_major": 2,
       "version_minor": 0
      },
      "text/plain": [
       "Validating: 0it [00:00, ?it/s]"
      ]
     },
     "metadata": {},
     "output_type": "display_data"
    },
    {
     "name": "stdout",
     "output_type": "stream",
     "text": [
      "{'train_loss_step': 4.199034214019775, 'val_loss': 4.254426002502441, 'train_loss_epoch': 4.539044380187988}\n"
     ]
    },
    {
     "data": {
      "application/vnd.jupyter.widget-view+json": {
       "model_id": "925df159da684711962a6a8b588f8c88",
       "version_major": 2,
       "version_minor": 0
      },
      "text/plain": [
       "Validating: 0it [00:00, ?it/s]"
      ]
     },
     "metadata": {},
     "output_type": "display_data"
    },
    {
     "name": "stdout",
     "output_type": "stream",
     "text": [
      "{'train_loss_step': 3.9862961769104004, 'val_loss': 4.090396881103516, 'train_loss_epoch': 4.353151321411133}\n"
     ]
    },
    {
     "data": {
      "application/vnd.jupyter.widget-view+json": {
       "model_id": "7c25b51675b1402eac58f09023895888",
       "version_major": 2,
       "version_minor": 0
      },
      "text/plain": [
       "Validating: 0it [00:00, ?it/s]"
      ]
     },
     "metadata": {},
     "output_type": "display_data"
    },
    {
     "name": "stdout",
     "output_type": "stream",
     "text": [
      "{'train_loss_step': 4.298825263977051, 'val_loss': 4.003130912780762, 'train_loss_epoch': 4.15445613861084}\n"
     ]
    },
    {
     "data": {
      "application/vnd.jupyter.widget-view+json": {
       "model_id": "370994c52b1f4183a6e259fc6fc802f6",
       "version_major": 2,
       "version_minor": 0
      },
      "text/plain": [
       "Validating: 0it [00:00, ?it/s]"
      ]
     },
     "metadata": {},
     "output_type": "display_data"
    },
    {
     "name": "stdout",
     "output_type": "stream",
     "text": [
      "{'train_loss_step': 3.8288938999176025, 'val_loss': 3.8668742179870605, 'train_loss_epoch': 4.006804466247559}\n"
     ]
    },
    {
     "data": {
      "application/vnd.jupyter.widget-view+json": {
       "model_id": "ff13a65d79eb495daeed93390ec23903",
       "version_major": 2,
       "version_minor": 0
      },
      "text/plain": [
       "Validating: 0it [00:00, ?it/s]"
      ]
     },
     "metadata": {},
     "output_type": "display_data"
    },
    {
     "name": "stdout",
     "output_type": "stream",
     "text": [
      "{'train_loss_step': 3.869069814682007, 'val_loss': 3.738352060317993, 'train_loss_epoch': 3.8592469692230225}\n"
     ]
    },
    {
     "data": {
      "application/vnd.jupyter.widget-view+json": {
       "model_id": "af0a7597201b4a14a02abcda0ed5efdc",
       "version_major": 2,
       "version_minor": 0
      },
      "text/plain": [
       "Validating: 0it [00:00, ?it/s]"
      ]
     },
     "metadata": {},
     "output_type": "display_data"
    },
    {
     "name": "stdout",
     "output_type": "stream",
     "text": [
      "{'train_loss_step': 3.5649116039276123, 'val_loss': 3.6144542694091797, 'train_loss_epoch': 3.7276129722595215}\n"
     ]
    },
    {
     "data": {
      "application/vnd.jupyter.widget-view+json": {
       "model_id": "cb73fc27d41f46fba50404f20a9c81a5",
       "version_major": 2,
       "version_minor": 0
      },
      "text/plain": [
       "Validating: 0it [00:00, ?it/s]"
      ]
     },
     "metadata": {},
     "output_type": "display_data"
    },
    {
     "name": "stdout",
     "output_type": "stream",
     "text": [
      "{'train_loss_step': 3.8527259826660156, 'val_loss': 3.49513578414917, 'train_loss_epoch': 3.614638090133667}\n"
     ]
    },
    {
     "data": {
      "application/vnd.jupyter.widget-view+json": {
       "model_id": "bc8796a0fcb7409d9f29c2a0fcff5fda",
       "version_major": 2,
       "version_minor": 0
      },
      "text/plain": [
       "Validating: 0it [00:00, ?it/s]"
      ]
     },
     "metadata": {},
     "output_type": "display_data"
    },
    {
     "name": "stdout",
     "output_type": "stream",
     "text": [
      "{'train_loss_step': 3.39028000831604, 'val_loss': 3.369805335998535, 'train_loss_epoch': 3.4797985553741455}\n"
     ]
    },
    {
     "data": {
      "application/vnd.jupyter.widget-view+json": {
       "model_id": "a987f6b00fc843cb88b489a6f24cda88",
       "version_major": 2,
       "version_minor": 0
      },
      "text/plain": [
       "Validating: 0it [00:00, ?it/s]"
      ]
     },
     "metadata": {},
     "output_type": "display_data"
    },
    {
     "name": "stdout",
     "output_type": "stream",
     "text": [
      "{'train_loss_step': 3.5138118267059326, 'val_loss': 3.30485463142395, 'train_loss_epoch': 3.3902478218078613}\n"
     ]
    },
    {
     "data": {
      "application/vnd.jupyter.widget-view+json": {
       "model_id": "5f8d6c03e5aa40208b2ab14b06945433",
       "version_major": 2,
       "version_minor": 0
      },
      "text/plain": [
       "Validating: 0it [00:00, ?it/s]"
      ]
     },
     "metadata": {},
     "output_type": "display_data"
    },
    {
     "name": "stdout",
     "output_type": "stream",
     "text": [
      "{'train_loss_step': 2.9702517986297607, 'val_loss': 3.214259624481201, 'train_loss_epoch': 3.2878191471099854}\n"
     ]
    },
    {
     "data": {
      "application/vnd.jupyter.widget-view+json": {
       "model_id": "a7cb5b3274f84d0086f7b18cc409f910",
       "version_major": 2,
       "version_minor": 0
      },
      "text/plain": [
       "Validating: 0it [00:00, ?it/s]"
      ]
     },
     "metadata": {},
     "output_type": "display_data"
    },
    {
     "name": "stdout",
     "output_type": "stream",
     "text": [
      "{'train_loss_step': 3.378499984741211, 'val_loss': 3.1443657875061035, 'train_loss_epoch': 3.2101807594299316}\n"
     ]
    },
    {
     "data": {
      "application/vnd.jupyter.widget-view+json": {
       "model_id": "5abd49c2e0d74806abf5df03387d8004",
       "version_major": 2,
       "version_minor": 0
      },
      "text/plain": [
       "Validating: 0it [00:00, ?it/s]"
      ]
     },
     "metadata": {},
     "output_type": "display_data"
    },
    {
     "name": "stdout",
     "output_type": "stream",
     "text": [
      "{'train_loss_step': 3.2486438751220703, 'val_loss': 3.0980629920959473, 'train_loss_epoch': 3.1279072761535645}\n"
     ]
    },
    {
     "data": {
      "application/vnd.jupyter.widget-view+json": {
       "model_id": "ebb05919f06d45b1801d43b7d9191c61",
       "version_major": 2,
       "version_minor": 0
      },
      "text/plain": [
       "Validating: 0it [00:00, ?it/s]"
      ]
     },
     "metadata": {},
     "output_type": "display_data"
    },
    {
     "name": "stdout",
     "output_type": "stream",
     "text": [
      "{'train_loss_step': 2.842916250228882, 'val_loss': 3.0397610664367676, 'train_loss_epoch': 3.0558876991271973}\n"
     ]
    },
    {
     "data": {
      "application/vnd.jupyter.widget-view+json": {
       "model_id": "21bb78b693414ca0a854b0d9002e746f",
       "version_major": 2,
       "version_minor": 0
      },
      "text/plain": [
       "Validating: 0it [00:00, ?it/s]"
      ]
     },
     "metadata": {},
     "output_type": "display_data"
    },
    {
     "name": "stdout",
     "output_type": "stream",
     "text": [
      "{'train_loss_step': 2.9604649543762207, 'val_loss': 2.9924094676971436, 'train_loss_epoch': 3.009068727493286}\n"
     ]
    },
    {
     "data": {
      "application/vnd.jupyter.widget-view+json": {
       "model_id": "9cd4aac814cc476ea911a759ef1c3710",
       "version_major": 2,
       "version_minor": 0
      },
      "text/plain": [
       "Validating: 0it [00:00, ?it/s]"
      ]
     },
     "metadata": {},
     "output_type": "display_data"
    },
    {
     "name": "stdout",
     "output_type": "stream",
     "text": [
      "{'train_loss_step': 3.0989902019500732, 'val_loss': 2.983311891555786, 'train_loss_epoch': 2.994331121444702}\n"
     ]
    },
    {
     "data": {
      "application/vnd.jupyter.widget-view+json": {
       "model_id": "997e1c71ecb14880a2cf118b07304cbe",
       "version_major": 2,
       "version_minor": 0
      },
      "text/plain": [
       "Validating: 0it [00:00, ?it/s]"
      ]
     },
     "metadata": {},
     "output_type": "display_data"
    },
    {
     "name": "stdout",
     "output_type": "stream",
     "text": [
      "{'train_loss_step': 3.388643503189087, 'val_loss': 2.9352760314941406, 'train_loss_epoch': 2.913093090057373}\n"
     ]
    },
    {
     "data": {
      "application/vnd.jupyter.widget-view+json": {
       "model_id": "404fe6e8a83646998f316fd299721c07",
       "version_major": 2,
       "version_minor": 0
      },
      "text/plain": [
       "Validating: 0it [00:00, ?it/s]"
      ]
     },
     "metadata": {},
     "output_type": "display_data"
    },
    {
     "name": "stdout",
     "output_type": "stream",
     "text": [
      "{'train_loss_step': 2.7863807678222656, 'val_loss': 2.910123825073242, 'train_loss_epoch': 2.894566774368286}\n"
     ]
    },
    {
     "data": {
      "application/vnd.jupyter.widget-view+json": {
       "model_id": "42f4d0fd66ec4ca1b92dd2ebac3fe28e",
       "version_major": 2,
       "version_minor": 0
      },
      "text/plain": [
       "Validating: 0it [00:00, ?it/s]"
      ]
     },
     "metadata": {},
     "output_type": "display_data"
    },
    {
     "name": "stdout",
     "output_type": "stream",
     "text": [
      "{'train_loss_step': 2.8928768634796143, 'val_loss': 2.878178834915161, 'train_loss_epoch': 2.837094306945801}\n"
     ]
    },
    {
     "data": {
      "application/vnd.jupyter.widget-view+json": {
       "model_id": "5f562d1186fb4e3884cfefac3d8f948b",
       "version_major": 2,
       "version_minor": 0
      },
      "text/plain": [
       "Validating: 0it [00:00, ?it/s]"
      ]
     },
     "metadata": {},
     "output_type": "display_data"
    },
    {
     "name": "stdout",
     "output_type": "stream",
     "text": [
      "{'train_loss_step': 2.7658824920654297, 'val_loss': 2.851095199584961, 'train_loss_epoch': 2.823749303817749}\n"
     ]
    },
    {
     "data": {
      "application/vnd.jupyter.widget-view+json": {
       "model_id": "b3056e340ad94339add8c307d8f11c5d",
       "version_major": 2,
       "version_minor": 0
      },
      "text/plain": [
       "Validating: 0it [00:00, ?it/s]"
      ]
     },
     "metadata": {},
     "output_type": "display_data"
    },
    {
     "name": "stdout",
     "output_type": "stream",
     "text": [
      "{'train_loss_step': 2.707934856414795, 'val_loss': 2.804906129837036, 'train_loss_epoch': 2.7678205966949463}\n"
     ]
    },
    {
     "data": {
      "application/vnd.jupyter.widget-view+json": {
       "model_id": "14b907c2124c4c4780edac3f2dee86ae",
       "version_major": 2,
       "version_minor": 0
      },
      "text/plain": [
       "Validating: 0it [00:00, ?it/s]"
      ]
     },
     "metadata": {},
     "output_type": "display_data"
    },
    {
     "name": "stdout",
     "output_type": "stream",
     "text": [
      "{'train_loss_step': 2.889582872390747, 'val_loss': 2.7929906845092773, 'train_loss_epoch': 2.7511391639709473}\n"
     ]
    },
    {
     "data": {
      "application/vnd.jupyter.widget-view+json": {
       "model_id": "7841490359994e3ebcc7ea552865129b",
       "version_major": 2,
       "version_minor": 0
      },
      "text/plain": [
       "Validating: 0it [00:00, ?it/s]"
      ]
     },
     "metadata": {},
     "output_type": "display_data"
    },
    {
     "name": "stdout",
     "output_type": "stream",
     "text": [
      "{'train_loss_step': 2.647111415863037, 'val_loss': 2.785489082336426, 'train_loss_epoch': 2.7079484462738037}\n"
     ]
    },
    {
     "data": {
      "application/vnd.jupyter.widget-view+json": {
       "model_id": "ee1b97fb791e4d4aa800a71402140d1d",
       "version_major": 2,
       "version_minor": 0
      },
      "text/plain": [
       "Validating: 0it [00:00, ?it/s]"
      ]
     },
     "metadata": {},
     "output_type": "display_data"
    },
    {
     "name": "stdout",
     "output_type": "stream",
     "text": [
      "{'train_loss_step': 2.73323392868042, 'val_loss': 2.763651132583618, 'train_loss_epoch': 2.721654176712036}\n"
     ]
    },
    {
     "data": {
      "application/vnd.jupyter.widget-view+json": {
       "model_id": "2548da2ae9e04b13a77db12727e5bc85",
       "version_major": 2,
       "version_minor": 0
      },
      "text/plain": [
       "Validating: 0it [00:00, ?it/s]"
      ]
     },
     "metadata": {},
     "output_type": "display_data"
    },
    {
     "name": "stdout",
     "output_type": "stream",
     "text": [
      "{'train_loss_step': 2.9136805534362793, 'val_loss': 2.738515615463257, 'train_loss_epoch': 2.708096742630005}\n"
     ]
    },
    {
     "data": {
      "application/vnd.jupyter.widget-view+json": {
       "model_id": "347081b0ba9e458c8e3f8d129023ed38",
       "version_major": 2,
       "version_minor": 0
      },
      "text/plain": [
       "Validating: 0it [00:00, ?it/s]"
      ]
     },
     "metadata": {},
     "output_type": "display_data"
    },
    {
     "name": "stdout",
     "output_type": "stream",
     "text": [
      "{'train_loss_step': 2.5803966522216797, 'val_loss': 2.7232837677001953, 'train_loss_epoch': 2.6727399826049805}\n"
     ]
    },
    {
     "data": {
      "application/vnd.jupyter.widget-view+json": {
       "model_id": "0fc6b92e3f044b108ac226d5dafb83e8",
       "version_major": 2,
       "version_minor": 0
      },
      "text/plain": [
       "Validating: 0it [00:00, ?it/s]"
      ]
     },
     "metadata": {},
     "output_type": "display_data"
    },
    {
     "name": "stdout",
     "output_type": "stream",
     "text": [
      "{'train_loss_step': 2.8310205936431885, 'val_loss': 2.702329158782959, 'train_loss_epoch': 2.6624293327331543}\n"
     ]
    },
    {
     "data": {
      "application/vnd.jupyter.widget-view+json": {
       "model_id": "8bb59cac5a244082a58c1646dd5e7191",
       "version_major": 2,
       "version_minor": 0
      },
      "text/plain": [
       "Validating: 0it [00:00, ?it/s]"
      ]
     },
     "metadata": {},
     "output_type": "display_data"
    },
    {
     "name": "stdout",
     "output_type": "stream",
     "text": [
      "{'train_loss_step': 2.612244129180908, 'val_loss': 2.6913464069366455, 'train_loss_epoch': 2.6268467903137207}\n"
     ]
    },
    {
     "data": {
      "application/vnd.jupyter.widget-view+json": {
       "model_id": "0182b8780b00481f9ad7be3e6d108afd",
       "version_major": 2,
       "version_minor": 0
      },
      "text/plain": [
       "Validating: 0it [00:00, ?it/s]"
      ]
     },
     "metadata": {},
     "output_type": "display_data"
    },
    {
     "name": "stdout",
     "output_type": "stream",
     "text": [
      "{'train_loss_step': 2.953747272491455, 'val_loss': 2.6721067428588867, 'train_loss_epoch': 2.619694232940674}\n"
     ]
    },
    {
     "data": {
      "application/vnd.jupyter.widget-view+json": {
       "model_id": "9c16750dbb43405cb591ffa97597d056",
       "version_major": 2,
       "version_minor": 0
      },
      "text/plain": [
       "Validating: 0it [00:00, ?it/s]"
      ]
     },
     "metadata": {},
     "output_type": "display_data"
    },
    {
     "name": "stdout",
     "output_type": "stream",
     "text": [
      "{'train_loss_step': 2.5882985591888428, 'val_loss': 2.6644418239593506, 'train_loss_epoch': 2.610762119293213}\n"
     ]
    },
    {
     "data": {
      "application/vnd.jupyter.widget-view+json": {
       "model_id": "b25b4b529f574fc79ee5b086032e3552",
       "version_major": 2,
       "version_minor": 0
      },
      "text/plain": [
       "Validating: 0it [00:00, ?it/s]"
      ]
     },
     "metadata": {},
     "output_type": "display_data"
    },
    {
     "name": "stdout",
     "output_type": "stream",
     "text": [
      "{'train_loss_step': 2.308459758758545, 'val_loss': 2.6573290824890137, 'train_loss_epoch': 2.617574453353882}\n"
     ]
    },
    {
     "data": {
      "application/vnd.jupyter.widget-view+json": {
       "model_id": "3c475aa5e1d04362a6e325129f55d6a2",
       "version_major": 2,
       "version_minor": 0
      },
      "text/plain": [
       "Validating: 0it [00:00, ?it/s]"
      ]
     },
     "metadata": {},
     "output_type": "display_data"
    },
    {
     "name": "stdout",
     "output_type": "stream",
     "text": [
      "{'train_loss_step': 2.4765994548797607, 'val_loss': 2.6435136795043945, 'train_loss_epoch': 2.5774130821228027}\n"
     ]
    },
    {
     "data": {
      "application/vnd.jupyter.widget-view+json": {
       "model_id": "f6bb8a1b5a1c4ea9a5fad1370e61145e",
       "version_major": 2,
       "version_minor": 0
      },
      "text/plain": [
       "Validating: 0it [00:00, ?it/s]"
      ]
     },
     "metadata": {},
     "output_type": "display_data"
    },
    {
     "name": "stdout",
     "output_type": "stream",
     "text": [
      "{'train_loss_step': 2.2826836109161377, 'val_loss': 2.629194974899292, 'train_loss_epoch': 2.585824489593506}\n"
     ]
    },
    {
     "data": {
      "application/vnd.jupyter.widget-view+json": {
       "model_id": "72d7c42d38144f58824e1ba2efda7217",
       "version_major": 2,
       "version_minor": 0
      },
      "text/plain": [
       "Validating: 0it [00:00, ?it/s]"
      ]
     },
     "metadata": {},
     "output_type": "display_data"
    },
    {
     "name": "stdout",
     "output_type": "stream",
     "text": [
      "{'train_loss_step': 2.627723455429077, 'val_loss': 2.6284420490264893, 'train_loss_epoch': 2.5608766078948975}\n"
     ]
    },
    {
     "data": {
      "application/vnd.jupyter.widget-view+json": {
       "model_id": "773e4e5a6583486e943cea756bfae973",
       "version_major": 2,
       "version_minor": 0
      },
      "text/plain": [
       "Validating: 0it [00:00, ?it/s]"
      ]
     },
     "metadata": {},
     "output_type": "display_data"
    },
    {
     "name": "stdout",
     "output_type": "stream",
     "text": [
      "{'train_loss_step': 2.728477954864502, 'val_loss': 2.619696617126465, 'train_loss_epoch': 2.56017804145813}\n"
     ]
    },
    {
     "data": {
      "application/vnd.jupyter.widget-view+json": {
       "model_id": "6064c1d0e2704a2dbc049c65ad0e0d36",
       "version_major": 2,
       "version_minor": 0
      },
      "text/plain": [
       "Validating: 0it [00:00, ?it/s]"
      ]
     },
     "metadata": {},
     "output_type": "display_data"
    },
    {
     "name": "stdout",
     "output_type": "stream",
     "text": [
      "{'train_loss_step': 2.4454398155212402, 'val_loss': 2.6025476455688477, 'train_loss_epoch': 2.5150034427642822}\n"
     ]
    }
   ],
   "source": [
    "pl.seed_everything(42)\n",
    "early_stop_callback = EarlyStopping(monitor=\"val_loss\", min_delta=1e-4, patience=10, verbose=False, mode=\"min\")\n",
    "epoch_callback = EpochCallback()\n",
    "\n",
    "trainer = pl.Trainer(\n",
    "    max_epochs=50,\n",
    "    gpus=1,\n",
    "    weights_summary=\"top\",\n",
    "    gradient_clip_val=0.01,\n",
    "    callbacks=[early_stop_callback, epoch_callback],\n",
    "    limit_train_batches=1.0,\n",
    ")\n",
    "\n",
    "net = NBeats.from_dataset(\n",
    "    training,\n",
    "    learning_rate=1e-4,\n",
    "    log_interval=10,\n",
    "    log_val_interval=1,\n",
    "    weight_decay=1e-2,\n",
    "    # widths=[16, 16],\n",
    "    # backcast_loss_ratio=1.0,\n",
    ")\n",
    "\n",
    "trainer.fit(\n",
    "    net,\n",
    "    train_dataloader=train_dataloader,\n",
    "    val_dataloaders=val_dataloader,\n",
    ")"
   ]
  },
  {
   "cell_type": "markdown",
   "id": "sublime-tulsa",
   "metadata": {},
   "source": [
    "## Testing"
   ]
  },
  {
   "cell_type": "code",
   "execution_count": 79,
   "id": "three-lithuania",
   "metadata": {},
   "outputs": [],
   "source": [
    "test_dataset = TimeSeriesDataSet(\n",
    "    test_df,\n",
    "    time_idx=\"time_idx\",\n",
    "    target=\"Adj Close\",\n",
    "    group_ids=['group_ids'],\n",
    "    max_encoder_length=context_length,\n",
    "    max_prediction_length=max_prediction_length,\n",
    "    time_varying_unknown_reals=[\"Adj Close\"],\n",
    ")\n",
    "\n",
    "test_dataloader = test_dataset.to_dataloader(train=False, batch_size=1, num_workers=0)"
   ]
  },
  {
   "cell_type": "code",
   "execution_count": 80,
   "id": "packed-warren",
   "metadata": {},
   "outputs": [
    {
     "data": {
      "text/plain": [
       "532"
      ]
     },
     "execution_count": 80,
     "metadata": {},
     "output_type": "execute_result"
    }
   ],
   "source": [
    "len(test_dataset)"
   ]
  },
  {
   "cell_type": "code",
   "execution_count": 81,
   "id": "blank-proportion",
   "metadata": {},
   "outputs": [
    {
     "data": {
      "text/plain": [
       "<torch.utils.data.dataloader.DataLoader at 0x7fbf77137a30>"
      ]
     },
     "execution_count": 81,
     "metadata": {},
     "output_type": "execute_result"
    }
   ],
   "source": [
    "test_dataloader"
   ]
  },
  {
   "cell_type": "code",
   "execution_count": 82,
   "id": "mature-actress",
   "metadata": {},
   "outputs": [
    {
     "name": "stdout",
     "output_type": "stream",
     "text": [
      "/ssd003/home/irisli/forecasting-bootcamp/ScotiaTeam3_demo2/lightning_logs/version_8825851/checkpoints/epoch=49-step=649-v1.ckpt\n"
     ]
    }
   ],
   "source": [
    "best_model_path = trainer.checkpoint_callback.best_model_path\n",
    "best_model = NBeats.load_from_checkpoint(best_model_path)\n",
    "print(best_model_path)\n",
    "\n",
    "actuals = torch.cat([y[0] for x, y in iter(test_dataloader)])\n",
    "predictions = best_model.predict(test_dataloader)"
   ]
  },
  {
   "cell_type": "markdown",
   "id": "given-gamma",
   "metadata": {},
   "source": [
    "## Plot Model Forecasts at Max Lead Time"
   ]
  },
  {
   "cell_type": "code",
   "execution_count": 90,
   "id": "suspended-exclusive",
   "metadata": {},
   "outputs": [
    {
     "data": {
      "text/plain": [
       "<matplotlib.legend.Legend at 0x7fbf7a9540d0>"
      ]
     },
     "execution_count": 90,
     "metadata": {},
     "output_type": "execute_result"
    },
    {
     "data": {
      "image/png": "[encoded data removed]",
      "text/plain": [
       "<Figure size 1152x576 with 1 Axes>"
      ]
     },
     "metadata": {
      "needs_background": "light"
     },
     "output_type": "display_data"
    }
   ],
   "source": [
    "actuals_np = actuals.detach().numpy()\n",
    "predictions_np = predictions.detach().numpy()\n",
    "\n",
    "indexes = []\n",
    "preds = []\n",
    "trues = []\n",
    "\n",
    "for time_idx in range(actuals_np.shape[0]):\n",
    "    indexes.append(time_idx)\n",
    "    preds.append(predictions_np[time_idx][-1])\n",
    "    trues.append(actuals_np[time_idx][-1])\n",
    "\n",
    "fig, ax = plt.subplots(figsize=(16,8))\n",
    "ax.plot(indexes, preds, color='red', label='forecast')\n",
    "ax.plot(indexes, trues, color='blue', label='ground truth')\n",
    "ax.set_title(f\"Forecasts at max lead time ({lead_time} samples) - N-BEATS\")\n",
    "ax.legend()"
   ]
  },
  {
   "cell_type": "code",
   "execution_count": 84,
   "id": "broad-bridal",
   "metadata": {},
   "outputs": [
    {
     "data": {
      "text/plain": [
       "(532, 7)"
      ]
     },
     "execution_count": 84,
     "metadata": {},
     "output_type": "execute_result"
    }
   ],
   "source": [
    "actuals_np.shape"
   ]
  },
  {
   "cell_type": "code",
   "execution_count": 85,
   "id": "opposite-wheat",
   "metadata": {},
   "outputs": [
    {
     "data": {
      "text/plain": [
       "532"
      ]
     },
     "execution_count": 85,
     "metadata": {},
     "output_type": "execute_result"
    }
   ],
   "source": [
    "len(predictions_np)"
   ]
  },
  {
   "cell_type": "code",
   "execution_count": 86,
   "id": "funded-cabin",
   "metadata": {},
   "outputs": [
    {
     "data": {
      "image/png": "[encoded data removed]",
      "text/plain": [
       "<Figure size 1440x1440 with 16 Axes>"
      ]
     },
     "metadata": {
      "needs_background": "light"
     },
     "output_type": "display_data"
    }
   ],
   "source": [
    "# plot at single time index\n",
    "\n",
    "fig, axs = plt.subplots(4, 4, figsize=(20,20))\n",
    "axs = axs.flatten()\n",
    "\n",
    "for fig_index, example_index in enumerate(range(0, len(predictions_np), 1)):\n",
    "\n",
    "    if fig_index > len(axs) - 1:\n",
    "        break\n",
    "\n",
    "    ground_truth = actuals_np[example_index]\n",
    "#     print(ground_truth)\n",
    "    forecast = predictions_np[example_index]\n",
    "#     print(forecast)\n",
    "\n",
    "    axs[fig_index].plot(list(range(0, len(forecast))), ground_truth, color='blue', label='ground truth')\n",
    "    axs[fig_index].plot(list(range(0, len(forecast))), forecast, color='red', label='forecast')\n",
    "    axs[fig_index].legend()"
   ]
  },
  {
   "cell_type": "markdown",
   "id": "partial-profession",
   "metadata": {},
   "source": [
    "## Standard evaluation metrics"
   ]
  },
  {
   "cell_type": "code",
   "execution_count": 87,
   "id": "stuffed-universal",
   "metadata": {},
   "outputs": [],
   "source": [
    "from sklearn.metrics import mean_squared_error, mean_absolute_error, mean_absolute_percentage_error\n",
    "\n",
    "metrics = {\n",
    "    'mse': mean_squared_error,\n",
    "    'rmse': lambda y_true, y_pred: np.sqrt(mean_squared_error(y_true, y_pred)),\n",
    "    'mae': mean_absolute_error,\n",
    "    'mape': mean_absolute_percentage_error\n",
    "}\n",
    "\n",
    "def compute_error_statistics(error_metrics_dict, exp_name):\n",
    "    return {\n",
    "        'mean': pd.DataFrame(error_metrics_dict).mean(axis=0).rename(f'{exp_name}_mean_metrics'),\n",
    "        'std': pd.DataFrame(error_metrics_dict).std(axis=0).rename(f'{exp_name}_std_metrics'),\n",
    "        'max': pd.DataFrame(error_metrics_dict).max(axis=0).rename(f'{exp_name}_max_metrics'),\n",
    "    }\n",
    "\n",
    "def compute_baseline_error_metrics(predictions, actuals):\n",
    "\n",
    "    errors = {metric_name:[] for metric_name in metrics.keys()}\n",
    "\n",
    "    for i in range(len(predictions)):\n",
    "    \n",
    "        for metric_name, metric_fn in metrics.items(): \n",
    "                errors[metric_name].append(metric_fn(y_true=actuals[i], y_pred=predictions[i]))\n",
    "\n",
    "    return errors"
   ]
  },
  {
   "cell_type": "code",
   "execution_count": 88,
   "id": "sticky-respect",
   "metadata": {},
   "outputs": [
    {
     "data": {
      "text/plain": [
       "mse     8.934034e+06\n",
       "rmse    2.393725e+03\n",
       "mae     2.123357e+03\n",
       "mape    5.916091e-02\n",
       "Name: nbeats_mean_metrics, dtype: float32"
      ]
     },
     "execution_count": 88,
     "metadata": {},
     "output_type": "execute_result"
    }
   ],
   "source": [
    "actuals_np = actuals.detach().numpy()\n",
    "predictions_np = predictions.detach().numpy()\n",
    "\n",
    "nbeats_errors = compute_baseline_error_metrics(predictions_np, actuals_np)\n",
    "nbeats_stats = compute_error_statistics(nbeats_errors, 'nbeats')\n",
    "nbeats_stats['mean']"
   ]
  },
  {
   "cell_type": "code",
   "execution_count": null,
   "id": "weighted-preference",
   "metadata": {},
   "outputs": [],
   "source": []
  }
 ],
 "metadata": {
  "kernelspec": {
   "display_name": "forecasting",
   "language": "python",
   "name": "forecasting"
  },
  "language_info": {
   "codemirror_mode": {
    "name": "ipython",
    "version": 3
   },
   "file_extension": ".py",
   "mimetype": "text/x-python",
   "name": "python",
   "nbconvert_exporter": "python",
   "pygments_lexer": "ipython3",
   "version": "3.8.0"
  }
 },
 "nbformat": 4,
 "nbformat_minor": 5
}
