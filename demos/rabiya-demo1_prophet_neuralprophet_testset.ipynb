{
 "cells": [
  {
   "cell_type": "markdown",
   "id": "prospective-broad",
   "metadata": {},
   "source": [
    "![Forecasting Demo 1: Baselines, Prophet, and NeuralProphet](https://raw.githubusercontent.com/VectorInstitute/forecasting-bootcamp/media-assets-do-not-merge/forecasting-demo-1.png?token=GHSAT0AAAAAABQMCWQFQHUMDN4MVB2LEQDUYQ7WXUQ)"
   ]
  },
  {
   "cell_type": "markdown",
   "id": "cognitive-utilization",
   "metadata": {
    "id": "SYomKW1s04Sg"
   },
   "source": [
    "This notebook is the first of a series that introduces the application of popular, recently developed time series forecasting methods. In particular, we emphasize the use of consistent evaluation metrics and analysis across all models and model configurations. \n",
    "\n",
    "Use these notebooks as tools to explore the application of various forecasting methods to multivariate time series datasets, and to inspire an experimental approach for comparing multiple models and model configurations.\n",
    "\n",
    "This notebook explores the application of **Prophet** and **NeuralProphet** to exchange rate forecasting, as well as two baseline methods using **sktime**."
   ]
  },
  {
   "cell_type": "code",
   "execution_count": 1,
   "id": "institutional-pollution",
   "metadata": {
    "id": "inside-wireless"
   },
   "outputs": [],
   "source": [
    "if 'google.colab' in str(get_ipython()):\n",
    "    !pip install prophet\n",
    "    !pip install git+https://github.com/ourownstory/neural_prophet.git # may take a while\n",
    "    #!pip install neuralprophet # much faster, but may not have the latest upgrades/bugfixes\n",
    "    !pip install sktime\n",
    "\n",
    "import matplotlib.pyplot as plt\n",
    "import seaborn as sns\n",
    "import numpy as np\n",
    "import pandas as pd\n",
    "from sktime.forecasting.naive import NaiveForecaster\n",
    "from prophet import Prophet\n",
    "from neuralprophet import NeuralProphet"
   ]
  },
  {
   "cell_type": "markdown",
   "id": "turned-sunset",
   "metadata": {
    "id": "MsovnLdhfwsu"
   },
   "source": [
    "# Data Loading"
   ]
  },
  {
   "cell_type": "code",
   "execution_count": 2,
   "id": "defensive-bobby",
   "metadata": {},
   "outputs": [
    {
     "name": "stdout",
     "output_type": "stream",
     "text": [
      "/ssd003/home/rnoori/forecasting-bootcamp/demos\r\n"
     ]
    }
   ],
   "source": [
    "!pwd"
   ]
  },
  {
   "cell_type": "markdown",
   "id": "varied-cursor",
   "metadata": {
    "id": "diverse-eight"
   },
   "source": [
    "### Load bitcoin data file"
   ]
  },
  {
   "cell_type": "code",
   "execution_count": 49,
   "id": "purple-folder",
   "metadata": {},
   "outputs": [
    {
     "data": {
      "text/html": [
       "<div>\n",
       "<style scoped>\n",
       "    .dataframe tbody tr th:only-of-type {\n",
       "        vertical-align: middle;\n",
       "    }\n",
       "\n",
       "    .dataframe tbody tr th {\n",
       "        vertical-align: top;\n",
       "    }\n",
       "\n",
       "    .dataframe thead th {\n",
       "        text-align: right;\n",
       "    }\n",
       "</style>\n",
       "<table border=\"1\" class=\"dataframe\">\n",
       "  <thead>\n",
       "    <tr style=\"text-align: right;\">\n",
       "      <th></th>\n",
       "      <th>Open</th>\n",
       "      <th>High</th>\n",
       "      <th>Low</th>\n",
       "      <th>Close</th>\n",
       "      <th>Adj Close</th>\n",
       "      <th>Volume</th>\n",
       "    </tr>\n",
       "    <tr>\n",
       "      <th>Date</th>\n",
       "      <th></th>\n",
       "      <th></th>\n",
       "      <th></th>\n",
       "      <th></th>\n",
       "      <th></th>\n",
       "      <th></th>\n",
       "    </tr>\n",
       "  </thead>\n",
       "  <tbody>\n",
       "    <tr>\n",
       "      <th>2014-09-17</th>\n",
       "      <td>465.864014</td>\n",
       "      <td>468.174011</td>\n",
       "      <td>452.421997</td>\n",
       "      <td>457.334015</td>\n",
       "      <td>457.334015</td>\n",
       "      <td>21056800</td>\n",
       "    </tr>\n",
       "    <tr>\n",
       "      <th>2014-09-18</th>\n",
       "      <td>456.859985</td>\n",
       "      <td>456.859985</td>\n",
       "      <td>413.104004</td>\n",
       "      <td>424.440002</td>\n",
       "      <td>424.440002</td>\n",
       "      <td>34483200</td>\n",
       "    </tr>\n",
       "    <tr>\n",
       "      <th>2014-09-19</th>\n",
       "      <td>424.102997</td>\n",
       "      <td>427.834991</td>\n",
       "      <td>384.532013</td>\n",
       "      <td>394.795990</td>\n",
       "      <td>394.795990</td>\n",
       "      <td>37919700</td>\n",
       "    </tr>\n",
       "    <tr>\n",
       "      <th>2014-09-20</th>\n",
       "      <td>394.673004</td>\n",
       "      <td>423.295990</td>\n",
       "      <td>389.882996</td>\n",
       "      <td>408.903992</td>\n",
       "      <td>408.903992</td>\n",
       "      <td>36863600</td>\n",
       "    </tr>\n",
       "    <tr>\n",
       "      <th>2014-09-21</th>\n",
       "      <td>408.084991</td>\n",
       "      <td>412.425995</td>\n",
       "      <td>393.181000</td>\n",
       "      <td>398.821014</td>\n",
       "      <td>398.821014</td>\n",
       "      <td>26580100</td>\n",
       "    </tr>\n",
       "    <tr>\n",
       "      <th>...</th>\n",
       "      <td>...</td>\n",
       "      <td>...</td>\n",
       "      <td>...</td>\n",
       "      <td>...</td>\n",
       "      <td>...</td>\n",
       "      <td>...</td>\n",
       "    </tr>\n",
       "    <tr>\n",
       "      <th>2022-11-18</th>\n",
       "      <td>16687.912109</td>\n",
       "      <td>16947.058594</td>\n",
       "      <td>16564.611328</td>\n",
       "      <td>16697.777344</td>\n",
       "      <td>16697.777344</td>\n",
       "      <td>26862218609</td>\n",
       "    </tr>\n",
       "    <tr>\n",
       "      <th>2022-11-19</th>\n",
       "      <td>16696.220703</td>\n",
       "      <td>16797.876953</td>\n",
       "      <td>16570.410156</td>\n",
       "      <td>16711.546875</td>\n",
       "      <td>16711.546875</td>\n",
       "      <td>16106223492</td>\n",
       "    </tr>\n",
       "    <tr>\n",
       "      <th>2022-11-20</th>\n",
       "      <td>16712.919922</td>\n",
       "      <td>16746.779297</td>\n",
       "      <td>16248.692383</td>\n",
       "      <td>16291.832031</td>\n",
       "      <td>16291.832031</td>\n",
       "      <td>21313378652</td>\n",
       "    </tr>\n",
       "    <tr>\n",
       "      <th>2022-11-21</th>\n",
       "      <td>16291.223633</td>\n",
       "      <td>16291.223633</td>\n",
       "      <td>15599.046875</td>\n",
       "      <td>15787.284180</td>\n",
       "      <td>15787.284180</td>\n",
       "      <td>37429485518</td>\n",
       "    </tr>\n",
       "    <tr>\n",
       "      <th>2022-11-22</th>\n",
       "      <td>15778.548828</td>\n",
       "      <td>16202.363281</td>\n",
       "      <td>15656.606445</td>\n",
       "      <td>16202.363281</td>\n",
       "      <td>16202.363281</td>\n",
       "      <td>35892744192</td>\n",
       "    </tr>\n",
       "  </tbody>\n",
       "</table>\n",
       "<p>2989 rows × 6 columns</p>\n",
       "</div>"
      ],
      "text/plain": [
       "                    Open          High           Low         Close  \\\n",
       "Date                                                                 \n",
       "2014-09-17    465.864014    468.174011    452.421997    457.334015   \n",
       "2014-09-18    456.859985    456.859985    413.104004    424.440002   \n",
       "2014-09-19    424.102997    427.834991    384.532013    394.795990   \n",
       "2014-09-20    394.673004    423.295990    389.882996    408.903992   \n",
       "2014-09-21    408.084991    412.425995    393.181000    398.821014   \n",
       "...                  ...           ...           ...           ...   \n",
       "2022-11-18  16687.912109  16947.058594  16564.611328  16697.777344   \n",
       "2022-11-19  16696.220703  16797.876953  16570.410156  16711.546875   \n",
       "2022-11-20  16712.919922  16746.779297  16248.692383  16291.832031   \n",
       "2022-11-21  16291.223633  16291.223633  15599.046875  15787.284180   \n",
       "2022-11-22  15778.548828  16202.363281  15656.606445  16202.363281   \n",
       "\n",
       "               Adj Close       Volume  \n",
       "Date                                   \n",
       "2014-09-17    457.334015     21056800  \n",
       "2014-09-18    424.440002     34483200  \n",
       "2014-09-19    394.795990     37919700  \n",
       "2014-09-20    408.903992     36863600  \n",
       "2014-09-21    398.821014     26580100  \n",
       "...                  ...          ...  \n",
       "2022-11-18  16697.777344  26862218609  \n",
       "2022-11-19  16711.546875  16106223492  \n",
       "2022-11-20  16291.832031  21313378652  \n",
       "2022-11-21  15787.284180  37429485518  \n",
       "2022-11-22  16202.363281  35892744192  \n",
       "\n",
       "[2989 rows x 6 columns]"
      ]
     },
     "execution_count": 49,
     "metadata": {},
     "output_type": "execute_result"
    }
   ],
   "source": [
    "data_filename = \"/ssd003/home/rnoori/forecasting-bootcamp/datasets/BTC-USD.csv\"\n",
    "data_df = pd.read_csv(data_filename, index_col=0)\n",
    "data_df.index = pd.to_datetime(data_df.index)\n",
    "data_df"
   ]
  },
  {
   "cell_type": "code",
   "execution_count": 67,
   "id": "controlling-causing",
   "metadata": {},
   "outputs": [
    {
     "data": {
      "text/html": [
       "<div>\n",
       "<style scoped>\n",
       "    .dataframe tbody tr th:only-of-type {\n",
       "        vertical-align: middle;\n",
       "    }\n",
       "\n",
       "    .dataframe tbody tr th {\n",
       "        vertical-align: top;\n",
       "    }\n",
       "\n",
       "    .dataframe thead th {\n",
       "        text-align: right;\n",
       "    }\n",
       "</style>\n",
       "<table border=\"1\" class=\"dataframe\">\n",
       "  <thead>\n",
       "    <tr style=\"text-align: right;\">\n",
       "      <th></th>\n",
       "      <th>Open</th>\n",
       "      <th>High</th>\n",
       "      <th>Low</th>\n",
       "      <th>Close</th>\n",
       "      <th>Adj Close</th>\n",
       "      <th>Volume</th>\n",
       "      <th>day_of_week</th>\n",
       "      <th>week_of_year</th>\n",
       "      <th>month</th>\n",
       "    </tr>\n",
       "    <tr>\n",
       "      <th>Date</th>\n",
       "      <th></th>\n",
       "      <th></th>\n",
       "      <th></th>\n",
       "      <th></th>\n",
       "      <th></th>\n",
       "      <th></th>\n",
       "      <th></th>\n",
       "      <th></th>\n",
       "      <th></th>\n",
       "    </tr>\n",
       "  </thead>\n",
       "  <tbody>\n",
       "    <tr>\n",
       "      <th>2014-09-17</th>\n",
       "      <td>465.864014</td>\n",
       "      <td>468.174011</td>\n",
       "      <td>452.421997</td>\n",
       "      <td>457.334015</td>\n",
       "      <td>457.334015</td>\n",
       "      <td>21056800</td>\n",
       "      <td>2</td>\n",
       "      <td>38</td>\n",
       "      <td>9</td>\n",
       "    </tr>\n",
       "    <tr>\n",
       "      <th>2014-09-18</th>\n",
       "      <td>456.859985</td>\n",
       "      <td>456.859985</td>\n",
       "      <td>413.104004</td>\n",
       "      <td>424.440002</td>\n",
       "      <td>424.440002</td>\n",
       "      <td>34483200</td>\n",
       "      <td>3</td>\n",
       "      <td>38</td>\n",
       "      <td>9</td>\n",
       "    </tr>\n",
       "    <tr>\n",
       "      <th>2014-09-19</th>\n",
       "      <td>424.102997</td>\n",
       "      <td>427.834991</td>\n",
       "      <td>384.532013</td>\n",
       "      <td>394.795990</td>\n",
       "      <td>394.795990</td>\n",
       "      <td>37919700</td>\n",
       "      <td>4</td>\n",
       "      <td>38</td>\n",
       "      <td>9</td>\n",
       "    </tr>\n",
       "    <tr>\n",
       "      <th>2014-09-20</th>\n",
       "      <td>394.673004</td>\n",
       "      <td>423.295990</td>\n",
       "      <td>389.882996</td>\n",
       "      <td>408.903992</td>\n",
       "      <td>408.903992</td>\n",
       "      <td>36863600</td>\n",
       "      <td>5</td>\n",
       "      <td>38</td>\n",
       "      <td>9</td>\n",
       "    </tr>\n",
       "    <tr>\n",
       "      <th>2014-09-21</th>\n",
       "      <td>408.084991</td>\n",
       "      <td>412.425995</td>\n",
       "      <td>393.181000</td>\n",
       "      <td>398.821014</td>\n",
       "      <td>398.821014</td>\n",
       "      <td>26580100</td>\n",
       "      <td>6</td>\n",
       "      <td>38</td>\n",
       "      <td>9</td>\n",
       "    </tr>\n",
       "  </tbody>\n",
       "</table>\n",
       "</div>"
      ],
      "text/plain": [
       "                  Open        High         Low       Close   Adj Close  \\\n",
       "Date                                                                     \n",
       "2014-09-17  465.864014  468.174011  452.421997  457.334015  457.334015   \n",
       "2014-09-18  456.859985  456.859985  413.104004  424.440002  424.440002   \n",
       "2014-09-19  424.102997  427.834991  384.532013  394.795990  394.795990   \n",
       "2014-09-20  394.673004  423.295990  389.882996  408.903992  408.903992   \n",
       "2014-09-21  408.084991  412.425995  393.181000  398.821014  398.821014   \n",
       "\n",
       "              Volume  day_of_week  week_of_year  month  \n",
       "Date                                                    \n",
       "2014-09-17  21056800            2            38      9  \n",
       "2014-09-18  34483200            3            38      9  \n",
       "2014-09-19  37919700            4            38      9  \n",
       "2014-09-20  36863600            5            38      9  \n",
       "2014-09-21  26580100            6            38      9  "
      ]
     },
     "execution_count": 67,
     "metadata": {},
     "output_type": "execute_result"
    }
   ],
   "source": [
    "data_df = data_df.assign(day_of_week = data_df.index.dayofweek)\\\n",
    ".assign(day_of_week = data_df.index.dayofweek)\\\n",
    "        .assign(month = data_df.index.month)\n",
    "#        .assign(week_of_year = data_df.index.week)\\\n",
    "\n",
    "\n",
    "data_df.head()"
   ]
  },
  {
   "cell_type": "code",
   "execution_count": 68,
   "id": "parallel-settle",
   "metadata": {},
   "outputs": [
    {
     "data": {
      "text/html": [
       "<div>\n",
       "<style scoped>\n",
       "    .dataframe tbody tr th:only-of-type {\n",
       "        vertical-align: middle;\n",
       "    }\n",
       "\n",
       "    .dataframe tbody tr th {\n",
       "        vertical-align: top;\n",
       "    }\n",
       "\n",
       "    .dataframe thead th {\n",
       "        text-align: right;\n",
       "    }\n",
       "</style>\n",
       "<table border=\"1\" class=\"dataframe\">\n",
       "  <thead>\n",
       "    <tr style=\"text-align: right;\">\n",
       "      <th></th>\n",
       "      <th>Date</th>\n",
       "      <th>Open</th>\n",
       "      <th>High</th>\n",
       "      <th>Low</th>\n",
       "      <th>Close</th>\n",
       "      <th>Adj Close</th>\n",
       "      <th>Volume</th>\n",
       "      <th>day_of_week</th>\n",
       "      <th>week_of_year</th>\n",
       "      <th>month</th>\n",
       "    </tr>\n",
       "  </thead>\n",
       "  <tbody>\n",
       "    <tr>\n",
       "      <th>0</th>\n",
       "      <td>2014-09-17</td>\n",
       "      <td>465.864014</td>\n",
       "      <td>468.174011</td>\n",
       "      <td>452.421997</td>\n",
       "      <td>457.334015</td>\n",
       "      <td>457.334015</td>\n",
       "      <td>21056800</td>\n",
       "      <td>2</td>\n",
       "      <td>38</td>\n",
       "      <td>9</td>\n",
       "    </tr>\n",
       "    <tr>\n",
       "      <th>1</th>\n",
       "      <td>2014-09-18</td>\n",
       "      <td>456.859985</td>\n",
       "      <td>456.859985</td>\n",
       "      <td>413.104004</td>\n",
       "      <td>424.440002</td>\n",
       "      <td>424.440002</td>\n",
       "      <td>34483200</td>\n",
       "      <td>3</td>\n",
       "      <td>38</td>\n",
       "      <td>9</td>\n",
       "    </tr>\n",
       "    <tr>\n",
       "      <th>2</th>\n",
       "      <td>2014-09-19</td>\n",
       "      <td>424.102997</td>\n",
       "      <td>427.834991</td>\n",
       "      <td>384.532013</td>\n",
       "      <td>394.795990</td>\n",
       "      <td>394.795990</td>\n",
       "      <td>37919700</td>\n",
       "      <td>4</td>\n",
       "      <td>38</td>\n",
       "      <td>9</td>\n",
       "    </tr>\n",
       "    <tr>\n",
       "      <th>3</th>\n",
       "      <td>2014-09-20</td>\n",
       "      <td>394.673004</td>\n",
       "      <td>423.295990</td>\n",
       "      <td>389.882996</td>\n",
       "      <td>408.903992</td>\n",
       "      <td>408.903992</td>\n",
       "      <td>36863600</td>\n",
       "      <td>5</td>\n",
       "      <td>38</td>\n",
       "      <td>9</td>\n",
       "    </tr>\n",
       "    <tr>\n",
       "      <th>4</th>\n",
       "      <td>2014-09-21</td>\n",
       "      <td>408.084991</td>\n",
       "      <td>412.425995</td>\n",
       "      <td>393.181000</td>\n",
       "      <td>398.821014</td>\n",
       "      <td>398.821014</td>\n",
       "      <td>26580100</td>\n",
       "      <td>6</td>\n",
       "      <td>38</td>\n",
       "      <td>9</td>\n",
       "    </tr>\n",
       "  </tbody>\n",
       "</table>\n",
       "</div>"
      ],
      "text/plain": [
       "        Date        Open        High         Low       Close   Adj Close  \\\n",
       "0 2014-09-17  465.864014  468.174011  452.421997  457.334015  457.334015   \n",
       "1 2014-09-18  456.859985  456.859985  413.104004  424.440002  424.440002   \n",
       "2 2014-09-19  424.102997  427.834991  384.532013  394.795990  394.795990   \n",
       "3 2014-09-20  394.673004  423.295990  389.882996  408.903992  408.903992   \n",
       "4 2014-09-21  408.084991  412.425995  393.181000  398.821014  398.821014   \n",
       "\n",
       "     Volume  day_of_week  week_of_year  month  \n",
       "0  21056800            2            38      9  \n",
       "1  34483200            3            38      9  \n",
       "2  37919700            4            38      9  \n",
       "3  36863600            5            38      9  \n",
       "4  26580100            6            38      9  "
      ]
     },
     "execution_count": 68,
     "metadata": {},
     "output_type": "execute_result"
    }
   ],
   "source": [
    "data_df = data_df.reset_index().rename({'index':'Date'}, axis=1)\n",
    "data_df.head()\n"
   ]
  },
  {
   "cell_type": "markdown",
   "id": "impossible-latin",
   "metadata": {
    "id": "lined-nicholas"
   },
   "source": [
    "### Split data according to use case\n",
    "\n",
    "For simplicity, this notebook uses a conventional training and testing split over the dataset. Other notebooks will give examples of rolling cross validation using multiple validation periods given by a set of cutoff dates. \n",
    "\n",
    "The purpose of this notebook is to explore a simpler problem formulation using multiple models. The experiments and analysis can be easily adapted for rolling cross validation."
   ]
  },
  {
   "cell_type": "code",
   "execution_count": 69,
   "id": "cathedral-treasurer",
   "metadata": {
    "id": "raised-uniform"
   },
   "outputs": [],
   "source": [
    "lag_time = 60\n",
    "lead_time = 7\n",
    "\n",
    "train_size = 0.8\n",
    "\n",
    "train_df = data_df.iloc[:int(len(data_df)*train_size)]\n",
    "test_df = data_df.iloc[int(len(data_df)*train_size):]"
   ]
  },
  {
   "cell_type": "markdown",
   "id": "incorporated-stick",
   "metadata": {},
   "source": [
    "To ensure that we have enough data for testing, we need to withhold at least `lag_time + lead_time` observations from the dataset. Assuming we want to test a fitted model on all available examples in the test set, the number of testing examples can be computed as follows."
   ]
  },
  {
   "cell_type": "code",
   "execution_count": 70,
   "id": "unnecessary-measure",
   "metadata": {},
   "outputs": [
    {
     "name": "stdout",
     "output_type": "stream",
     "text": [
      "   Timesteps in test_df: 598\n",
      "Number of test examples: 532\n"
     ]
    }
   ],
   "source": [
    "n_test_cases = len(test_df) - lag_time - lead_time + 1\n",
    "print(f\"   Timesteps in test_df: {len(test_df)}\")\n",
    "print(f\"Number of test examples: {n_test_cases}\")"
   ]
  },
  {
   "cell_type": "markdown",
   "id": "rental-aluminum",
   "metadata": {},
   "source": [
    "### Iterating over test examples\n",
    "\n",
    "To help with iterating over valid pairs of input and target data, we define a PyTorch-like dataset class. In this notebook, we'll use this primarily for iterating over test examples, since both Prophet and NeuralProphet impose their own, special formats for passing in training data."
   ]
  },
  {
   "cell_type": "code",
   "execution_count": 105,
   "id": "excess-fever",
   "metadata": {},
   "outputs": [],
   "source": [
    "class ForecastingDataset:\n",
    "\n",
    "    def __init__(self, data_df, lag_time, lead_time, feature_columns):\n",
    "        self.n_examples = len(data_df) - lag_time - lead_time + 1\n",
    "        assert self.n_examples > 0, \"Dataset must contain at least one example.\"\n",
    "        assert \"Date\" in data_df.columns or \"ds\" in data_df.columns  , \"Source DataFrame must contain a date/ds column.\"\n",
    "\n",
    "        self.df = data_df[feature_columns]\n",
    "        if 'Date' in data_df.columns:\n",
    "            self.dates = data_df.Date\n",
    "        elif 'ds' in data_df.columns:\n",
    "            self.dates = data_df.ds\n",
    "        self.lag_time = lag_time\n",
    "        self.lead_time = lead_time\n",
    "\n",
    "    def __len__(self):\n",
    "        return self.n_examples\n",
    "\n",
    "    def __getitem__(self, idx):\n",
    "        input = self.df.iloc[idx:idx+lag_time]\n",
    "        output = self.df.iloc[idx+lag_time:idx+lag_time+lead_time]\n",
    "        input_dates = self.dates[idx:idx+lag_time]\n",
    "        output_dates = self.dates[idx+lag_time:idx+lag_time+lead_time]\n",
    "        return input, output, input_dates, output_dates"
   ]
  },
  {
   "cell_type": "markdown",
   "id": "complicated-orientation",
   "metadata": {},
   "source": [
    "Next, we instantiate an indexable `test_dataset`. "
   ]
  },
  {
   "cell_type": "code",
   "execution_count": 72,
   "id": "chicken-sunday",
   "metadata": {},
   "outputs": [
    {
     "data": {
      "text/plain": [
       "Index(['Date', 'Open', 'High', 'Low', 'Close', 'Adj Close', 'Volume',\n",
       "       'day_of_week', 'week_of_year', 'month'],\n",
       "      dtype='object')"
      ]
     },
     "execution_count": 72,
     "metadata": {},
     "output_type": "execute_result"
    }
   ],
   "source": [
    "test_df.columns"
   ]
  },
  {
   "cell_type": "code",
   "execution_count": 73,
   "id": "juvenile-floor",
   "metadata": {},
   "outputs": [],
   "source": [
    "feature_columns = ['Open', 'High', 'Low', 'Close', 'Adj Close', 'Volume',\n",
    "       'day_of_week', 'week_of_year', 'month']\n",
    "test_dataset = ForecastingDataset(test_df, lag_time, lead_time, feature_columns)"
   ]
  },
  {
   "cell_type": "markdown",
   "id": "unlikely-northwest",
   "metadata": {
    "id": "announced-debate"
   },
   "source": [
    "# Evaluation Metrics\n",
    "\n",
    "In order to objectively compare the performance of this and other models on out-of-sample forecasting performance, we will need to collect output in a consistent format and apply a suite of standard evaluation metrics:\n",
    "\n",
    "- Mean Squared Error (MSE)\n",
    "- Root Mean Squared Error (RMSE)\n",
    "- Mean Absolute Error (MAE)\n",
    "- Mean Absolute Percentage Error (MAPE)\n",
    "\n",
    "See the article [Time Series Forecast Error Metrics You Should Know](https://towardsdatascience.com/time-series-forecast-error-metrics-you-should-know-cc88b8c67f27) for an overview of these and other popular forecasting error metrics. \n"
   ]
  },
  {
   "cell_type": "code",
   "execution_count": 74,
   "id": "laden-nothing",
   "metadata": {
    "id": "ambient-drink"
   },
   "outputs": [],
   "source": [
    "from sklearn.metrics import mean_squared_error, mean_absolute_error, mean_absolute_percentage_error\n",
    "\n",
    "metrics = {\n",
    "    'mse': mean_squared_error,\n",
    "    'rmse': lambda y_true, y_pred: np.sqrt(mean_squared_error(y_true, y_pred)),\n",
    "    'mae': mean_absolute_error,\n",
    "    'mape': mean_absolute_percentage_error\n",
    "}"
   ]
  },
  {
   "cell_type": "code",
   "execution_count": 75,
   "id": "expired-supplier",
   "metadata": {},
   "outputs": [],
   "source": [
    "def compute_error_statistics(error_metrics_dict, exp_name):\n",
    "    return {\n",
    "        'mean': pd.DataFrame(error_metrics_dict).mean(axis=0).rename(f'{exp_name}_mean_metrics'),\n",
    "        'std': pd.DataFrame(error_metrics_dict).std(axis=0).rename(f'{exp_name}_std_metrics'),\n",
    "        'max': pd.DataFrame(error_metrics_dict).max(axis=0).rename(f'{exp_name}_max_metrics'),\n",
    "    }"
   ]
  },
  {
   "cell_type": "markdown",
   "id": "federal-prague",
   "metadata": {},
   "source": [
    "# Baseline Forecasts\n",
    "\n",
    "Let's begin our experiments by producing forecasts using naïve estimators. A common baseline is *persistence forecasting*, where the forecast is simply an extension of the last known observation of the time series. A second baseline is the *mean window forecast*, where we take the mean over a window of observations and use this value for forecasts. The following code produces and collects the baseline forecasts into lists. "
   ]
  },
  {
   "cell_type": "code",
   "execution_count": 76,
   "id": "requested-payroll",
   "metadata": {},
   "outputs": [
    {
     "name": "stdout",
     "output_type": "stream",
     "text": [
      "              Open          High           Low         Close     Adj Close  \\\n",
      "2391  57604.839844  58913.746094  57168.675781  58758.554688  58758.554688   \n",
      "2392  58760.875000  59891.296875  57694.824219  59057.878906  59057.878906   \n",
      "2393  59171.933594  59479.578125  57646.808594  58192.359375  58192.359375   \n",
      "2394  58186.507813  58731.144531  55604.023438  56048.937500  56048.937500   \n",
      "2395  56099.914063  58338.738281  55879.085938  58323.953125  58323.953125   \n",
      "2396  58326.562500  58937.046875  57807.863281  58245.003906  58245.003906   \n",
      "2397  58253.777344  61276.664063  58038.707031  59793.234375  59793.234375   \n",
      "2398  59846.230469  60790.554688  59289.796875  60204.964844  60204.964844   \n",
      "2399  60175.945313  61253.035156  59589.875000  59893.453125  59893.453125   \n",
      "2400  59890.019531  63742.285156  59869.957031  63503.457031  63503.457031   \n",
      "2401  63523.753906  64863.097656  61554.796875  63109.695313  63109.695313   \n",
      "2402  63075.195313  63821.671875  62208.964844  63314.011719  63314.011719   \n",
      "2403  63258.503906  63594.722656  60222.531250  61572.789063  61572.789063   \n",
      "2404  61529.921875  62572.175781  60361.351563  60683.820313  60683.820313   \n",
      "2405  60701.886719  61057.457031  52829.535156  56216.183594  56216.183594   \n",
      "2406  56191.585938  57520.054688  54368.593750  55724.265625  55724.265625   \n",
      "2407  55681.792969  57062.148438  53448.046875  56473.031250  56473.031250   \n",
      "2408  56471.128906  56757.972656  53695.468750  53906.089844  53906.089844   \n",
      "2409  53857.105469  55410.230469  50583.812500  51762.273438  51762.273438   \n",
      "2410  51739.808594  52120.792969  47714.664063  51093.652344  51093.652344   \n",
      "2411  51143.226563  51167.562500  48805.285156  50050.867188  50050.867188   \n",
      "2412  50052.832031  50506.019531  47159.484375  49004.253906  49004.253906   \n",
      "2413  49077.792969  54288.003906  48852.796875  54021.753906  54021.753906   \n",
      "2414  54030.304688  55416.964844  53319.187500  55033.117188  55033.117188   \n",
      "2415  55036.636719  56227.207031  53887.917969  54824.703125  54824.703125   \n",
      "2416  54858.089844  55115.843750  52418.027344  53555.109375  53555.109375   \n",
      "2417  53568.664063  57900.718750  53129.601563  57750.175781  57750.175781   \n",
      "2418  57714.664063  58448.339844  57052.273438  57828.050781  57828.050781   \n",
      "2419  57825.863281  57902.593750  56141.906250  56631.078125  56631.078125   \n",
      "2420  56620.273438  58973.308594  56590.871094  57200.292969  57200.292969   \n",
      "2421  57214.179688  57214.179688  53191.425781  53333.539063  53333.539063   \n",
      "2422  53252.164063  57911.363281  52969.054688  57424.007813  57424.007813   \n",
      "2423  57441.308594  58363.316406  55382.507813  56396.515625  56396.515625   \n",
      "2424  56413.953125  58606.632813  55321.847656  57356.402344  57356.402344   \n",
      "2425  57352.765625  59464.613281  56975.210938  58803.777344  58803.777344   \n",
      "2426  58877.390625  59210.882813  56482.003906  58232.316406  58232.316406   \n",
      "2427  58250.871094  59519.355469  54071.457031  55859.796875  55859.796875   \n",
      "2428  55847.242188  56872.542969  54608.652344  56704.574219  56704.574219   \n",
      "2429  56714.531250  57939.363281  49150.535156  49150.535156  49150.535156   \n",
      "2430  49735.433594  51330.843750  46980.019531  49716.191406  49716.191406   \n",
      "2431  49682.980469  51438.117188  48868.578125  49880.535156  49880.535156   \n",
      "2432  49855.496094  50639.664063  46664.140625  46760.187500  46760.187500   \n",
      "2433  46716.636719  49720.042969  43963.351563  46456.058594  46456.058594   \n",
      "2434  46415.898438  46623.558594  42207.289063  43537.511719  43537.511719   \n",
      "2435  43488.058594  45812.457031  42367.832031  42909.402344  42909.402344   \n",
      "2436  42944.976563  43546.117188  30681.496094  37002.441406  37002.441406   \n",
      "2437  36753.667969  42462.984375  35050.617188  40782.738281  40782.738281   \n",
      "2438  40596.949219  42172.171875  33616.453125  37304.691406  37304.691406   \n",
      "2439  37371.031250  38831.054688  35383.683594  37536.632813  37536.632813   \n",
      "2440  37531.449219  38289.218750  31227.339844  34770.582031  34770.582031   \n",
      "2441  34700.363281  39835.140625  34551.082031  38705.980469  38705.980469   \n",
      "2442  38795.781250  39776.351563  36581.429688  38402.222656  38402.222656   \n",
      "2443  38392.625000  40782.078125  37905.835938  39294.199219  39294.199219   \n",
      "2444  39316.890625  40379.617188  37247.902344  38436.968750  38436.968750   \n",
      "2445  38507.082031  38856.968750  34779.039063  35697.605469  35697.605469   \n",
      "2446  35684.156250  37234.500000  33693.929688  34616.066406  34616.066406   \n",
      "2447  34607.406250  36400.667969  33520.738281  35678.128906  35678.128906   \n",
      "2448  35658.593750  37468.250000  34241.945313  37332.855469  37332.855469   \n",
      "2449  37293.792969  37896.734375  35787.085938  36684.925781  36684.925781   \n",
      "2450  36699.921875  38231.339844  35966.308594  37575.179688  37575.179688   \n",
      "\n",
      "            Volume  day_of_week  week_of_year  month  \n",
      "2391   50749662970            6            13      4  \n",
      "2392   60706272115            0            14      4  \n",
      "2393   66058027988            1            14      4  \n",
      "2394   75645303584            2            14      4  \n",
      "2395   53053855641            3            14      4  \n",
      "2396   46655208546            4            14      4  \n",
      "2397   58238470525            5            14      4  \n",
      "2398   46280252580            6            14      4  \n",
      "2399   51828688519            0            15      4  \n",
      "2400   69983454362            1            15      4  \n",
      "2401   77451779687            2            15      4  \n",
      "2402   60954381579            3            15      4  \n",
      "2403   84293007468            4            15      4  \n",
      "2404   66138759198            5            15      4  \n",
      "2405   97468872758            6            15      4  \n",
      "2406   65344865159            0            16      4  \n",
      "2407   67849323955            1            16      4  \n",
      "2408   54926612466            2            16      4  \n",
      "2409   74798630778            3            16      4  \n",
      "2410   86668667320            4            16      4  \n",
      "2411   49014494781            5            16      4  \n",
      "2412   46117114240            6            16      4  \n",
      "2413   58284039825            0            17      4  \n",
      "2414   49448222757            1            17      4  \n",
      "2415   48000572955            2            17      4  \n",
      "2416   46088929780            3            17      4  \n",
      "2417   52395931985            4            17      4  \n",
      "2418   42836427360            5            17      5  \n",
      "2419   38177405335            6            17      5  \n",
      "2420   51713139031            0            18      5  \n",
      "2421   68564706967            1            18      5  \n",
      "2422   69241316747            2            18      5  \n",
      "2423   69523285106            3            18      5  \n",
      "2424   68434023376            4            18      5  \n",
      "2425   65382980634            5            18      5  \n",
      "2426   65906690347            6            18      5  \n",
      "2427   71776546298            0            19      5  \n",
      "2428   61308396325            1            19      5  \n",
      "2429   75215403907            2            19      5  \n",
      "2430   96721152926            3            19      5  \n",
      "2431   55737497453            4            19      5  \n",
      "2432   59161047474            5            19      5  \n",
      "2433   64047871555            6            19      5  \n",
      "2434   74903638450            0            20      5  \n",
      "2435   56187365084            1            20      5  \n",
      "2436  126358098747            2            20      5  \n",
      "2437   88281943359            3            20      5  \n",
      "2438   82051616861            4            20      5  \n",
      "2439   57377273240            5            20      5  \n",
      "2440   78469274361            6            20      5  \n",
      "2441   67359584098            0            21      5  \n",
      "2442   56211915803            1            21      5  \n",
      "2443   51346735160            2            21      5  \n",
      "2444   43210968721            3            21      5  \n",
      "2445   55200191952            4            21      5  \n",
      "2446   45231013335            5            21      5  \n",
      "2447   31646080921            6            21      5  \n",
      "2448   39009847639            0            22      5  \n",
      "2449   34639423297            1            22      6  \n",
      "2450   33070867190            2            22      6  \n",
      "              Open          High           Low         Close     Adj Close  \\\n",
      "2451  37599.410156  39478.953125  37243.972656  39208.765625  39208.765625   \n",
      "2452  39242.484375  39242.484375  35717.722656  36894.406250  36894.406250   \n",
      "2453  36880.156250  37917.714844  34900.414063  35551.957031  35551.957031   \n",
      "2454  35538.609375  36436.421875  35304.578125  35862.378906  35862.378906   \n",
      "2455  35835.265625  36790.570313  33480.640625  33560.707031  33560.707031   \n",
      "2456  33589.519531  34017.386719  31114.443359  33472.632813  33472.632813   \n",
      "2457  33416.976563  37537.371094  32475.865234  37345.121094  37345.121094   \n",
      "\n",
      "           Volume  day_of_week  week_of_year  month  \n",
      "2451  35460750427            3            22      6  \n",
      "2452  41831090187            4            22      6  \n",
      "2453  35959473399            5            22      6  \n",
      "2454  28913440585            6            22      6  \n",
      "2455  33683936663            0            23      6  \n",
      "2456  49902050442            1            23      6  \n",
      "2457  53972919008            2            23      6  \n"
     ]
    }
   ],
   "source": [
    "x, y, x_d, y_d = test_dataset[0]\n",
    "print(x)\n",
    "print(y)"
   ]
  },
  {
   "cell_type": "code",
   "execution_count": 77,
   "id": "bored-smooth",
   "metadata": {},
   "outputs": [
    {
     "name": "stdout",
     "output_type": "stream",
     "text": [
      "531\r"
     ]
    }
   ],
   "source": [
    "baseline_model_persistence = NaiveForecaster(strategy='last')\n",
    "baseline_model_mean = NaiveForecaster(strategy='mean',window_length=lag_time)\n",
    "\n",
    "forecasts_persistence = []\n",
    "forecasts_mean = []\n",
    "\n",
    "for i in range(len(test_dataset)):\n",
    "    x, y, x_d, y_d = test_dataset[i]\n",
    "    \n",
    "    persistence_fc = baseline_model_persistence.fit_predict(x['Adj Close'], fh=list(range(1, lead_time+1)))\n",
    "    persistence_fc = pd.Series(persistence_fc.values, index=y_d)\n",
    "    forecasts_persistence.append(persistence_fc)\n",
    "\n",
    "    mean_fc = baseline_model_mean.fit_predict(x['Adj Close'], fh=list(range(lead_time)))\n",
    "    mean_fc = pd.Series(mean_fc.values, index=y_d)\n",
    "    forecasts_mean.append(mean_fc)\n",
    "\n",
    "    print(i, end='\\r')"
   ]
  },
  {
   "cell_type": "markdown",
   "id": "understanding-garage",
   "metadata": {},
   "source": [
    "### Compute error metrics over the baseline forecasts\n",
    "\n",
    "In this notebook, we want to compare the performance of experimental models (Prophet, NeuralProphet) compared to baselines (persistence and mean window extension). The following code applies each of the four evaluation metrics for every example in the test set. "
   ]
  },
  {
   "cell_type": "code",
   "execution_count": 78,
   "id": "marked-moderator",
   "metadata": {},
   "outputs": [],
   "source": [
    "def compute_baseline_error_metrics(forecasts, test_dataset):\n",
    "\n",
    "    errors = {metric_name:[] for metric_name in metrics.keys()}\n",
    "\n",
    "    for i in range(len(forecasts)):\n",
    "        \n",
    "        fc = forecasts[i]\n",
    "        x, y, x_d, y_d = test_dataset[i]\n",
    "    \n",
    "        for metric_name, metric_fn in metrics.items(): \n",
    "                errors[metric_name].append(metric_fn(y_true=y['Adj Close'], y_pred=fc))\n",
    "\n",
    "    return errors, forecasts\n",
    "\n",
    "persistence_errors, _ = compute_baseline_error_metrics(forecasts_persistence, test_dataset)\n",
    "mean_errors, _ = compute_baseline_error_metrics(forecasts_mean, test_dataset)"
   ]
  },
  {
   "cell_type": "markdown",
   "id": "final-chase",
   "metadata": {},
   "source": [
    "The following code uses the function `compute_error_statistics` to reduce the mean evaluation metrics over the entire test set to three statistics (mean, standard deviation, and max)."
   ]
  },
  {
   "cell_type": "code",
   "execution_count": 79,
   "id": "continuous-tours",
   "metadata": {},
   "outputs": [
    {
     "data": {
      "text/plain": [
       "mse     6.968493e+06\n",
       "rmse    2.136756e+03\n",
       "mae     1.860883e+03\n",
       "mape    5.149517e-02\n",
       "Name: persistence_mean_metrics, dtype: float64"
      ]
     },
     "execution_count": 79,
     "metadata": {},
     "output_type": "execute_result"
    }
   ],
   "source": [
    "persistence_stats = compute_error_statistics(persistence_errors, 'persistence')\n",
    "persistence_stats['mean']"
   ]
  },
  {
   "cell_type": "code",
   "execution_count": 80,
   "id": "allied-deficit",
   "metadata": {},
   "outputs": [
    {
     "data": {
      "text/plain": [
       "mse     4.933859e+07\n",
       "rmse    5.811160e+03\n",
       "mae     5.652429e+03\n",
       "mape    1.586152e-01\n",
       "Name: mean_window_mean_metrics, dtype: float64"
      ]
     },
     "execution_count": 80,
     "metadata": {},
     "output_type": "execute_result"
    }
   ],
   "source": [
    "mean_window_stats = compute_error_statistics(mean_errors, 'mean_window')\n",
    "mean_window_stats['mean']"
   ]
  },
  {
   "cell_type": "markdown",
   "id": "hearing-baltimore",
   "metadata": {},
   "source": [
    "We now collect the mean evaluation statistics for each metric into a DataFrame so that we can later compare these to experimental models."
   ]
  },
  {
   "cell_type": "code",
   "execution_count": 81,
   "id": "combined-carrier",
   "metadata": {},
   "outputs": [
    {
     "data": {
      "text/html": [
       "<div>\n",
       "<style scoped>\n",
       "    .dataframe tbody tr th:only-of-type {\n",
       "        vertical-align: middle;\n",
       "    }\n",
       "\n",
       "    .dataframe tbody tr th {\n",
       "        vertical-align: top;\n",
       "    }\n",
       "\n",
       "    .dataframe thead th {\n",
       "        text-align: right;\n",
       "    }\n",
       "</style>\n",
       "<table border=\"1\" class=\"dataframe\">\n",
       "  <thead>\n",
       "    <tr style=\"text-align: right;\">\n",
       "      <th></th>\n",
       "      <th>mse</th>\n",
       "      <th>rmse</th>\n",
       "      <th>mae</th>\n",
       "      <th>mape</th>\n",
       "    </tr>\n",
       "  </thead>\n",
       "  <tbody>\n",
       "    <tr>\n",
       "      <th>persistence_mean_metrics</th>\n",
       "      <td>6.968493e+06</td>\n",
       "      <td>2136.756304</td>\n",
       "      <td>1860.883106</td>\n",
       "      <td>0.051495</td>\n",
       "    </tr>\n",
       "    <tr>\n",
       "      <th>mean_window_mean_metrics</th>\n",
       "      <td>4.933859e+07</td>\n",
       "      <td>5811.159776</td>\n",
       "      <td>5652.428705</td>\n",
       "      <td>0.158615</td>\n",
       "    </tr>\n",
       "  </tbody>\n",
       "</table>\n",
       "</div>"
      ],
      "text/plain": [
       "                                   mse         rmse          mae      mape\n",
       "persistence_mean_metrics  6.968493e+06  2136.756304  1860.883106  0.051495\n",
       "mean_window_mean_metrics  4.933859e+07  5811.159776  5652.428705  0.158615"
      ]
     },
     "execution_count": 81,
     "metadata": {},
     "output_type": "execute_result"
    }
   ],
   "source": [
    "results_df = pd.DataFrame(persistence_stats['mean']).T\n",
    "results_df = results_df.append(mean_window_stats['mean'])\n",
    "results_df"
   ]
  },
  {
   "cell_type": "markdown",
   "id": "american-approach",
   "metadata": {},
   "source": [
    "### Visualizing forecasts over the test set\n",
    "\n",
    "For each example in the test set, we have produced a forecast between `1` and `lead_time` days into the future. As we will see later, this is difficult to visualize over the whole test set. Instead, we can visualize the value of each forecast at a single time step into the future. The code below visualizes the baseline forecasts at the maximum lead time. As we can see, the persistence forecast is exactly the ground truth shifted `lead_time` days into the future. In the context of exchange rate forecasting, this baseline may be difficult to beat.\n",
    "\n",
    "#### Persistence Forecasts At Max Lead Time"
   ]
  },
  {
   "cell_type": "code",
   "execution_count": 85,
   "id": "minus-creek",
   "metadata": {},
   "outputs": [
    {
     "data": {
      "text/plain": [
       "<matplotlib.legend.Legend at 0x7fab22cd4c10>"
      ]
     },
     "execution_count": 85,
     "metadata": {},
     "output_type": "execute_result"
    },
    {
     "data": {
      "image/png": "[encoded data removed]",
      "text/plain": [
       "<Figure size 864x216 with 1 Axes>"
      ]
     },
     "metadata": {
      "needs_background": "light"
     },
     "output_type": "display_data"
    }
   ],
   "source": [
    "max_fcs = [{'Date': fc.index[-1:][0], 'yhat':fc[-1:][0]} for fc in forecasts_persistence]\n",
    "max_fcs = pd.DataFrame(max_fcs)\n",
    "\n",
    "plt.figure(figsize=(12,3))\n",
    "plt.plot(test_df.Date, test_df['Adj Close'], color='blue', label='ground truth')\n",
    "plt.plot(max_fcs.Date, max_fcs.yhat, color='red', label='forecast')\n",
    "plt.title(f\"Forecasts at max lead time ({lead_time} samples) - Persistence\")\n",
    "plt.legend(loc='upper right')"
   ]
  },
  {
   "cell_type": "code",
   "execution_count": 89,
   "id": "offshore-pioneer",
   "metadata": {},
   "outputs": [
    {
     "data": {
      "text/plain": [
       "<matplotlib.legend.Legend at 0x7fab21961520>"
      ]
     },
     "execution_count": 89,
     "metadata": {},
     "output_type": "execute_result"
    },
    {
     "data": {
      "image/png": "[encoded data removed]",
      "text/plain": [
       "<Figure size 864x216 with 1 Axes>"
      ]
     },
     "metadata": {
      "needs_background": "light"
     },
     "output_type": "display_data"
    }
   ],
   "source": [
    "# Plot ground truth\n",
    "plt.figure(figsize=(12,3))\n",
    "ground_truth = test_df[['Date', 'Adj Close']]\n",
    "plt.plot(ground_truth.Date, ground_truth['Adj Close'], label='ground truth')\n",
    "\n",
    "# Plot example single forecast\n",
    "plt.plot(forecasts_persistence[-1], label='forecast')\n",
    "plt.legend()"
   ]
  },
  {
   "cell_type": "markdown",
   "id": "stretch-queensland",
   "metadata": {},
   "source": [
    "#### Mean Window Forecasts At Max Lead Time"
   ]
  },
  {
   "cell_type": "code",
   "execution_count": 90,
   "id": "awful-diagram",
   "metadata": {},
   "outputs": [
    {
     "data": {
      "text/plain": [
       "<matplotlib.legend.Legend at 0x7fab218e0cd0>"
      ]
     },
     "execution_count": 90,
     "metadata": {},
     "output_type": "execute_result"
    },
    {
     "data": {
      "image/png": "[encoded data removed]",
      "text/plain": [
       "<Figure size 864x216 with 1 Axes>"
      ]
     },
     "metadata": {
      "needs_background": "light"
     },
     "output_type": "display_data"
    }
   ],
   "source": [
    "max_fcs = [{'Date': fc.index[-1:][0], 'yhat':fc[-1:][0]} for fc in forecasts_mean]\n",
    "max_fcs = pd.DataFrame(max_fcs)\n",
    "\n",
    "plt.figure(figsize=(12,3))\n",
    "plt.plot(test_df.Date, test_df['Adj Close'], color='blue', label='ground truth')\n",
    "plt.plot(max_fcs.Date, max_fcs.yhat, color='red', label='forecast')\n",
    "plt.title(f\"Forecasts at max lead time ({lead_time} samples) - Mean Window\")\n",
    "plt.legend(loc='upper right')"
   ]
  },
  {
   "cell_type": "code",
   "execution_count": 92,
   "id": "acknowledged-quick",
   "metadata": {},
   "outputs": [
    {
     "data": {
      "text/plain": [
       "<matplotlib.legend.Legend at 0x7fab2116df70>"
      ]
     },
     "execution_count": 92,
     "metadata": {},
     "output_type": "execute_result"
    },
    {
     "data": {
      "image/png": "[encoded data removed]",
      "text/plain": [
       "<Figure size 864x216 with 1 Axes>"
      ]
     },
     "metadata": {
      "needs_background": "light"
     },
     "output_type": "display_data"
    }
   ],
   "source": [
    "# Plot ground truth\n",
    "plt.figure(figsize=(12,3))\n",
    "ground_truth = test_df[['Date', 'Adj Close']]\n",
    "plt.plot(ground_truth.Date, ground_truth['Adj Close'], label='ground truth')\n",
    "\n",
    "# Plot example single forecast\n",
    "plt.plot(forecasts_mean[-1], label='forecast')\n",
    "plt.legend()"
   ]
  },
  {
   "cell_type": "markdown",
   "id": "popular-newsletter",
   "metadata": {
    "id": "latin-atlas"
   },
   "source": [
    "# Prophet\n",
    "\n",
    "Univariate forecasting that supports additional *future* regressors. Prophet does not support the inclusion of *lagged regressors*, i.e. it does not support the use of historical values of multiple series to predict a single target series. We include it as a baseline because it is popular, lightweight, interpretable, and performs very well in some domains. \n",
    "\n",
    "Prophet is based on a Generalized Additive Model (GAM):\n",
    "\n",
    "$ y(t) = g(t) + s(t) + h(t) + \\epsilon_t$\n",
    "\n",
    "where $y(t)$ is the target series, $g(t)$ is the trend function, $s(t)$ is the seasonality or periodic function, $h(t)$ is a function reflecting holidays or other irregular events, and $\\epsilon_t$ is an error term that is assumed to be normally distributed.\n",
    "\n",
    "Despite being formulated as an additive model, multiplicative interaction between seasonality and trend components is supported (using a log transform). In the implementation, this is easily configurable using a constructor parameter. See the [documentation](https://facebook.github.io/prophet/docs/multiplicative_seasonality.html) for more details.\n",
    "\n",
    "#### Data Preparation\n",
    "\n",
    "Prophet, like most forecasting packages, imposes its own, specific format for input data. It expects inputs in the form of a Pandas DataFrame with two columns, `ds` and `y`, which correspond to Pandas-formatted timestamps and the target time series, respectively.\n",
    "\n",
    "In this example, we create a Prophet DataFrame by selecting the columns `date` and `USD_CLOSE` from the Bank of Canada exchange rate dataset. We then rename those columns to `ds` and `y`, respectively. \n",
    "\n",
    "Note that the `ds` column is already correctly formatted using the Pandas datetime format, since we converted it immediately after loading the data. When reading CSVs, always be sure to check that datestamps are properly formatted."
   ]
  },
  {
   "cell_type": "code",
   "execution_count": 93,
   "id": "fewer-numbers",
   "metadata": {
    "colab": {
     "base_uri": "https://localhost:8080/",
     "height": 424
    },
    "id": "generous-glasgow",
    "outputId": "90affa3b-a381-42a5-e6db-72f5160a3640"
   },
   "outputs": [
    {
     "data": {
      "text/html": [
       "<div>\n",
       "<style scoped>\n",
       "    .dataframe tbody tr th:only-of-type {\n",
       "        vertical-align: middle;\n",
       "    }\n",
       "\n",
       "    .dataframe tbody tr th {\n",
       "        vertical-align: top;\n",
       "    }\n",
       "\n",
       "    .dataframe thead th {\n",
       "        text-align: right;\n",
       "    }\n",
       "</style>\n",
       "<table border=\"1\" class=\"dataframe\">\n",
       "  <thead>\n",
       "    <tr style=\"text-align: right;\">\n",
       "      <th></th>\n",
       "      <th>ds</th>\n",
       "      <th>y</th>\n",
       "    </tr>\n",
       "  </thead>\n",
       "  <tbody>\n",
       "    <tr>\n",
       "      <th>0</th>\n",
       "      <td>2014-09-17</td>\n",
       "      <td>457.334015</td>\n",
       "    </tr>\n",
       "    <tr>\n",
       "      <th>1</th>\n",
       "      <td>2014-09-18</td>\n",
       "      <td>424.440002</td>\n",
       "    </tr>\n",
       "    <tr>\n",
       "      <th>2</th>\n",
       "      <td>2014-09-19</td>\n",
       "      <td>394.795990</td>\n",
       "    </tr>\n",
       "    <tr>\n",
       "      <th>3</th>\n",
       "      <td>2014-09-20</td>\n",
       "      <td>408.903992</td>\n",
       "    </tr>\n",
       "    <tr>\n",
       "      <th>4</th>\n",
       "      <td>2014-09-21</td>\n",
       "      <td>398.821014</td>\n",
       "    </tr>\n",
       "    <tr>\n",
       "      <th>...</th>\n",
       "      <td>...</td>\n",
       "      <td>...</td>\n",
       "    </tr>\n",
       "    <tr>\n",
       "      <th>2386</th>\n",
       "      <td>2021-03-30</td>\n",
       "      <td>58917.691406</td>\n",
       "    </tr>\n",
       "    <tr>\n",
       "      <th>2387</th>\n",
       "      <td>2021-03-31</td>\n",
       "      <td>58918.832031</td>\n",
       "    </tr>\n",
       "    <tr>\n",
       "      <th>2388</th>\n",
       "      <td>2021-04-01</td>\n",
       "      <td>59095.808594</td>\n",
       "    </tr>\n",
       "    <tr>\n",
       "      <th>2389</th>\n",
       "      <td>2021-04-02</td>\n",
       "      <td>59384.312500</td>\n",
       "    </tr>\n",
       "    <tr>\n",
       "      <th>2390</th>\n",
       "      <td>2021-04-03</td>\n",
       "      <td>57603.890625</td>\n",
       "    </tr>\n",
       "  </tbody>\n",
       "</table>\n",
       "<p>2391 rows × 2 columns</p>\n",
       "</div>"
      ],
      "text/plain": [
       "             ds             y\n",
       "0    2014-09-17    457.334015\n",
       "1    2014-09-18    424.440002\n",
       "2    2014-09-19    394.795990\n",
       "3    2014-09-20    408.903992\n",
       "4    2014-09-21    398.821014\n",
       "...         ...           ...\n",
       "2386 2021-03-30  58917.691406\n",
       "2387 2021-03-31  58918.832031\n",
       "2388 2021-04-01  59095.808594\n",
       "2389 2021-04-02  59384.312500\n",
       "2390 2021-04-03  57603.890625\n",
       "\n",
       "[2391 rows x 2 columns]"
      ]
     },
     "execution_count": 93,
     "metadata": {},
     "output_type": "execute_result"
    }
   ],
   "source": [
    "prophet_model_df = train_df[['Date', 'Adj Close']]\n",
    "prophet_model_df = train_df.rename({'Date':'ds', 'Adj Close':'y'}, axis=1)\n",
    "prophet_model_df = prophet_model_df[['ds', 'y']]\n",
    "prophet_model_df"
   ]
  },
  {
   "cell_type": "markdown",
   "id": "vulnerable-allocation",
   "metadata": {
    "id": "ideal-injury"
   },
   "source": [
    "### Model Initialization and Fitting\n",
    "\n",
    "For our baseline model, we fit Prophet using its default configuration."
   ]
  },
  {
   "cell_type": "code",
   "execution_count": 94,
   "id": "smoking-arrest",
   "metadata": {
    "colab": {
     "base_uri": "https://localhost:8080/"
    },
    "id": "blond-stamp",
    "outputId": "ac3aaa63-501a-45b4-b715-77e569bd5c6f"
   },
   "outputs": [
    {
     "name": "stderr",
     "output_type": "stream",
     "text": [
      "INFO:prophet:Disabling daily seasonality. Run prophet with daily_seasonality=True to override this.\n"
     ]
    },
    {
     "name": "stdout",
     "output_type": "stream",
     "text": [
      "Initial log joint probability = -212.086\n",
      "    Iter      log prob        ||dx||      ||grad||       alpha      alpha0  # evals  Notes \n",
      "      99       4839.68    0.00785587       471.411      0.6073      0.6073      122   \n",
      "    Iter      log prob        ||dx||      ||grad||       alpha      alpha0  # evals  Notes \n",
      "     177       4923.98   0.000649454       462.248   1.084e-06       0.001      247  LS failed, Hessian reset \n",
      "     199       4933.99    0.00330786       190.994           1           1      271   \n",
      "    Iter      log prob        ||dx||      ||grad||       alpha      alpha0  # evals  Notes \n",
      "     299       4948.95    0.00134271       124.129      0.9669      0.9669      390   \n",
      "    Iter      log prob        ||dx||      ||grad||       alpha      alpha0  # evals  Notes \n",
      "     399        4957.5    0.00218785       160.531      0.5036           1      524   \n",
      "    Iter      log prob        ||dx||      ||grad||       alpha      alpha0  # evals  Notes \n",
      "     486        4959.1     0.0018135       175.508   1.657e-05       0.001      670  LS failed, Hessian reset \n",
      "     499       4959.97    0.00228093       325.016           1           1      686   \n",
      "    Iter      log prob        ||dx||      ||grad||       alpha      alpha0  # evals  Notes \n",
      "     526       4960.45   0.000139993        106.91   1.348e-06       0.001      750  LS failed, Hessian reset \n",
      "     599       4961.01     0.0464511       140.519           1           1      843   \n",
      "    Iter      log prob        ||dx||      ||grad||       alpha      alpha0  # evals  Notes \n",
      "     699       4969.28   1.74266e-07        134.92   2.414e-06           1      985   \n",
      "    Iter      log prob        ||dx||      ||grad||       alpha      alpha0  # evals  Notes \n",
      "     727       4970.29    0.00141977       147.558   1.599e-05       0.001     1066  LS failed, Hessian reset \n",
      "     799       4971.01   0.000595819       75.3737      0.6712      0.6712     1157   \n",
      "    Iter      log prob        ||dx||      ||grad||       alpha      alpha0  # evals  Notes \n",
      "     833        4971.3    0.00017864       133.824   2.036e-06       0.001     1254  LS failed, Hessian reset \n",
      "     849       4971.48   0.000141401       96.0519   7.539e-07       0.001     1316  LS failed, Hessian reset \n",
      "     885       4971.54   2.24997e-07        64.368      0.2381      0.2381     1363   \n",
      "Optimization terminated normally: \n",
      "  Convergence detected: relative gradient magnitude is below tolerance\n"
     ]
    }
   ],
   "source": [
    "model = Prophet()\n",
    "model = model.fit(prophet_model_df)"
   ]
  },
  {
   "cell_type": "markdown",
   "id": "public-austria",
   "metadata": {
    "id": "facial-tracker"
   },
   "source": [
    "### Produce Forecasts\n",
    "\n",
    "To produce a forecast using a fitted Prophet model, we need to pass it a dataframe with the desired timestamps in a column named `ds`. In the example below, we use the fitted model object to produce a dataframe `future` with dates that extend `len(test_df)` days beyond the training dates. Passing `future` to the fitted model's `predict` function will return a dataframe populated with a detailed forecast, including model component values and confidence ranges.\n",
    "\n",
    "Notice here that we are asking Prophet to produce a single forecast for the entire test period. We are doing this because Prophet does not support inference using fixed-sized inputs in the same way that every other technique considered in our bootcamp does. "
   ]
  },
  {
   "cell_type": "code",
   "execution_count": 95,
   "id": "finished-visit",
   "metadata": {
    "id": "twenty-ghana"
   },
   "outputs": [],
   "source": [
    "future = model.make_future_dataframe(periods=len(test_df))\n",
    "forecast = model.predict(future)"
   ]
  },
  {
   "cell_type": "code",
   "execution_count": 96,
   "id": "egyptian-broadcast",
   "metadata": {
    "colab": {
     "base_uri": "https://localhost:8080/",
     "height": 270
    },
    "id": "identical-affair",
    "outputId": "49d90418-c170-47d3-c353-5ad5c5fdd4f2"
   },
   "outputs": [
    {
     "data": {
      "text/html": [
       "<div>\n",
       "<style scoped>\n",
       "    .dataframe tbody tr th:only-of-type {\n",
       "        vertical-align: middle;\n",
       "    }\n",
       "\n",
       "    .dataframe tbody tr th {\n",
       "        vertical-align: top;\n",
       "    }\n",
       "\n",
       "    .dataframe thead th {\n",
       "        text-align: right;\n",
       "    }\n",
       "</style>\n",
       "<table border=\"1\" class=\"dataframe\">\n",
       "  <thead>\n",
       "    <tr style=\"text-align: right;\">\n",
       "      <th></th>\n",
       "      <th>ds</th>\n",
       "      <th>trend</th>\n",
       "      <th>yhat_lower</th>\n",
       "      <th>yhat_upper</th>\n",
       "      <th>trend_lower</th>\n",
       "      <th>trend_upper</th>\n",
       "      <th>additive_terms</th>\n",
       "      <th>additive_terms_lower</th>\n",
       "      <th>additive_terms_upper</th>\n",
       "      <th>weekly</th>\n",
       "      <th>weekly_lower</th>\n",
       "      <th>weekly_upper</th>\n",
       "      <th>yearly</th>\n",
       "      <th>yearly_lower</th>\n",
       "      <th>yearly_upper</th>\n",
       "      <th>multiplicative_terms</th>\n",
       "      <th>multiplicative_terms_lower</th>\n",
       "      <th>multiplicative_terms_upper</th>\n",
       "      <th>yhat</th>\n",
       "    </tr>\n",
       "  </thead>\n",
       "  <tbody>\n",
       "    <tr>\n",
       "      <th>2984</th>\n",
       "      <td>2022-11-18</td>\n",
       "      <td>75398.600587</td>\n",
       "      <td>57649.830383</td>\n",
       "      <td>89963.063332</td>\n",
       "      <td>59419.294924</td>\n",
       "      <td>91042.162154</td>\n",
       "      <td>-627.841107</td>\n",
       "      <td>-627.841107</td>\n",
       "      <td>-627.841107</td>\n",
       "      <td>29.919669</td>\n",
       "      <td>29.919669</td>\n",
       "      <td>29.919669</td>\n",
       "      <td>-657.760777</td>\n",
       "      <td>-657.760777</td>\n",
       "      <td>-657.760777</td>\n",
       "      <td>0.0</td>\n",
       "      <td>0.0</td>\n",
       "      <td>0.0</td>\n",
       "      <td>74770.759479</td>\n",
       "    </tr>\n",
       "    <tr>\n",
       "      <th>2985</th>\n",
       "      <td>2022-11-19</td>\n",
       "      <td>75466.921785</td>\n",
       "      <td>58108.890083</td>\n",
       "      <td>90899.618896</td>\n",
       "      <td>59465.240116</td>\n",
       "      <td>91148.688092</td>\n",
       "      <td>-569.265253</td>\n",
       "      <td>-569.265253</td>\n",
       "      <td>-569.265253</td>\n",
       "      <td>53.108695</td>\n",
       "      <td>53.108695</td>\n",
       "      <td>53.108695</td>\n",
       "      <td>-622.373948</td>\n",
       "      <td>-622.373948</td>\n",
       "      <td>-622.373948</td>\n",
       "      <td>0.0</td>\n",
       "      <td>0.0</td>\n",
       "      <td>0.0</td>\n",
       "      <td>74897.656531</td>\n",
       "    </tr>\n",
       "    <tr>\n",
       "      <th>2986</th>\n",
       "      <td>2022-11-20</td>\n",
       "      <td>75535.242983</td>\n",
       "      <td>57663.326272</td>\n",
       "      <td>90704.803354</td>\n",
       "      <td>59511.185309</td>\n",
       "      <td>91255.214030</td>\n",
       "      <td>-621.802222</td>\n",
       "      <td>-621.802222</td>\n",
       "      <td>-621.802222</td>\n",
       "      <td>-40.421753</td>\n",
       "      <td>-40.421753</td>\n",
       "      <td>-40.421753</td>\n",
       "      <td>-581.380469</td>\n",
       "      <td>-581.380469</td>\n",
       "      <td>-581.380469</td>\n",
       "      <td>0.0</td>\n",
       "      <td>0.0</td>\n",
       "      <td>0.0</td>\n",
       "      <td>74913.440761</td>\n",
       "    </tr>\n",
       "    <tr>\n",
       "      <th>2987</th>\n",
       "      <td>2022-11-21</td>\n",
       "      <td>75603.564181</td>\n",
       "      <td>58378.129178</td>\n",
       "      <td>92062.882384</td>\n",
       "      <td>59557.130502</td>\n",
       "      <td>91361.739969</td>\n",
       "      <td>-555.257145</td>\n",
       "      <td>-555.257145</td>\n",
       "      <td>-555.257145</td>\n",
       "      <td>-19.911108</td>\n",
       "      <td>-19.911108</td>\n",
       "      <td>-19.911108</td>\n",
       "      <td>-535.346037</td>\n",
       "      <td>-535.346037</td>\n",
       "      <td>-535.346037</td>\n",
       "      <td>0.0</td>\n",
       "      <td>0.0</td>\n",
       "      <td>0.0</td>\n",
       "      <td>75048.307036</td>\n",
       "    </tr>\n",
       "    <tr>\n",
       "      <th>2988</th>\n",
       "      <td>2022-11-22</td>\n",
       "      <td>75671.885379</td>\n",
       "      <td>58451.342488</td>\n",
       "      <td>91377.450829</td>\n",
       "      <td>59602.829018</td>\n",
       "      <td>91468.265907</td>\n",
       "      <td>-514.288426</td>\n",
       "      <td>-514.288426</td>\n",
       "      <td>-514.288426</td>\n",
       "      <td>-29.311991</td>\n",
       "      <td>-29.311991</td>\n",
       "      <td>-29.311991</td>\n",
       "      <td>-484.976435</td>\n",
       "      <td>-484.976435</td>\n",
       "      <td>-484.976435</td>\n",
       "      <td>0.0</td>\n",
       "      <td>0.0</td>\n",
       "      <td>0.0</td>\n",
       "      <td>75157.596953</td>\n",
       "    </tr>\n",
       "  </tbody>\n",
       "</table>\n",
       "</div>"
      ],
      "text/plain": [
       "             ds         trend    yhat_lower    yhat_upper   trend_lower  \\\n",
       "2984 2022-11-18  75398.600587  57649.830383  89963.063332  59419.294924   \n",
       "2985 2022-11-19  75466.921785  58108.890083  90899.618896  59465.240116   \n",
       "2986 2022-11-20  75535.242983  57663.326272  90704.803354  59511.185309   \n",
       "2987 2022-11-21  75603.564181  58378.129178  92062.882384  59557.130502   \n",
       "2988 2022-11-22  75671.885379  58451.342488  91377.450829  59602.829018   \n",
       "\n",
       "       trend_upper  additive_terms  additive_terms_lower  \\\n",
       "2984  91042.162154     -627.841107           -627.841107   \n",
       "2985  91148.688092     -569.265253           -569.265253   \n",
       "2986  91255.214030     -621.802222           -621.802222   \n",
       "2987  91361.739969     -555.257145           -555.257145   \n",
       "2988  91468.265907     -514.288426           -514.288426   \n",
       "\n",
       "      additive_terms_upper     weekly  weekly_lower  weekly_upper      yearly  \\\n",
       "2984           -627.841107  29.919669     29.919669     29.919669 -657.760777   \n",
       "2985           -569.265253  53.108695     53.108695     53.108695 -622.373948   \n",
       "2986           -621.802222 -40.421753    -40.421753    -40.421753 -581.380469   \n",
       "2987           -555.257145 -19.911108    -19.911108    -19.911108 -535.346037   \n",
       "2988           -514.288426 -29.311991    -29.311991    -29.311991 -484.976435   \n",
       "\n",
       "      yearly_lower  yearly_upper  multiplicative_terms  \\\n",
       "2984   -657.760777   -657.760777                   0.0   \n",
       "2985   -622.373948   -622.373948                   0.0   \n",
       "2986   -581.380469   -581.380469                   0.0   \n",
       "2987   -535.346037   -535.346037                   0.0   \n",
       "2988   -484.976435   -484.976435                   0.0   \n",
       "\n",
       "      multiplicative_terms_lower  multiplicative_terms_upper          yhat  \n",
       "2984                         0.0                         0.0  74770.759479  \n",
       "2985                         0.0                         0.0  74897.656531  \n",
       "2986                         0.0                         0.0  74913.440761  \n",
       "2987                         0.0                         0.0  75048.307036  \n",
       "2988                         0.0                         0.0  75157.596953  "
      ]
     },
     "execution_count": 96,
     "metadata": {},
     "output_type": "execute_result"
    }
   ],
   "source": [
    "forecast.tail(5)"
   ]
  },
  {
   "cell_type": "code",
   "execution_count": 97,
   "id": "environmental-institute",
   "metadata": {},
   "outputs": [
    {
     "data": {
      "text/html": [
       "<div>\n",
       "<style scoped>\n",
       "    .dataframe tbody tr th:only-of-type {\n",
       "        vertical-align: middle;\n",
       "    }\n",
       "\n",
       "    .dataframe tbody tr th {\n",
       "        vertical-align: top;\n",
       "    }\n",
       "\n",
       "    .dataframe thead th {\n",
       "        text-align: right;\n",
       "    }\n",
       "</style>\n",
       "<table border=\"1\" class=\"dataframe\">\n",
       "  <thead>\n",
       "    <tr style=\"text-align: right;\">\n",
       "      <th></th>\n",
       "      <th>Date</th>\n",
       "      <th>Open</th>\n",
       "      <th>High</th>\n",
       "      <th>Low</th>\n",
       "      <th>Close</th>\n",
       "      <th>Adj Close</th>\n",
       "      <th>Volume</th>\n",
       "      <th>day_of_week</th>\n",
       "      <th>week_of_year</th>\n",
       "      <th>month</th>\n",
       "    </tr>\n",
       "  </thead>\n",
       "  <tbody>\n",
       "    <tr>\n",
       "      <th>2984</th>\n",
       "      <td>2022-11-18</td>\n",
       "      <td>16687.912109</td>\n",
       "      <td>16947.058594</td>\n",
       "      <td>16564.611328</td>\n",
       "      <td>16697.777344</td>\n",
       "      <td>16697.777344</td>\n",
       "      <td>26862218609</td>\n",
       "      <td>4</td>\n",
       "      <td>46</td>\n",
       "      <td>11</td>\n",
       "    </tr>\n",
       "    <tr>\n",
       "      <th>2985</th>\n",
       "      <td>2022-11-19</td>\n",
       "      <td>16696.220703</td>\n",
       "      <td>16797.876953</td>\n",
       "      <td>16570.410156</td>\n",
       "      <td>16711.546875</td>\n",
       "      <td>16711.546875</td>\n",
       "      <td>16106223492</td>\n",
       "      <td>5</td>\n",
       "      <td>46</td>\n",
       "      <td>11</td>\n",
       "    </tr>\n",
       "    <tr>\n",
       "      <th>2986</th>\n",
       "      <td>2022-11-20</td>\n",
       "      <td>16712.919922</td>\n",
       "      <td>16746.779297</td>\n",
       "      <td>16248.692383</td>\n",
       "      <td>16291.832031</td>\n",
       "      <td>16291.832031</td>\n",
       "      <td>21313378652</td>\n",
       "      <td>6</td>\n",
       "      <td>46</td>\n",
       "      <td>11</td>\n",
       "    </tr>\n",
       "    <tr>\n",
       "      <th>2987</th>\n",
       "      <td>2022-11-21</td>\n",
       "      <td>16291.223633</td>\n",
       "      <td>16291.223633</td>\n",
       "      <td>15599.046875</td>\n",
       "      <td>15787.284180</td>\n",
       "      <td>15787.284180</td>\n",
       "      <td>37429485518</td>\n",
       "      <td>0</td>\n",
       "      <td>47</td>\n",
       "      <td>11</td>\n",
       "    </tr>\n",
       "    <tr>\n",
       "      <th>2988</th>\n",
       "      <td>2022-11-22</td>\n",
       "      <td>15778.548828</td>\n",
       "      <td>16202.363281</td>\n",
       "      <td>15656.606445</td>\n",
       "      <td>16202.363281</td>\n",
       "      <td>16202.363281</td>\n",
       "      <td>35892744192</td>\n",
       "      <td>1</td>\n",
       "      <td>47</td>\n",
       "      <td>11</td>\n",
       "    </tr>\n",
       "  </tbody>\n",
       "</table>\n",
       "</div>"
      ],
      "text/plain": [
       "           Date          Open          High           Low         Close  \\\n",
       "2984 2022-11-18  16687.912109  16947.058594  16564.611328  16697.777344   \n",
       "2985 2022-11-19  16696.220703  16797.876953  16570.410156  16711.546875   \n",
       "2986 2022-11-20  16712.919922  16746.779297  16248.692383  16291.832031   \n",
       "2987 2022-11-21  16291.223633  16291.223633  15599.046875  15787.284180   \n",
       "2988 2022-11-22  15778.548828  16202.363281  15656.606445  16202.363281   \n",
       "\n",
       "         Adj Close       Volume  day_of_week  week_of_year  month  \n",
       "2984  16697.777344  26862218609            4            46     11  \n",
       "2985  16711.546875  16106223492            5            46     11  \n",
       "2986  16291.832031  21313378652            6            46     11  \n",
       "2987  15787.284180  37429485518            0            47     11  \n",
       "2988  16202.363281  35892744192            1            47     11  "
      ]
     },
     "execution_count": 97,
     "metadata": {},
     "output_type": "execute_result"
    }
   ],
   "source": [
    "test_df.tail(5)"
   ]
  },
  {
   "cell_type": "markdown",
   "id": "entitled-elements",
   "metadata": {
    "id": "racial-section"
   },
   "source": [
    "### Plotting Prophet Forecasts\n",
    "\n",
    "The following code visualizes the application of the fitted Prophet model to both in-sample (training) and out-of-sample (testing) data. Visualization and evaluation of forecasting models using out-of-sample data is crucial for estimating future performance."
   ]
  },
  {
   "cell_type": "code",
   "execution_count": 99,
   "id": "verified-brighton",
   "metadata": {
    "colab": {
     "base_uri": "https://localhost:8080/",
     "height": 320
    },
    "id": "undefined-drove",
    "outputId": "3532204b-1528-4959-dd55-cee4cdf913b6"
   },
   "outputs": [
    {
     "data": {
      "image/png": "[encoded data removed]",
      "text/plain": [
       "<Figure size 1080x432 with 1 Axes>"
      ]
     },
     "metadata": {
      "needs_background": "light"
     },
     "output_type": "display_data"
    }
   ],
   "source": [
    "fig, ax = plt.subplots(figsize=(15, 6))\n",
    "\n",
    "ax.fill_between(forecast.ds.iloc[:-len(test_df)], \n",
    "    forecast.yhat_lower.iloc[:-len(test_df)], \n",
    "    forecast.yhat_upper.iloc[:-len(test_df)],\n",
    "    color='blue', label='In-Sample confidence interval (80%)', alpha=0.15)\n",
    "\n",
    "ax.fill_between(forecast.ds.iloc[-len(test_df):], \n",
    "    forecast.yhat_lower.iloc[-len(test_df):], \n",
    "    forecast.yhat_upper.iloc[-len(test_df):],\n",
    "    color='red', label='Out-of-Sample confidence interval (80%)', alpha=0.1)\n",
    "\n",
    "ax.scatter(prophet_model_df.ds, prophet_model_df['y'], color='slategrey', s=3, linewidths=0, label='Train Samples')\n",
    "ax.scatter(test_df.Date, test_df['Adj Close'], color='salmon', s=3, linewidths=0, label='Test Samples')\n",
    "\n",
    "ax.plot(forecast.ds.iloc[:-len(test_df)], \n",
    "        forecast.yhat.iloc[:-len(test_df)], color='blue', label='In-Sample Forecast')\n",
    "\n",
    "ax.plot(forecast.ds.iloc[-len(test_df):], forecast.yhat.iloc[-len(test_df):], \n",
    "        color='red', label='Out-of-Sample Forecast')\n",
    "\n",
    "ax.legend(loc='upper left')\n",
    "ax.grid(axis='y')\n",
    "plt.show()"
   ]
  },
  {
   "cell_type": "markdown",
   "id": "alternate-royalty",
   "metadata": {},
   "source": [
    "### Prophet Forecasts At Max Lead Time\n",
    "\n",
    "As we did with the baseline methods, let's visualize Prophet's forecasts at maximum lead time. "
   ]
  },
  {
   "cell_type": "code",
   "execution_count": 109,
   "id": "ethical-juice",
   "metadata": {},
   "outputs": [],
   "source": [
    "# forecast"
   ]
  },
  {
   "cell_type": "code",
   "execution_count": 106,
   "id": "three-payroll",
   "metadata": {},
   "outputs": [
    {
     "data": {
      "image/png": "[encoded data removed]",
      "text/plain": [
       "<Figure size 648x288 with 1 Axes>"
      ]
     },
     "metadata": {
      "needs_background": "light"
     },
     "output_type": "display_data"
    }
   ],
   "source": [
    "# We can use our ForecastingDataset class to help with formatting Prophet's output.\n",
    "forecast_eval_dataset = ForecastingDataset(forecast.iloc[-len(test_df):], lag_time, lead_time, ['yhat'])\n",
    "\n",
    "fig, ax = plt.subplots(figsize=(9,4))\n",
    "\n",
    "forecasts_at_max_lead = []\n",
    "dates_at_max_lead = []\n",
    "\n",
    "for i in range(len(forecast_eval_dataset)):\n",
    "    x, y, x_d, y_d = forecast_eval_dataset[i]\n",
    "    x_gt, y_gt, x_gt_d, y_gt_d = test_dataset[i]\n",
    "\n",
    "    forecasts_at_max_lead.append(y.values[-1])\n",
    "    dates_at_max_lead.append(y_d.values[-1])\n",
    "\n",
    "ax.plot(dates_at_max_lead, forecasts_at_max_lead, color='red', label='forecast')\n",
    "ax.plot(test_df.Date, test_df['Adj Close'], color='blue', label='ground truth')\n",
    "plt.legend()\n",
    "plt.title(f\"Forecasts at max lead time ({lead_time} samples) - Prophet\")\n",
    "plt.show()"
   ]
  },
  {
   "cell_type": "markdown",
   "id": "banner-battery",
   "metadata": {},
   "source": [
    "With the help of the ForecastingDataset class defined earlier, iterate over each forecast and ground truth pair, and compute and collect multiple evaluation metrics as defined in the previous cell."
   ]
  },
  {
   "cell_type": "code",
   "execution_count": 107,
   "id": "induced-stack",
   "metadata": {},
   "outputs": [],
   "source": [
    "def compute_error_metrics(ground_truth_dataset, forecast_dataset):\n",
    "        \n",
    "    errors = {metric_name:[] for metric_name in metrics.keys()}\n",
    "\n",
    "    for i in range(len(forecast_dataset)):\n",
    "        x, y, x_d, y_d = forecast_dataset[i]\n",
    "        x_gt, y_gt, x_gt_d, y_gt_d = ground_truth_dataset[i]\n",
    "        for metric_name, metric_fn in metrics.items(): \n",
    "            errors[metric_name].append(metric_fn(y_true=y_gt['Adj Close'], y_pred=y))\n",
    "    \n",
    "    return errors\n",
    "\n",
    "error_metrics = compute_error_metrics(test_dataset, forecast_eval_dataset)"
   ]
  },
  {
   "cell_type": "code",
   "execution_count": 108,
   "id": "frequent-horse",
   "metadata": {},
   "outputs": [
    {
     "data": {
      "text/plain": [
       "mse     8.877418e+08\n",
       "rmse    2.364333e+04\n",
       "mae     2.353462e+04\n",
       "mape    9.514574e-01\n",
       "Name: prophet_mean_metrics, dtype: float64"
      ]
     },
     "execution_count": 108,
     "metadata": {},
     "output_type": "execute_result"
    }
   ],
   "source": [
    "prophet_stats = compute_error_statistics(error_metrics, 'prophet')\n",
    "prophet_stats['mean']"
   ]
  },
  {
   "cell_type": "markdown",
   "id": "reserved-cyprus",
   "metadata": {
    "id": "speaking-physiology"
   },
   "source": [
    "Let's now collect the mean evaluation metrics into a new DataFrame that we will use for comparative evalution against other models' forecasts.\n",
    "\n",
    "Please note that the comparison is not completely fair - Prophet has to predict 672 steps into the future at once, whereas our baselines only have to predict the next 60 days."
   ]
  },
  {
   "cell_type": "code",
   "execution_count": 110,
   "id": "rapid-denial",
   "metadata": {
    "id": "canadian-coating"
   },
   "outputs": [
    {
     "data": {
      "text/html": [
       "<div>\n",
       "<style scoped>\n",
       "    .dataframe tbody tr th:only-of-type {\n",
       "        vertical-align: middle;\n",
       "    }\n",
       "\n",
       "    .dataframe tbody tr th {\n",
       "        vertical-align: top;\n",
       "    }\n",
       "\n",
       "    .dataframe thead th {\n",
       "        text-align: right;\n",
       "    }\n",
       "</style>\n",
       "<table border=\"1\" class=\"dataframe\">\n",
       "  <thead>\n",
       "    <tr style=\"text-align: right;\">\n",
       "      <th></th>\n",
       "      <th>mse</th>\n",
       "      <th>rmse</th>\n",
       "      <th>mae</th>\n",
       "      <th>mape</th>\n",
       "    </tr>\n",
       "  </thead>\n",
       "  <tbody>\n",
       "    <tr>\n",
       "      <th>persistence_mean_metrics</th>\n",
       "      <td>6.968493e+06</td>\n",
       "      <td>2136.756304</td>\n",
       "      <td>1860.883106</td>\n",
       "      <td>0.051495</td>\n",
       "    </tr>\n",
       "    <tr>\n",
       "      <th>mean_window_mean_metrics</th>\n",
       "      <td>4.933859e+07</td>\n",
       "      <td>5811.159776</td>\n",
       "      <td>5652.428705</td>\n",
       "      <td>0.158615</td>\n",
       "    </tr>\n",
       "    <tr>\n",
       "      <th>prophet_mean_metrics</th>\n",
       "      <td>8.877418e+08</td>\n",
       "      <td>23643.331156</td>\n",
       "      <td>23534.620267</td>\n",
       "      <td>0.951457</td>\n",
       "    </tr>\n",
       "  </tbody>\n",
       "</table>\n",
       "</div>"
      ],
      "text/plain": [
       "                                   mse          rmse           mae      mape\n",
       "persistence_mean_metrics  6.968493e+06   2136.756304   1860.883106  0.051495\n",
       "mean_window_mean_metrics  4.933859e+07   5811.159776   5652.428705  0.158615\n",
       "prophet_mean_metrics      8.877418e+08  23643.331156  23534.620267  0.951457"
      ]
     },
     "execution_count": 110,
     "metadata": {},
     "output_type": "execute_result"
    }
   ],
   "source": [
    "results_df = results_df.append(prophet_stats['mean'])\n",
    "results_df.sort_values('mae')"
   ]
  },
  {
   "cell_type": "markdown",
   "id": "attended-airline",
   "metadata": {
    "id": "interracial-karen"
   },
   "source": [
    "# NeuralProphet\n",
    "\n",
    "Let's proceed to explore the [NeuralProphet](https://neuralprophet.com/html/index.html) model. Please review the following resources to learn more:\n",
    "\n",
    "- [Paper](https://arxiv.org/abs/2111.15397)\n",
    "- [Documentation](https://neuralprophet.com/html/contents.html)\n",
    "- [GitHub](https://github.com/ourownstory/neural_prophet)\n",
    "\n",
    "In the words of its developers, NeuralProphet is \"*based on neural networks, inspired by Facebook Prophet and AR-Net, built on PyTorch*\". A very important differentiating feature is that NeuralProphet conveniently supports *lagged regressors*. In the context of this running example, NeuralProphet supports the use of multiple other currencies' time series. With this expanded flexibility, however, the model is more complex, with a greater number of design choices and hyperparameters to consider. \n",
    "\n",
    "The official [documentation on lagged regressors (lagged covariates)](https://neuralprophet.com/html/lagged_covariates_energy_ercot.html) gives several examples for configuring NeuralProphet models to use lagged regressors, but commentary and suggestions on best practices are largely absent. \n",
    "\n",
    "In the following code, we will consider a small number of NeuralProphet model configurations applied to the same forecasting task from above. Importantly, we retain the same train/test (in-sample/out-of-sample) split, and we will apply the same evaluation metrics to NeuralProphet's forecasts. \n",
    "\n",
    "### Data Formatting\n",
    "\n",
    "NeuralProphet's data format is very similar to Prophet's. We prepare new DataFrames for training and evaluation."
   ]
  },
  {
   "cell_type": "code",
   "execution_count": null,
   "id": "killing-cache",
   "metadata": {
    "id": "placed-cooper"
   },
   "outputs": [],
   "source": [
    "np_train_df = train_df.reset_index().rename({'date':'ds', 'USD_CLOSE':'y'}, axis=1).drop('index', axis=1)\n",
    "np_test_df = test_df.reset_index().rename({'date':'ds','USD_CLOSE':'y'}, axis=1).drop('index', axis=1)"
   ]
  },
  {
   "cell_type": "markdown",
   "id": "breeding-nepal",
   "metadata": {},
   "source": [
    "Of course the most important difference between the DataFrames prepared for Prophet and NeuralProphet is that, with NeuralProphet, we have the opportunity to include data about the non-target variables as lagged regressors."
   ]
  },
  {
   "cell_type": "code",
   "execution_count": null,
   "id": "significant-alias",
   "metadata": {},
   "outputs": [],
   "source": [
    "np_train_df.head(5)"
   ]
  },
  {
   "cell_type": "markdown",
   "id": "bored-protection",
   "metadata": {
    "id": "round-attitude"
   },
   "source": [
    "## Baseline/Default Model\n",
    "\n",
    "A baseline NeuralProphet model with lagged regressors using default initialization parameters, except:\n",
    "\n",
    "- `n_lags=lag_time`, specifying that the autoregressive component of the model should use the past `lag_time` daily observations as inputs\n",
    "- `n_forecasts=lead_time`, specifying that our use case is to predict the target signal `lead_time` days into the future\n",
    "\n",
    "NeuralProphet also allows you to specify a `validation_df` in `fit()`, on which the model will be evaluated every epoch. We are not using this feature here."
   ]
  },
  {
   "cell_type": "code",
   "execution_count": null,
   "id": "affiliated-panama",
   "metadata": {
    "id": "external-detection",
    "scrolled": true
   },
   "outputs": [],
   "source": [
    "np_model = NeuralProphet(n_lags=lag_time, n_forecasts=lead_time)\n",
    "\n",
    "# Add the non-target feature columns as lagged regressors\n",
    "feature_cols = [col for col in np_train_df if col not in ('USD_CLOSE', 'ds', 'y')]\n",
    "for feature in feature_cols:\n",
    "    np_model.add_lagged_regressor(f'{feature}')\n",
    "    \n",
    "np_model.fit(np_train_df, freq='D')"
   ]
  },
  {
   "cell_type": "markdown",
   "id": "sound-prefix",
   "metadata": {},
   "source": [
    "After fitting, you can plot the learned model parameters, including the additional 11 lagged regressors (with 90 day lead time)."
   ]
  },
  {
   "cell_type": "code",
   "execution_count": null,
   "id": "forced-wyoming",
   "metadata": {},
   "outputs": [],
   "source": [
    "np_model.plot_parameters()"
   ]
  },
  {
   "cell_type": "markdown",
   "id": "comparable-crown",
   "metadata": {
    "id": "TOY5P1Hq2Ned"
   },
   "source": [
    "NeuralProphet, rather annoyingly, does not collect forecasts into a single yhat variable, but rather into separate `stepX`s for each of the lead times. For example, the following is a single 60-day forecast:"
   ]
  },
  {
   "cell_type": "code",
   "execution_count": null,
   "id": "coordinated-appreciation",
   "metadata": {},
   "outputs": [],
   "source": [
    "x, y, x_d, y_d = test_dataset[0]\n",
    "x = x.reset_index().rename({'date':'ds', 'USD_CLOSE':'y'}, axis=1).drop('index', axis=1)\n",
    "x = x.assign(ds=x_d.reset_index().drop('index', axis=1).values)\n",
    "y = y.reset_index().rename({'date':'ds', 'USD_CLOSE':'y'}, axis=1).drop('index', axis=1)\n",
    "\n",
    "np_future_df = np_model.make_future_dataframe(x, periods=len(y))\n",
    "np_forecast = np_model.predict(np_future_df, decompose=False, raw=True)\n",
    "np_forecast"
   ]
  },
  {
   "cell_type": "markdown",
   "id": "offensive-jewel",
   "metadata": {},
   "source": [
    "To get a more useable data structure, the following function takes a NeuralProphet forecast dataframe and turns it into a time series of its predictions:"
   ]
  },
  {
   "cell_type": "code",
   "execution_count": null,
   "id": "regular-routine",
   "metadata": {},
   "outputs": [],
   "source": [
    "def yhat_from_neuralprophet_forecast(np_forecast, y_d):\n",
    "    return pd.Series(np_forecast.T.iloc[1:].set_index(y_d).iloc[:,0], name='np_yhat').rename_axis('ds')"
   ]
  },
  {
   "cell_type": "markdown",
   "id": "subject-array",
   "metadata": {},
   "source": [
    "The forecast from above would now look this:"
   ]
  },
  {
   "cell_type": "code",
   "execution_count": null,
   "id": "saving-wichita",
   "metadata": {},
   "outputs": [],
   "source": [
    "yhat_from_neuralprophet_forecast(np_forecast, y_d)"
   ]
  },
  {
   "cell_type": "markdown",
   "id": "listed-stylus",
   "metadata": {},
   "source": [
    "Since NeuralProphet uses a fixed-size input sequence (lagged observations) to produce forecasts, we iterate over the input sequences in the test set and use them as model inputs to produce forecasts. This mode of inference should be more familiar to machine learning practitioners than Prophet's. Note that NeuralProphet requires us to first format input data using the `make_future_dataframe` function before running inference using the `predict` function. We define the following function, which produces forecasts for each of the input/ground-truth-output sequences in the test set."
   ]
  },
  {
   "cell_type": "code",
   "execution_count": null,
   "id": "italic-edgar",
   "metadata": {},
   "outputs": [],
   "source": [
    "def collect_np_forecasts(np_model, test_dataset):\n",
    "\n",
    "    forecasts = []\n",
    "\n",
    "    for i in range(len(test_dataset)):\n",
    "        \n",
    "        x, y, x_d, y_d = test_dataset[i]\n",
    "        x = x.reset_index().rename({'date':'ds', 'USD_CLOSE':'y'}, axis=1).drop('index', axis=1)\n",
    "        x = x.assign(ds=x_d.reset_index().drop('index', axis=1).values)\n",
    "        y = y.reset_index().rename({'date':'ds', 'USD_CLOSE':'y'}, axis=1).drop('index', axis=1)\n",
    "\n",
    "        np_future_df = np_model.make_future_dataframe(x, periods=len(y))\n",
    "        np_forecast = np_model.predict(np_future_df, decompose=False, raw=True)\n",
    "        fc_series = yhat_from_neuralprophet_forecast(np_forecast, y_d)\n",
    "        forecasts.append(fc_series)\n",
    "\n",
    "    return forecasts"
   ]
  },
  {
   "cell_type": "markdown",
   "id": "decreased-death",
   "metadata": {},
   "source": [
    "Similarly to what we defined for Prophet, we define the following function for computing and collecting evaluation metrics over all of the forecasts."
   ]
  },
  {
   "cell_type": "code",
   "execution_count": null,
   "id": "stable-tomorrow",
   "metadata": {
    "colab": {
     "base_uri": "https://localhost:8080/",
     "height": 497
    },
    "id": "guided-local",
    "outputId": "3adad78b-e26f-4c49-a9b1-f39439ff1984"
   },
   "outputs": [],
   "source": [
    "def compute_np_error_metrics(forecasts):\n",
    "\n",
    "    errors = {metric_name:[] for metric_name in metrics.keys()}\n",
    "\n",
    "    for i in range(len(forecasts)):\n",
    "        \n",
    "        fc = forecasts[i]\n",
    "        gt = test_df.loc[test_df.date.isin(fc.index)].sort_values('date')  # Sorting because I am not 100% sure that the 'isin' function always preserves order.\n",
    "        \n",
    "        for metric_name, metric_fn in metrics.items(): \n",
    "                errors[metric_name].append(metric_fn(y_true=gt['USD_CLOSE'], y_pred=fc))\n",
    "\n",
    "    return errors, forecasts"
   ]
  },
  {
   "cell_type": "code",
   "execution_count": null,
   "id": "polish-registrar",
   "metadata": {},
   "outputs": [],
   "source": [
    "forecasts = collect_np_forecasts(np_model, test_dataset)\n",
    "np_baseline_error_metrics, fcs = compute_np_error_metrics(forecasts)"
   ]
  },
  {
   "cell_type": "markdown",
   "id": "intermediate-relation",
   "metadata": {},
   "source": [
    "### Plot all forecasts\n",
    "\n",
    "We have the option to visualize complete forecasts at every time step, but it does not tell us much about the model's performance."
   ]
  },
  {
   "cell_type": "code",
   "execution_count": null,
   "id": "known-india",
   "metadata": {},
   "outputs": [],
   "source": [
    "fig, ax = plt.subplots(figsize=(15,6))\n",
    "\n",
    "for i in range(len(forecasts)):\n",
    "\n",
    "    fc = forecasts[i]\n",
    "    gt = test_df.loc[test_df.date.isin(fc.index)]\n",
    "\n",
    "    ax.plot(fc.index[:], fc[:], alpha=0.1, color='red')\n",
    "    ax.plot(gt.date, gt['USD_CLOSE'], alpha=0.1, color='blue')\n",
    "plt.title(f\"Forecasts at all lead times (1 to {lead_time} samples)\")\n",
    "plt.show()"
   ]
  },
  {
   "cell_type": "markdown",
   "id": "favorite-windsor",
   "metadata": {},
   "source": [
    "### Plot all forecasts at max lead time"
   ]
  },
  {
   "cell_type": "code",
   "execution_count": null,
   "id": "moving-figure",
   "metadata": {},
   "outputs": [],
   "source": [
    "max_fcs = [{'date': fc.index[-1:][0], 'yhat':fc[-1:][0]} for fc in forecasts]\n",
    "max_fcs = pd.DataFrame(max_fcs)\n",
    "\n",
    "plt.figure(figsize=(12,3))\n",
    "plt.plot(test_df.date, test_df['USD_CLOSE'], color='blue', label='ground truth')\n",
    "plt.plot(max_fcs.date, max_fcs.yhat, color='red', label='forecast')\n",
    "plt.title(f\"Forecasts at max lead time ({lead_time} samples) - Neural Prophet Default\")\n",
    "plt.legend(loc='upper right')"
   ]
  },
  {
   "cell_type": "code",
   "execution_count": null,
   "id": "colored-aruba",
   "metadata": {},
   "outputs": [],
   "source": [
    "# Plot ground truth\n",
    "plt.figure(figsize=(12,3))\n",
    "ground_truth = test_df[['date', 'USD_CLOSE']]\n",
    "plt.plot(ground_truth.date, ground_truth['USD_CLOSE'], label='ground truth')\n",
    "\n",
    "# Plot example single forecast\n",
    "plt.plot(forecasts[-1], label='forecast')\n",
    "plt.legend()"
   ]
  },
  {
   "cell_type": "markdown",
   "id": "funny-employer",
   "metadata": {},
   "source": [
    "### Append evaluation metrics to `results_df`"
   ]
  },
  {
   "cell_type": "code",
   "execution_count": null,
   "id": "outdoor-august",
   "metadata": {},
   "outputs": [],
   "source": [
    "results_df = results_df.append(compute_error_statistics(np_baseline_error_metrics, 'neural_prophet_baseline')['mean'])\n",
    "results_df.sort_values('mae')"
   ]
  },
  {
   "cell_type": "markdown",
   "id": "important-honor",
   "metadata": {
    "id": "E8ko7L71DXSB"
   },
   "source": [
    "## Restricted model\n",
    "\n",
    "The baseline NeuralProphet model does not perform well on out-of-sample data. We can consider multiple changes to the model's configuration and hyperparameters in pursuit of better performance. Let's consider the following configuration that restricts the model to using only the last observed value of last regressors, as opposed to `n_lags` past observations. While less expressive, this model may be less prone to overfitting."
   ]
  },
  {
   "cell_type": "code",
   "execution_count": null,
   "id": "alpine-hotel",
   "metadata": {},
   "outputs": [],
   "source": [
    "np_model_last_sample_only = NeuralProphet(n_lags=lag_time, n_forecasts=lead_time)\n",
    "\n",
    "# Add the non-target feature columns as lagged regressors\n",
    "feature_cols = [col for col in np_train_df if col not in ('USD_CLOSE', 'ds', 'y')]\n",
    "for feature in feature_cols:\n",
    "    np_model_last_sample_only.add_lagged_regressor(f'{feature}')#, n_lags=1)\n",
    "    \n",
    "np_model_last_sample_only.fit(np_train_df, freq='D')\n",
    "forecasts = collect_np_forecasts(np_model_last_sample_only, test_dataset)\n",
    "np_last_sample_only_error_metrics, fcs = compute_np_error_metrics(forecasts)"
   ]
  },
  {
   "cell_type": "markdown",
   "id": "functioning-theme",
   "metadata": {},
   "source": [
    "Once again, we are able to plot the learned parameters of the model. The lagged regressors are now grouped together in a single chart, as only one value of each is used."
   ]
  },
  {
   "cell_type": "code",
   "execution_count": null,
   "id": "trying-electron",
   "metadata": {},
   "outputs": [],
   "source": [
    "np_model_last_sample_only.plot_parameters()"
   ]
  },
  {
   "cell_type": "markdown",
   "id": "automated-blanket",
   "metadata": {},
   "source": [
    "### Plot forecasts at max lead time"
   ]
  },
  {
   "cell_type": "code",
   "execution_count": null,
   "id": "forty-cowboy",
   "metadata": {},
   "outputs": [],
   "source": [
    "max_fcs = [{'date': fc.index[-1:][0], 'yhat':fc[-1:][0]} for fc in forecasts]\n",
    "max_fcs = pd.DataFrame(max_fcs)\n",
    "\n",
    "plt.figure(figsize=(12,3))\n",
    "plt.plot(test_df.date, test_df['USD_CLOSE'], color='blue', label='ground truth')\n",
    "plt.plot(max_fcs.date, max_fcs.yhat, color='red', label='forecast')\n",
    "plt.title(f\"Forecasts at max lead time ({lead_time} samples) - Neural Prophet 1-Step Lag\")\n",
    "plt.legend(loc='upper right')"
   ]
  },
  {
   "cell_type": "code",
   "execution_count": null,
   "id": "visible-sheet",
   "metadata": {},
   "outputs": [],
   "source": [
    "# Plot ground truth\n",
    "plt.figure(figsize=(12,3))\n",
    "ground_truth = test_df[['date', 'USD_CLOSE']]\n",
    "plt.plot(ground_truth.date, ground_truth['USD_CLOSE'], label='ground truth')\n",
    "\n",
    "# Plot example single forecast\n",
    "plt.plot(forecasts[-1], label='forecast')\n",
    "plt.legend()"
   ]
  },
  {
   "cell_type": "markdown",
   "id": "harmful-discussion",
   "metadata": {},
   "source": [
    "### Append evaluation metrics to `results_df`"
   ]
  },
  {
   "cell_type": "code",
   "execution_count": null,
   "id": "industrial-context",
   "metadata": {},
   "outputs": [],
   "source": [
    "results_df = results_df.append(compute_error_statistics(np_last_sample_only_error_metrics, 'neural_prophet_last_sample_only')['mean'])\n",
    "results_df.sort_values('mae')"
   ]
  },
  {
   "cell_type": "markdown",
   "id": "steady-macedonia",
   "metadata": {
    "id": "rNDiJ6ZZwx6k"
   },
   "source": [
    "## Model with Sparse Neural Autoregression\n",
    "\n",
    "In the previous parameter plots, you could see high values for all autoregressive features. You can tell NeuralProphet to try avoiding relying on them too much by restricting how many of them it is able to use. In this case, we set `ar_reg` to 10, which imposes a strong regularization of the AR model towards sparsity in its coefficients. We also reduce the AR depth to 10 days. *Note*: NeuralProphet applies this sparsity factor only to the regular AR coefficients, not the lagged regressor AR coefficients, where higher sparsity would make more sense.\n",
    "\n",
    "We can also play around with parameters like the number of hidden layers or the learning rate of the AR-Net. Another change applied to this model is the loss function, now MAE instead of the default Huber loss."
   ]
  },
  {
   "cell_type": "code",
   "execution_count": null,
   "id": "shared-locking",
   "metadata": {},
   "outputs": [],
   "source": [
    "np_model_sparse_nar = NeuralProphet(n_lags=10, \n",
    "                                    n_forecasts=lead_time,\n",
    "                                    ar_reg=10,\n",
    "                                    learning_rate=5e-3,\n",
    "                                    num_hidden_layers=2,\n",
    "                                    d_hidden=16,\n",
    "                                    loss_func='MAE'\n",
    "                                    )\n",
    "\n",
    "# Add the non-target feature columns as lagged regressors\n",
    "feature_cols = [col for col in np_train_df if col not in ('USD_CLOSE', 'ds', 'y')]\n",
    "for feature in feature_cols:\n",
    "    np_model_sparse_nar.add_lagged_regressor(f'{feature}', n_lags=1)\n",
    "    \n",
    "np_model_sparse_nar.fit(np_train_df, freq='D')\n",
    "forecasts = collect_np_forecasts(np_model_sparse_nar, test_dataset)\n",
    "np_sparse_ar_error_metrics, fcs = compute_np_error_metrics(forecasts)"
   ]
  },
  {
   "cell_type": "code",
   "execution_count": null,
   "id": "middle-individual",
   "metadata": {},
   "outputs": [],
   "source": [
    "np_model_sparse_nar.plot_parameters()"
   ]
  },
  {
   "cell_type": "markdown",
   "id": "short-memorial",
   "metadata": {},
   "source": [
    "### Plot forecasts at max lead time"
   ]
  },
  {
   "cell_type": "code",
   "execution_count": null,
   "id": "isolated-corrections",
   "metadata": {
    "colab": {
     "base_uri": "https://localhost:8080/",
     "height": 175
    },
    "id": "gJszSXMA0NJO",
    "outputId": "55eff862-a844-4622-d509-d0978776eecf"
   },
   "outputs": [],
   "source": [
    "max_fcs = [{'date': fc.index[-1:][0], 'yhat':fc[-1:][0]} for fc in forecasts]\n",
    "max_fcs = pd.DataFrame(max_fcs)\n",
    "\n",
    "plt.figure(figsize=(12,3))\n",
    "plt.plot(test_df.date, test_df['USD_CLOSE'], color='blue', label='ground truth')\n",
    "plt.plot(max_fcs.date, max_fcs.yhat, color='red', label='forecast')\n",
    "plt.title(f\"Forecasts at max lead time ({lead_time} samples) - Neural Prophet Sparse\")\n",
    "plt.legend(loc='upper right')"
   ]
  },
  {
   "cell_type": "code",
   "execution_count": null,
   "id": "diagnostic-mortgage",
   "metadata": {},
   "outputs": [],
   "source": [
    "# Plot ground truth\n",
    "plt.figure(figsize=(12,3))\n",
    "ground_truth = test_df[['date', 'USD_CLOSE']]\n",
    "plt.plot(ground_truth.date, ground_truth['USD_CLOSE'], label='ground truth')\n",
    "\n",
    "# Plot example single forecast\n",
    "plt.plot(forecasts[-1], label='forecast')\n",
    "plt.legend()"
   ]
  },
  {
   "cell_type": "markdown",
   "id": "stretch-hawaiian",
   "metadata": {},
   "source": [
    "### Append evaluation metrics to `results_df`"
   ]
  },
  {
   "cell_type": "code",
   "execution_count": null,
   "id": "certain-serbia",
   "metadata": {},
   "outputs": [],
   "source": [
    "results_df = results_df.append(compute_error_statistics(np_sparse_ar_error_metrics, 'neural_prophet_sparse_ar')['mean'])\n",
    "results_df.sort_values('mae')"
   ]
  },
  {
   "cell_type": "markdown",
   "id": "joint-texture",
   "metadata": {
    "id": "J7GuAAzvwUNF"
   },
   "source": [
    "# Reflections and Next Steps\n",
    "\n",
    "So far, the best performing 'model' is the persistence forecasting model. This is, of course, an unsatisfactory result. The best performing experimental model on the exchange rates dataset is the restricted NeuralProphet model that uses only the last observation of lagged regressors as features. Of course, we have only considered a very small number of configurations using NeuralProphet, many more model and hyperparameter configurations are possible. Please refer to the [NeuralProphet documentation](https://neuralprophet.com/html/contents.html) for detailed information. However, to *find* a better configuration may require significant effort, either manual or automated (via a hyperparameter search, for example). In practical forecasting use cases, it may be important to consider the time, resources, and effort that are needed to find a forecasting model that is better than  baseline.\n",
    "\n",
    "The following notebooks in this series will cover additional models (N-BEATS and DeepAR) as well as rolling cross validation using NeuralProphet. In order to compare the out-of-sample forecasts produced by this notebook to others, the `results_df` DataFrame is saved below. Hopefully we will find a model that performs better than baseline in a continued out-of-sample evaluation experiment!"
   ]
  },
  {
   "cell_type": "markdown",
   "id": "31b269b3",
   "metadata": {},
   "source": [
    "*Note* The path here should be changed to your local drive folder in order for it to be retrieved in other notebooks. See the beginning of this notebook for context."
   ]
  },
  {
   "cell_type": "code",
   "execution_count": null,
   "id": "stunning-assistant",
   "metadata": {
    "id": "AWA0tjyfGQWD"
   },
   "outputs": [],
   "source": [
    "output_filename = \"/h/kkoch/forecasting-bootcamp/demos/exchange_rate_mean_test_metrics.csv\"\n",
    "results_df.to_csv(output_filename)"
   ]
  }
 ],
 "metadata": {
  "colab": {
   "collapsed_sections": [],
   "name": "exchange_dataset.ipynb",
   "provenance": [],
   "toc_visible": true
  },
  "interpreter": {
   "hash": "e7915587377f13d9edba30ea11b3c98d6b26a63b60775c72ad031792b92d4187"
  },
  "kernelspec": {
   "display_name": "forecasting",
   "language": "python",
   "name": "forecasting"
  },
  "language_info": {
   "codemirror_mode": {
    "name": "ipython",
    "version": 3
   },
   "file_extension": ".py",
   "mimetype": "text/x-python",
   "name": "python",
   "nbconvert_exporter": "python",
   "pygments_lexer": "ipython3",
   "version": "3.8.0"
  }
 },
 "nbformat": 4,
 "nbformat_minor": 5
}
