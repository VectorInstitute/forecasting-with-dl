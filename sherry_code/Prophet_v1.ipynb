{
 "cells": [
  {
   "cell_type": "code",
   "execution_count": 2,
   "id": "dated-publication",
   "metadata": {},
   "outputs": [],
   "source": [
    "from pytorch_forecasting import NBeats"
   ]
  },
  {
   "cell_type": "code",
   "execution_count": 3,
   "id": "raised-casting",
   "metadata": {},
   "outputs": [
    {
     "name": "stdout",
     "output_type": "stream",
     "text": [
      "boc_exchange\t exchange_rate\t\t  store-sales-time-series-forecasting\r\n",
      "can_weather\t illness\t\t  traffic\r\n",
      "connex_ontario\t m5-forecasting-accuracy  weather\r\n",
      "cpi_forecasting  physionet.org\t\t  weather_bench\r\n",
      "electricity\t rbc_cpi_data\r\n",
      "ETT-small\t rbc_cpi_datasets\r\n"
     ]
    }
   ],
   "source": [
    "!ls /ssd003/projects/forecasting_bootcamp/bootcamp_datasets"
   ]
  },
  {
   "cell_type": "code",
   "execution_count": 1,
   "id": "controlled-columbus",
   "metadata": {},
   "outputs": [],
   "source": [
    "if 'google.colab' in str(get_ipython()):\n",
    "    !pip install prophet\n",
    "    !pip install git+https://github.com/ourownstory/neural_prophet.git # may take a while\n",
    "    #!pip install neuralprophet # much faster, but may not have the latest upgrades/bugfixes\n",
    "    !pip install sktime\n",
    "    "
   ]
  },
  {
   "cell_type": "code",
   "execution_count": 2,
   "id": "solved-little",
   "metadata": {},
   "outputs": [],
   "source": [
    "import matplotlib.pyplot as plt\n",
    "import seaborn as sns\n",
    "import numpy as np\n",
    "import pandas as pd\n",
    "from sktime.forecasting.naive import NaiveForecaster\n",
    "from prophet import Prophet\n",
    "from neuralprophet import NeuralProphet"
   ]
  },
  {
   "cell_type": "markdown",
   "id": "surgical-commerce",
   "metadata": {},
   "source": [
    "## Load data "
   ]
  },
  {
   "cell_type": "code",
   "execution_count": null,
   "id": "cleared-protocol",
   "metadata": {},
   "outputs": [],
   "source": []
  }
 ],
 "metadata": {
  "kernelspec": {
   "display_name": "forecasting",
   "language": "python",
   "name": "forecasting"
  },
  "language_info": {
   "codemirror_mode": {
    "name": "ipython",
    "version": 3
   },
   "file_extension": ".py",
   "mimetype": "text/x-python",
   "name": "python",
   "nbconvert_exporter": "python",
   "pygments_lexer": "ipython3",
   "version": "3.8.0"
  }
 },
 "nbformat": 4,
 "nbformat_minor": 5
}
