{
 "cells": [
  {
   "cell_type": "code",
   "execution_count": 2,
   "id": "dated-publication",
   "metadata": {},
   "outputs": [],
   "source": [
    "from pytorch_forecasting import NBeats"
   ]
  },
  {
   "cell_type": "code",
   "execution_count": 3,
   "id": "raised-casting",
   "metadata": {},
   "outputs": [
    {
     "name": "stdout",
     "output_type": "stream",
     "text": [
      "boc_exchange\t exchange_rate\t\t  store-sales-time-series-forecasting\r\n",
      "can_weather\t illness\t\t  traffic\r\n",
      "connex_ontario\t m5-forecasting-accuracy  weather\r\n",
      "cpi_forecasting  physionet.org\t\t  weather_bench\r\n",
      "electricity\t rbc_cpi_data\r\n",
      "ETT-small\t rbc_cpi_datasets\r\n"
     ]
    }
   ],
   "source": [
    "!ls /ssd003/projects/forecasting_bootcamp/bootcamp_datasets"
   ]
  },
  {
   "cell_type": "code",
   "execution_count": null,
   "id": "controlled-columbus",
   "metadata": {},
   "outputs": [],
   "source": []
  }
 ],
 "metadata": {
  "kernelspec": {
   "display_name": "forecasting",
   "language": "python",
   "name": "forecasting"
  },
  "language_info": {
   "codemirror_mode": {
    "name": "ipython",
    "version": 3
   },
   "file_extension": ".py",
   "mimetype": "text/x-python",
   "name": "python",
   "nbconvert_exporter": "python",
   "pygments_lexer": "ipython3",
   "version": "3.8.0"
  }
 },
 "nbformat": 4,
 "nbformat_minor": 5
}
